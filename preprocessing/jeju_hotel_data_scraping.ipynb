{
 "cells": [
  {
   "cell_type": "markdown",
   "id": "female-carpet",
   "metadata": {},
   "source": [
    "### Hotel in Jeju Data\n",
    "- '부킹닷컴'의 제주 내 호텔 성급, 가격, 위치, 후기를 스크래핑합니다."
   ]
  },
  {
   "cell_type": "code",
   "execution_count": 84,
   "id": "raised-principal",
   "metadata": {},
   "outputs": [],
   "source": [
    "from selenium import webdriver\n",
    "from bs4 import BeautifulSoup\n",
    "from time import sleep\n",
    "import re"
   ]
  },
  {
   "cell_type": "code",
   "execution_count": 85,
   "id": "pleased-forest",
   "metadata": {},
   "outputs": [],
   "source": [
    "url = 'https://www.booking.com/searchresults.ko.html?aid=376440&label=bdot-SIcScZhJX6z_*YtUYg62hwS267777897793%3Apl%3Ata%3Ap1%3Ap22%2C563%2C000%3Aac%3Aap%3Aneg%3Afi%3Atikwd-325272469656%3Alp1009871%3Ali%3Adec%3Adm%3Appccp%3DUmFuZG9tSVYkc2RlIyh9YUlRwjG4dAJkHxCuUKVzpFo&sid=857a41f185409d9f6d0c6b4d32c4534e&sb=1&src=searchresults&src_elem=sb&error_url=https%3A%2F%2Fwww.booking.com%2Fsearchresults.ko.html%3Faid%3D376440%3Blabel%3Dbdot-SIcScZhJX6z_%252AYtUYg62hwS267777897793%253Apl%253Ata%253Ap1%253Ap22%252C563%252C000%253Aac%253Aap%253Aneg%253Afi%253Atikwd-325272469656%253Alp1009871%253Ali%253Adec%253Adm%253Appccp%253DUmFuZG9tSVYkc2RlIyh9YUlRwjG4dAJkHxCuUKVzpFo%3Bsid%3D857a41f185409d9f6d0c6b4d32c4534e%3Btmpl%3Dsearchresults%3Bcity%3D-714191%3Bclass_interval%3D1%3Bdest_id%3D-714191%3Bdest_type%3Dcity%3Bdr_ps%3DIDR%3Bdtdisc%3D0%3Bfrom_idr%3D1%3Bilp%3D1%3Binac%3D0%3Bindex_postcard%3D0%3Blabel_click%3Dundef%3Boffset%3D0%3Bpostcard%3D0%3Broom1%3DA%252CA%3Bsb_price_type%3Dtotal%3Bshw_aparth%3D1%3Bslp_r_match%3D0%3Bsrpvid%3De02638be83480079%3Bss_all%3D0%3Bssb%3Dempty%3Bsshis%3D0%3Btop_ufis%3D1%26%3B&ss=%EC%A0%9C%EC%A3%BC&is_ski_area=0&ssne=%EC%A0%9C%EC%A3%BC&ssne_untouched=%EC%A0%9C%EC%A3%BC&city=-714191&checkin_year=2021&checkin_month=4&checkin_monthday=24&checkout_year=2021&checkout_month=4&checkout_monthday=25&group_adults=2&group_children=0&no_rooms=1&from_sf=1'\n",
    "path = '/Users/seyoung/2021/dss17/eda_etc/chromedriver'\n",
    "driver = webdriver.Chrome(path)\n",
    "driver.get(url)\n",
    "\n",
    "source = driver.page_source\n",
    "soup = BeautifulSoup(source, 'html.parser')"
   ]
  },
  {
   "cell_type": "code",
   "execution_count": 86,
   "id": "eastern-conspiracy",
   "metadata": {},
   "outputs": [
    {
     "data": {
      "text/plain": [
       "<selenium.webdriver.remote.webelement.WebElement (session=\"f28626a566bf4f9a3a1defef391976b0\", element=\"15ade5b5-bda1-4e7e-96dc-90bc0bb8dc6c\")>"
      ]
     },
     "execution_count": 86,
     "metadata": {},
     "output_type": "execute_result"
    }
   ],
   "source": [
    "page_bar = driver.find_elements_by_css_selector('#search_results_table > div.bui-pagination.results-paging_simplified.js-results-paging > nav > ul > li.bui-pagination__pages > ul')[0]\n",
    "page_bar"
   ]
  },
  {
   "cell_type": "code",
   "execution_count": 87,
   "id": "focal-coffee",
   "metadata": {},
   "outputs": [
    {
     "name": "stdout",
     "output_type": "stream",
     "text": [
      "1\n",
      "2\n",
      "3\n",
      "4\n",
      "5\n",
      "9\n"
     ]
    }
   ],
   "source": [
    "# 전체 페이지 개수 확인\n",
    "pages = page_bar.find_elements_by_css_selector('a > div.bui-u-inline')\n",
    "last_pages = ''\n",
    "\n",
    "for idx, page in enumerate(pages):\n",
    "    print(page.text)\n",
    "    if idx == len(pages)-1: # 마지막 페이지\n",
    "        last_pages = page.text\n"
   ]
  },
  {
   "cell_type": "code",
   "execution_count": 88,
   "id": "tested-writing",
   "metadata": {},
   "outputs": [],
   "source": [
    "def get_curr():\n",
    "    curr_page = driver.find_elements_by_css_selector('#search_results_table > div.bui-pagination.results-paging_simplified.js-results-paging > nav > ul > li.bui-pagination__pages > ul > li.bui-pagination__item.bui-pagination__item--active.sr_pagination_item.current > a > div.bui-u-inline')[0]\n",
    "    \n",
    "    return int(curr_page.text)"
   ]
  },
  {
   "cell_type": "code",
   "execution_count": 89,
   "id": "authentic-ireland",
   "metadata": {},
   "outputs": [],
   "source": [
    "# 성급 (성급이 표시되지 않은 호텔 제외)\n",
    "def get_stars(listed):\n",
    "    stars = []\n",
    "\n",
    "    for i in range(1, len(listed)):\n",
    "        try:\n",
    "            like = driver.find_element_by_xpath('//*[@id=\"hotellist_inner\"]/div['+ str(i) +']/div[2]/div[1]/div[1]/div[1]/span/span[1]/span/span')\n",
    "            a = like.get_attribute('aria-label')\n",
    "            stars.append(a[0])\n",
    "            \n",
    "        # 성급이 표시되지 않는 호텔 \n",
    "        except Exception as NoSuchElementException:\n",
    "            stars.append('')\n",
    "    \n",
    "    return stars"
   ]
  },
  {
   "cell_type": "code",
   "execution_count": 91,
   "id": "weird-tradition",
   "metadata": {},
   "outputs": [],
   "source": [
    "def get_prices(listed):\n",
    "    prices = []\n",
    "    \n",
    "    for i in range(1, len(listed)):\n",
    "        try:\n",
    "            price = listed[0].find_elements_by_xpath('//*[@id=\"hotellist_inner\"]/div['+ str(i) +']/div[2]/div[2]/div/div/div/div/div[2]/div[1]/div[2]/div/div')[0]\n",
    "            base_price = listed[0].find_elements_by_xpath('//*[@id=\"hotellist_inner\"]/div['+ str(i) +']/div[2]/div[2]/div/div/div/div/div[2]/div[1]/div[2]/div/span')[0]\n",
    "            \n",
    "            # strong label로 표시된 가격 포함\n",
    "            if base_price.text == '':\n",
    "                base_price = listed[0].find_elements_by_xpath('//*[@id=\"hotellist_inner\"]/div[' + str(i) + ']/div[2]/div[2]/div/table/tbody/tr/td[2]/div[2]/strong/label')[0]\n",
    "            \n",
    "            prices.append(base_price.text)\n",
    "            \n",
    "        # 중간 베너 제외\n",
    "        except Exception as IndexError:\n",
    "            prices.append('')\n",
    "            \n",
    "    return prices"
   ]
  },
  {
   "cell_type": "code",
   "execution_count": 92,
   "id": "packed-transmission",
   "metadata": {},
   "outputs": [],
   "source": [
    "def get_names(listed):\n",
    "    names = []\n",
    "    \n",
    "    for i in range(1, len(listed)):\n",
    "        try:\n",
    "            name = listed[0].find_elements_by_xpath('//*[@id=\"hotellist_inner\"]/div['+ str(i) +']/div[2]/div[1]/div[1]/div[1]/h3/a/span[1]')[0]\n",
    "            names.append(name.text)\n",
    "            \n",
    "        # 중간 베너 제외\n",
    "        except Exception as IndexError:\n",
    "            names.append('')\n",
    "            \n",
    "    return names"
   ]
  },
  {
   "cell_type": "code",
   "execution_count": 93,
   "id": "retired-jamaica",
   "metadata": {},
   "outputs": [
    {
     "data": {
      "text/plain": [
       "[('그랜드 하얏트 제주', '5', ''),\n",
       " ('메종 글래드 제주', '5', '기존 요금 ₩205,124 현재 요금 ₩133,250'),\n",
       " ('롯데시티호텔 제주', '4', '요금 ₩167,200'),\n",
       " ('신라스테이 제주', '4', '기존 요금 ₩242,637 현재 요금 ₩145,200'),\n",
       " ('라마다 프라자 호텔', '5', '₩164,877'),\n",
       " ('', '', ''),\n",
       " ('라마다 제주시티호텔', '4', '기존 요금 ₩94,956 현재 요금 ₩80,750'),\n",
       " ('호텔 리젠트 마린 더블루', '4', '기존 요금 ₩217,500 현재 요금 ₩87,000'),\n",
       " ('캠퍼트리 호텔 & 리조트', '', '기존 요금 ₩260,158 현재 요금 ₩158,860'),\n",
       " ('베스트웨스턴 제주호텔', '4', '기존 요금 ₩150,000 현재 요금 ₩75,000'),\n",
       " ('호텔 휘슬락', '4', '기존 요금 ₩300,018 현재 요금 ₩75,000'),\n",
       " ('호텔난타 제주', '4', '기존 요금 ₩291,000 현재 요금 ₩87,300'),\n",
       " ('유탑유블레스호텔 제주', '4', '기존 요금 ₩260,006 현재 요금 ₩111,800'),\n",
       " ('호텔 시리우스', '4', '기존 요금 ₩88,000 현재 요금 ₩77,440'),\n",
       " ('오션스위츠 제주 호텔', '4', '요금 ₩85,000'),\n",
       " ('제주 마레보 비치 호텔', '3', '요금 ₩139,200'),\n",
       " ('아스타호텔', '4', '기존 요금 ₩159,000 현재 요금 ₩69,960'),\n",
       " ('탐라스테이 호텔 제주', '4', '요금 ₩77,000'),\n",
       " ('제주선샤인호텔', '3', '기존 요금 ₩57,240 현재 요금 ₩53,806'),\n",
       " ('호텔 위드 제주', '4', '기존 요금 ₩67,000 현재 요금 ₩58,960'),\n",
       " ('벤티모 호텔 앤 레지던스 제주', '4', ''),\n",
       " ('제주 칼호텔', '5', '요금 ₩93,500'),\n",
       " ('제주 아길라 호텔 오시아노 스위츠', '3', '요금 ₩133,650'),\n",
       " ('유니호텔제주', '4', '기존 요금 ₩183,966 현재 요금 ₩110,264'),\n",
       " ('호텔 레오', '4', '요금 ₩76,190')]"
      ]
     },
     "execution_count": 93,
     "metadata": {},
     "output_type": "execute_result"
    }
   ],
   "source": [
    "def data_scraping():\n",
    "    res_stars = []\n",
    "    res_names = []\n",
    "    res_prices = []\n",
    "    \n",
    "    root_div = driver.find_elements_by_css_selector('#hotellist_inner')[0]\n",
    "    # 한 페이지당 호출되는 목록 수\n",
    "    listed = root_div.find_elements_by_xpath('//*[@id=\"hotellist_inner\"]/div')\n",
    "    \n",
    "    res_stars = get_stars(listed)\n",
    "    res_names = get_names(listed)\n",
    "    res_prices = get_prices(listed)\n",
    "              \n",
    "    return list(zip(res_names, res_stars, res_prices))\n",
    "\n",
    "data_scraping()"
   ]
  },
  {
   "cell_type": "code",
   "execution_count": 94,
   "id": "current-panama",
   "metadata": {},
   "outputs": [
    {
     "name": "stdout",
     "output_type": "stream",
     "text": [
      "[('그랜드 하얏트 제주', '5', ''), ('메종 글래드 제주', '5', '기존 요금 ₩205,124 현재 요금 ₩133,250'), ('롯데시티호텔 제주', '4', '요금 ₩167,200'), ('신라스테이 제주', '4', '기존 요금 ₩242,637 현재 요금 ₩145,200'), ('라마다 프라자 호텔', '5', '₩164,877'), ('', '', ''), ('라마다 제주시티호텔', '4', '기존 요금 ₩94,956 현재 요금 ₩80,750'), ('호텔 리젠트 마린 더블루', '4', '기존 요금 ₩217,500 현재 요금 ₩87,000'), ('캠퍼트리 호텔 & 리조트', '', '기존 요금 ₩260,158 현재 요금 ₩158,860'), ('베스트웨스턴 제주호텔', '4', '기존 요금 ₩150,000 현재 요금 ₩75,000'), ('호텔 휘슬락', '4', '기존 요금 ₩300,018 현재 요금 ₩75,000'), ('호텔난타 제주', '4', '기존 요금 ₩291,000 현재 요금 ₩87,300'), ('유탑유블레스호텔 제주', '4', '기존 요금 ₩260,006 현재 요금 ₩111,800'), ('호텔 시리우스', '4', '기존 요금 ₩88,000 현재 요금 ₩77,440'), ('오션스위츠 제주 호텔', '4', '요금 ₩85,000'), ('제주 마레보 비치 호텔', '3', '요금 ₩139,200'), ('아스타호텔', '4', '기존 요금 ₩159,000 현재 요금 ₩69,960'), ('탐라스테이 호텔 제주', '4', '요금 ₩77,000'), ('제주선샤인호텔', '3', '기존 요금 ₩57,240 현재 요금 ₩53,806'), ('호텔 위드 제주', '4', '기존 요금 ₩67,000 현재 요금 ₩58,960'), ('벤티모 호텔 앤 레지던스 제주', '4', ''), ('제주 칼호텔', '5', '요금 ₩93,500'), ('제주 아길라 호텔 오시아노 스위츠', '3', '요금 ₩133,650'), ('유니호텔제주', '4', '기존 요금 ₩183,966 현재 요금 ₩110,264'), ('호텔 레오', '4', '요금 ₩76,190')]\n",
      "1 페이지 완료\n",
      "[('제주 센트럴 시티호텔', '3', '₩59,248'), ('블루 하와이 호텔', '3', '요금 ₩50,000'), ('제주 리치호텔', '3', '요금 ₩85,860'), ('에코 그린 리조트 & 풀 빌라', '3', ''), ('제주오리엔탈호텔 & 카지노', '5', '요금 ₩74,000'), ('', '', ''), ('블루 스프링 호텔', '3', '기존 요금 ₩91,170 현재 요금 ₩85,700'), ('아시아 호텔(구. 아비아호텔)', '4', '기존 요금 ₩54,900 현재 요금 ₩48,312'), ('호텔 더원', '4', '기존 요금 ₩71,000 현재 요금 ₩62,480'), ('호텔 메르블루', '', '기존 요금 ₩269,894 현재 요금 ₩154,817'), ('제주 하바나 리조트', '4', '기존 요금 ₩79,000 현재 요금 ₩69,520'), ('팜파스 호텔 제주', '3', '요금 ₩53,000'), ('르메인 호텔', '', ''), ('빨간풍차펜션', '3', ''), ('제주 마레보 리조트', '4', '요금 ₩141,000'), ('펄 호텔 제주', '3', '기존 요금 ₩37,200 현재 요금 ₩34,968'), ('스타즈 호텔 제주 로베로', '3', '기존 요금 ₩55,000 현재 요금 ₩51,700'), ('제주 라온호텔 앤 리조트', '4', '기존 요금 ₩56,700 현재 요금 ₩49,896'), ('제주 노블레스 관광호텔', '3', '요금 ₩74,000'), ('씨스테이 호텔', '3', '기존 요금 ₩107,100 현재 요금 ₩100,674'), ('제주 다인 리조트', '3', '₩68,206'), ('R&T 호텔', '3', '기존 요금 ₩37,900 현재 요금 ₩35,626'), ('월정리 루나마르 펜션', '3', '기존 요금 ₩110,000 현재 요금 ₩103,400'), ('제주 리조트', '', '₩92,801'), ('엘린 호텔', '3', '요금 ₩46,800')]\n",
      "2 페이지 완료\n",
      "[('수앤수 리조트', '3', '기존 요금 ₩87,846 현재 요금 ₩79,200'), ('오션 그랜드 호텔', '3', '요금 ₩64,800'), ('그림리조트', '2', '요금 ₩59,000'), ('제주 파크사이드 관광 호텔', '3', '기존 요금 ₩43,700 현재 요금 ₩41,078'), ('호텔 화이트 하우스', '3', '요금 ₩72,000'), ('', '', ''), ('카스독채펜션', '3', '기존 요금 ₩287,000 현재 요금 ₩269,780'), ('로빈앤블루', '3', '기존 요금 ₩109,000 현재 요금 ₩102,460'), ('아르츠 스파&풀빌라', '', '기존 요금 ₩222,000 현재 요금 ₩208,680'), ('제주 해호텔', '2', '요금 ₩34,200'), ('제주펄리호텔', '3', '요금 ₩38,000'), ('J2 패밀리 호텔', '2', '요금 ₩60,000'), ('탑스텐 빌라 드 애월', '4', '기존 요금 ₩109,836 현재 요금 ₩96,656'), ('어반 아일랜드 호텔 제주', '4', '₩52,586'), ('오드리 인', '3', '기존 요금 ₩57,000 현재 요금 ₩53,580'), ('블루 하와이 리조트', '3', '기존 요금 ₩54,000 현재 요금 ₩50,760'), ('제주 팔레스호텔', '3', '기존 요금 ₩52,750 현재 요금 ₩49,585'), ('켄싱턴리조트 제주한림', '4', '요금 ₩199,000'), ('제주 크리스마스리조트', '', '기존 요금 ₩108,500 현재 요금 ₩101,990'), ('제주 별헤는밤 글램핑', '3', ''), ('엘로망 펜션', '4', '기존 요금 ₩92,793 현재 요금 ₩37,506'), ('뉴 아일랜드 호텔', '3', ''), ('더 스테이 센츄리 호텔', '3', '요금 ₩49,000'), ('한화리조트 제주', '3', '₩148,725'), ('용스테이', '', '기존 요금 ₩42,980 현재 요금 ₩34,357')]\n",
      "3 페이지 완료\n",
      "[('', '', ''), ('', '3', ''), ('', '3', ''), ('', '3', ''), ('', '3', ''), ('', '', ''), ('', '3', ''), ('', '3', ''), ('', '', ''), ('', '4', ''), ('', '3', ''), ('', '4', ''), ('', '3', ''), ('', '', ''), ('', '', ''), ('', '', ''), ('', '4', ''), ('', '3', ''), ('', '3', ''), ('', '', ''), ('', '2', ''), ('', '', ''), ('', '3', ''), ('', '3', ''), ('', '3', '')]\n",
      "4 페이지 완료\n",
      "[('', '3', ''), ('', '3', ''), ('', '3', ''), ('', '3', ''), ('', '3', ''), ('', '', ''), ('', '3', ''), ('', '', ''), ('', '3', ''), ('', '4', ''), ('', '', ''), ('', '', ''), ('', '3', ''), ('', '3', ''), ('', '3', ''), ('', '', ''), ('', '', ''), ('', '4', ''), ('', '3', ''), ('', '3', ''), ('', '', ''), ('', '', ''), ('', '', ''), ('', '3', ''), ('', '3', '')]\n",
      "5 페이지 완료\n",
      "[('부띠크풀빌라 나미브', '', '기존 요금 ₩1,000,000 현재 요금 ₩400,000'), ('스카이 호텔', '3', '기존 요금 ₩49,000 현재 요금 ₩46,060'), ('제주 스페샬 펜션', '3', '기존 요금 ₩60,000 현재 요금 ₩56,400'), ('라파로마 펜션', '3', '기존 요금 ₩49,000 현재 요금 ₩46,060'), ('와락 게스트하우스', '1', '기존 요금 ₩60,000 현재 요금 ₩52,800'), ('', '', ''), ('호텔 포시즌', '3', '기존 요금 ₩78,503 현재 요금 ₩33,206'), ('해나 게스트하우스', '', '기존 요금 ₩60,000 현재 요금 ₩56,400'), ('홍양펜션', '3', '요금 ₩81,900'), ('노형 호텔', '2', '₩51,465'), ('스타하우스', '3', '기존 요금 ₩28,000 현재 요금 ₩26,320'), ('도두봉 호텔 Dodubong Hotel', '3', ''), ('제주 하늬바람 펜션', '3', ''), ('갤러리 호텔 비', '3', '기존 요금 ₩70,184 현재 요금 ₩39,480'), ('대동 호텔', '3', '₩47,413'), ('배배 게스트하우스', '3', '기존 요금 ₩60,000 현재 요금 ₩56,400'), ('수지 게스트하우스', '', '요금 ₩48,000'), ('준 하우스', '', '요금 ₩50,000'), ('pm6 Jeju Pension', '3', '요금 ₩60,000'), ('제주 필 하우스', '3', '기존 요금 ₩65,000 현재 요금 ₩61,100'), ('곶자왈 거문오름펜션', '3', '기존 요금 ₩75,000 현재 요금 ₩70,500'), ('뉴 제주호텔', '2', '기존 요금 ₩70,000 현재 요금 ₩30,800'), ('제주 르네상스 호텔', '', '기존 요금 ₩60,000 현재 요금 ₩56,400'), ('참피온 호텔', '2', '요금 ₩32,000'), ('예하 게스트하우스', '', '요금 ₩60,000')]\n",
      "6 페이지 완료\n",
      "[('제주 아시아펜션', '3', '기존 요금 ₩25,500 현재 요금 ₩23,970'), ('제주 토비스 콘도 오션동', '', '기존 요금 ₩90,000 현재 요금 ₩84,600'), ('제주 해품달 펜션', '3', '기존 요금 ₩300,296 현재 요금 ₩225,600'), ('일성 제주콘도미디엄', '', '기존 요금 ₩98,000 현재 요금 ₩92,120'), ('제주 오름펜션', '3', '기존 요금 ₩49,400 현재 요금 ₩46,436'), ('', '', ''), ('동복리671', '3', '기존 요금 ₩100,263 현재 요금 ₩56,400'), ('부띠크 제주민박 살롱 드 탱자', '3', '기존 요금 ₩75,000 현재 요금 ₩70,500'), ('하버 호텔', '3', '₩54,159'), ('선양 빌리지 펜션', '3', '기존 요금 ₩220,000 현재 요금 ₩206,800'), ('애월바다호텔 제주', '3', '₩57,487'), ('메가 리조트', '', '기존 요금 ₩60,000 현재 요금 ₩56,400'), ('허브인펜션', '3', '기존 요금 ₩49,900 현재 요금 ₩46,906'), ('제주 삼다 호스텔', '', '₩37,476'), ('심스 호텔', '', '₩44,935'), ('쉬멍놀멍 게스트하우스 & 펜션', '', '요금 ₩75,000'), ('Milgam Central Hotel', '3', '기존 요금 ₩28,000 현재 요금 ₩26,320'), ('노블레스 호텔', '3', '요금 ₩60,000'), ('제주 또올레 펜션', '3', '기존 요금 ₩80,000 현재 요금 ₩75,200'), ('메이저 호텔 2', '2', '요금 ₩60,000'), ('농부와 돌집펜션', '3', '기존 요금 ₩249,595 현재 요금 ₩159,800'), ('비자림 리조트', '', '기존 요금 ₩80,211 현재 요금 ₩45,120'), ('라움 호텔', '3', '요금 ₩45,000'), ('비스타 리조트 제주', '3', '기존 요금 ₩160,000 현재 요금 ₩150,400'), ('안녕프로젝트 게스트하우스', '', '요금 ₩60,000')]\n",
      "7 페이지 완료\n",
      "[('나비스 호텔', '3', '기존 요금 ₩36,000 현재 요금 ₩33,840'), ('UTS Village', '3', '기존 요금 ₩99,888 현재 요금 ₩65,800'), ('하모니 리조트', '1', '기존 요금 ₩172,900 현재 요금 ₩152,152'), ('제주 갤럭시 호텔', '3', ''), ('제주 오라 스테이 호텔', '', '기존 요금 ₩55,145 현재 요금 ₩31,020'), ('', '', ''), ('트윈스호텔', '2', '기존 요금 ₩27,000 현재 요금 ₩23,760'), ('호텔 스카이파크 제주 1', '', '요금 ₩73,760'), ('Starlight House', '3', '요금 ₩40,000'), ('우도 사랑채 민박', '3', '요금 ₩70,000'), ('W호텔 탑동', '3', '기존 요금 ₩65,000 현재 요금 ₩61,100'), ('고고애월', '', '기존 요금 ₩30,000 현재 요금 ₩28,200'), ('레프트핸더 게스트하우스', '', '기존 요금 ₩80,000 현재 요금 ₩75,200'), ('제주 오션 패밀리 호텔', '', ''), ('바오젠 게스트하우스', '', '기존 요금 ₩39,500 현재 요금 ₩37,130'), ('백록담펜션', '3', '기존 요금 ₩49,500 현재 요금 ₩46,530'), ('아침하늘펜션', '3', '기존 요금 ₩64,000 현재 요금 ₩60,160'), ('선양 빌리지 돔 카라반', '3', '기존 요금 ₩60,000 현재 요금 ₩56,400'), ('제주 와요 펜션', '3', '요금 ₩44,900'), ('계룡길벽돌가', '4', '기존 요금 ₩79,829 현재 요금 ₩49,632'), ('Hannahstay in Jeju Guesthouse', '', '기존 요금 ₩60,000 현재 요금 ₩56,400'), ('국제 호텔 제주', '2', '기존 요금 ₩39,425 현재 요금 ₩34,694'), ('탐라지오 레지던스 호텔', '', '₩47,357'), ('제주 리조텔', '', '기존 요금 ₩80,000 현재 요금 ₩37,600'), ('꽃머채 펜션', '3', '기존 요금 ₩59,000 현재 요금 ₩55,460')]\n",
      "8 페이지 완료\n",
      "[('', '3', ''), ('', '3', ''), ('', '1', ''), ('', '', ''), ('', '', ''), ('', '', ''), ('', '', ''), ('', '', ''), ('', '', ''), ('', '2', ''), ('', '2', ''), ('', '3', ''), ('', '3', ''), ('', '', ''), ('', '3', ''), ('', '', ''), ('', '', ''), ('', '', ''), ('', '', ''), ('', '', ''), ('', '', ''), ('', '', ''), ('', '', ''), ('', '', ''), ('', '', '')]\n"
     ]
    }
   ],
   "source": [
    "def get_hotelDatas():\n",
    "    raw_datas = []\n",
    "    \n",
    "    # 스크래핑 페이지 범위 (현재 페이지 ~ 마지막 페이지)\n",
    "    while get_curr() <= int(last_pages):\n",
    "        # scraping\n",
    "        result = data_scraping()\n",
    "        raw_datas.append(result)\n",
    "        print(result)\n",
    "\n",
    "        if get_curr() == int(last_pages):\n",
    "            break\n",
    "\n",
    "        curr_page = driver.find_elements_by_css_selector('#search_results_table > div.bui-pagination.results-paging_simplified.js-results-paging > nav > ul > li.bui-pagination__pages > ul > li.bui-pagination__item.bui-pagination__item--active.sr_pagination_item.current > a > div.bui-u-inline')[0]\n",
    "        print(curr_page.text,\"페이지 완료\")\n",
    "\n",
    "        move_next = driver.find_elements_by_css_selector('#search_results_table > div.bui-pagination.results-paging_simplified.js-results-paging > nav > ul > li.bui-pagination__item.bui-pagination__next-arrow > a')[0]\n",
    "        move_next.send_keys('\\n')\n",
    "\n",
    "        driver.implicitly_wait(1)\n",
    "        time.sleep(1+random.uniform(0,1))\n",
    "        \n",
    "    return raw_datas"
   ]
  },
  {
   "cell_type": "markdown",
   "id": "incident-mixture",
   "metadata": {},
   "source": [
    "---"
   ]
  },
  {
   "cell_type": "code",
   "execution_count": 1,
   "id": "informal-warning",
   "metadata": {},
   "outputs": [],
   "source": [
    "# 한글 설정\n",
    "import matplotlib.pyplot as plt\n",
    "%matplotlib inline\n",
    "\n",
    "from matplotlib import font_manager, rc\n",
    "plt.rcParams['axes.unicode_minus'] = False\n",
    "\n",
    "f_path = \"/Users/seyoung/Library/Fonts/AppleGothic.ttf\"\n",
    "font_name = font_manager.FontProperties(fname=f_path).get_name()\n",
    "rc('font', family=font_name)"
   ]
  }
 ],
 "metadata": {
  "kernelspec": {
   "display_name": "Python 3",
   "language": "python",
   "name": "python3"
  },
  "language_info": {
   "codemirror_mode": {
    "name": "ipython",
    "version": 3
   },
   "file_extension": ".py",
   "mimetype": "text/x-python",
   "name": "python",
   "nbconvert_exporter": "python",
   "pygments_lexer": "ipython3",
   "version": "3.9.1"
  }
 },
 "nbformat": 4,
 "nbformat_minor": 5
}
