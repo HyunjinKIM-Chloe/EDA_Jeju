{
 "cells": [
  {
   "cell_type": "markdown",
   "id": "female-carpet",
   "metadata": {},
   "source": [
    "### Hotel in Jeju Data\n",
    "- '부킹닷컴'의 제주 내 호텔 성급, 가격, 위치, 후기를 스크래핑합니다."
   ]
  },
  {
   "cell_type": "code",
   "execution_count": 100,
   "id": "raised-principal",
   "metadata": {},
   "outputs": [],
   "source": [
    "from selenium import webdriver\n",
    "from bs4 import BeautifulSoup\n",
    "from time import sleep"
   ]
  },
  {
   "cell_type": "code",
   "execution_count": 166,
   "id": "pleased-forest",
   "metadata": {},
   "outputs": [],
   "source": [
    "url = 'https://www.booking.com/searchresults.ko.html?aid=376440;label=bdot-SIcScZhJX6z_%2AYtUYg62hwS267777897793%3Apl%3Ata%3Ap1%3Ap22%2C563%2C000%3Aac%3Aap%3Aneg%3Afi%3Atikwd-325272469656%3Alp1009871%3Ali%3Adec%3Adm%3Appccp%3DUmFuZG9tSVYkc2RlIyh9YUlRwjG4dAJkHxCuUKVzpFo;sid=febadbcd7e51aee26acbfeeea6e8299e;city=-714191;from_idr=1;srpvid=7a6d467b344501c5&;dr_ps=IDR;ilp=1;d_dcp=1'\n",
    "path = '/Users/seyoung/2021/dss17/eda_etc/chromedriver'\n",
    "driver = webdriver.Chrome(path)\n",
    "driver.get(url)\n",
    "\n",
    "source = driver.page_source\n",
    "soup = BeautifulSoup(source, 'html.parser')"
   ]
  },
  {
   "cell_type": "code",
   "execution_count": 167,
   "id": "eastern-conspiracy",
   "metadata": {},
   "outputs": [
    {
     "data": {
      "text/plain": [
       "<selenium.webdriver.remote.webelement.WebElement (session=\"0932387b8ab6276477a452a337a8afc3\", element=\"df32c89a-a76e-4cbe-9bd7-dabac9d80417\")>"
      ]
     },
     "execution_count": 167,
     "metadata": {},
     "output_type": "execute_result"
    }
   ],
   "source": [
    "page_bar = driver.find_elements_by_css_selector('#search_results_table > div.bui-pagination.results-paging_simplified.js-results-paging > nav > ul > li.bui-pagination__pages > ul')[0]\n",
    "page_bar"
   ]
  },
  {
   "cell_type": "code",
   "execution_count": 163,
   "id": "focal-coffee",
   "metadata": {},
   "outputs": [
    {
     "name": "stdout",
     "output_type": "stream",
     "text": [
      "1\n",
      "2\n",
      "3\n",
      "4\n",
      "5\n",
      "12\n"
     ]
    }
   ],
   "source": [
    "# 전체 페이지 개수 확인\n",
    "pages = page_bar.find_elements_by_css_selector('a > div.bui-u-inline')\n",
    "last_pages = ''\n",
    "\n",
    "for idx, page in enumerate(pages):\n",
    "    print(page.text)\n",
    "    if idx == len(pages)-1: # 마지막 페이지\n",
    "        last_pages = page.text\n"
   ]
  },
  {
   "cell_type": "code",
   "execution_count": 174,
   "id": "tested-writing",
   "metadata": {},
   "outputs": [],
   "source": [
    "def get_curr():\n",
    "    driver.implicitly_wait(2)\n",
    "    time.sleep(2+random.uniform(0,1))\n",
    "\n",
    "    curr_page = driver.find_elements_by_css_selector('#search_results_table > div.bui-pagination.results-paging_simplified.js-results-paging > nav > ul > li.bui-pagination__pages > ul > li.bui-pagination__item.bui-pagination__item--active.sr_pagination_item.current > a > div.bui-u-inline')[0]\n",
    "    \n",
    "    return int(curr_page.text)"
   ]
  },
  {
   "cell_type": "code",
   "execution_count": 175,
   "id": "loose-trader",
   "metadata": {},
   "outputs": [
    {
     "name": "stdout",
     "output_type": "stream",
     "text": [
      "나비스 호텔 ['3', '1', '3', '4', '3', ' ', '2', ' ', '3', '3', ' ', ' ', ' ', ' ', ' ', ' ', ' ', ' ', ' ', '3', '3', '3', '3', '3', ' ']\n",
      "하모니 리조트 ['3', '1', '3', '4', '3', ' ', '2', ' ', '3', '3', ' ', ' ', ' ', ' ', ' ', ' ', ' ', ' ', ' ', '3', '3', '3', '3', '3', ' ']\n",
      "UTS Village ['3', '1', '3', '4', '3', ' ', '2', ' ', '3', '3', ' ', ' ', ' ', ' ', ' ', ' ', ' ', ' ', ' ', '3', '3', '3', '3', '3', ' ']\n",
      "바다위에펜션 ['3', '1', '3', '4', '3', ' ', '2', ' ', '3', '3', ' ', ' ', ' ', ' ', ' ', ' ', ' ', ' ', ' ', '3', '3', '3', '3', '3', ' ']\n",
      "제주 갤럭시 호텔 ['3', '1', '3', '4', '3', ' ', '2', ' ', '3', '3', ' ', ' ', ' ', ' ', ' ', ' ', ' ', ' ', ' ', '3', '3', '3', '3', '3', ' ']\n",
      "제주 오라 스테이 호텔 ['3', '1', '3', '4', '3', ' ', '2', ' ', '3', '3', ' ', ' ', ' ', ' ', ' ', ' ', ' ', ' ', ' ', '3', '3', '3', '3', '3', ' ']\n",
      "트윈스호텔 ['3', '1', '3', '4', '3', ' ', '2', ' ', '3', '3', ' ', ' ', ' ', ' ', ' ', ' ', ' ', ' ', ' ', '3', '3', '3', '3', '3', ' ']\n",
      "호텔 스카이파크 제주 1 ['3', '1', '3', '4', '3', ' ', '2', ' ', '3', '3', ' ', ' ', ' ', ' ', ' ', ' ', ' ', ' ', ' ', '3', '3', '3', '3', '3', ' ']\n",
      "우도 사랑채 민박 ['3', '1', '3', '4', '3', ' ', '2', ' ', '3', '3', ' ', ' ', ' ', ' ', ' ', ' ', ' ', ' ', ' ', '3', '3', '3', '3', '3', ' ']\n",
      "W호텔 탑동 ['3', '1', '3', '4', '3', ' ', '2', ' ', '3', '3', ' ', ' ', ' ', ' ', ' ', ' ', ' ', ' ', ' ', '3', '3', '3', '3', '3', ' ']\n",
      "예스준 게스트하우스 ['3', '1', '3', '4', '3', ' ', '2', ' ', '3', '3', ' ', ' ', ' ', ' ', ' ', ' ', ' ', ' ', ' ', '3', '3', '3', '3', '3', ' ']\n",
      "고고애월 ['3', '1', '3', '4', '3', ' ', '2', ' ', '3', '3', ' ', ' ', ' ', ' ', ' ', ' ', ' ', ' ', ' ', '3', '3', '3', '3', '3', ' ']\n",
      "제주 오션 패밀리 호텔 ['3', '1', '3', '4', '3', ' ', '2', ' ', '3', '3', ' ', ' ', ' ', ' ', ' ', ' ', ' ', ' ', ' ', '3', '3', '3', '3', '3', ' ']\n",
      "제주도 하숙집 ['3', '1', '3', '4', '3', ' ', '2', ' ', '3', '3', ' ', ' ', ' ', ' ', ' ', ' ', ' ', ' ', ' ', '3', '3', '3', '3', '3', ' ']\n",
      "제주 디셈버 호텔 ['3', '1', '3', '4', '3', ' ', '2', ' ', '3', '3', ' ', ' ', ' ', ' ', ' ', ' ', ' ', ' ', ' ', '3', '3', '3', '3', '3', ' ']\n",
      "소근소근 ['3', '1', '3', '4', '3', ' ', '2', ' ', '3', '3', ' ', ' ', ' ', ' ', ' ', ' ', ' ', ' ', ' ', '3', '3', '3', '3', '3', ' ']\n",
      "바오젠 게스트하우스 ['3', '1', '3', '4', '3', ' ', '2', ' ', '3', '3', ' ', ' ', ' ', ' ', ' ', ' ', ' ', ' ', ' ', '3', '3', '3', '3', '3', ' ']\n",
      "협재 엔게디 하우스 ['3', '1', '3', '4', '3', ' ', '2', ' ', '3', '3', ' ', ' ', ' ', ' ', ' ', ' ', ' ', ' ', ' ', '3', '3', '3', '3', '3', ' ']\n",
      "백록담펜션 ['3', '1', '3', '4', '3', ' ', '2', ' ', '3', '3', ' ', ' ', ' ', ' ', ' ', ' ', ' ', ' ', ' ', '3', '3', '3', '3', '3', ' ']\n",
      "이쁜새 팬션 ['3', '1', '3', '4', '3', ' ', '2', ' ', '3', '3', ' ', ' ', ' ', ' ', ' ', ' ', ' ', ' ', ' ', '3', '3', '3', '3', '3', ' ']\n",
      "아침하늘펜션 ['3', '1', '3', '4', '3', ' ', '2', ' ', '3', '3', ' ', ' ', ' ', ' ', ' ', ' ', ' ', ' ', ' ', '3', '3', '3', '3', '3', ' ']\n",
      "비자림미담 독채펜션 ['3', '1', '3', '4', '3', ' ', '2', ' ', '3', '3', ' ', ' ', ' ', ' ', ' ', ' ', ' ', ' ', ' ', '3', '3', '3', '3', '3', ' ']\n",
      "선양 빌리지 돔 카라반 ['3', '1', '3', '4', '3', ' ', '2', ' ', '3', '3', ' ', ' ', ' ', ' ', ' ', ' ', ' ', ' ', ' ', '3', '3', '3', '3', '3', ' ']\n",
      "stayN B ['3', '1', '3', '4', '3', ' ', '2', ' ', '3', '3', ' ', ' ', ' ', ' ', ' ', ' ', ' ', ' ', ' ', '3', '3', '3', '3', '3', ' ']\n",
      "10 페이지 완료\n",
      "제주 와요 펜션 ['3', ' ', '4', '3', '2', ' ', ' ', ' ', ' ', '3', ' ', '3', '3', ' ', '2', ' ', ' ', ' ', ' ', ' ', '3', '3', ' ', '3', '3']\n",
      "Hannahstay in Jeju Guesthouse ['3', ' ', '4', '3', '2', ' ', ' ', ' ', ' ', '3', ' ', '3', '3', ' ', '2', ' ', ' ', ' ', ' ', ' ', '3', '3', ' ', '3', '3']\n",
      "계룡길벽돌가 ['3', ' ', '4', '3', '2', ' ', ' ', ' ', ' ', '3', ' ', '3', '3', ' ', '2', ' ', ' ', ' ', ' ', ' ', '3', '3', ' ', '3', '3']\n",
      "아라 스테이 ['3', ' ', '4', '3', '2', ' ', ' ', ' ', ' ', '3', ' ', '3', '3', ' ', '2', ' ', ' ', ' ', ' ', ' ', '3', '3', ' ', '3', '3']\n",
      "국제 호텔 제주 ['3', ' ', '4', '3', '2', ' ', ' ', ' ', ' ', '3', ' ', '3', '3', ' ', '2', ' ', ' ', ' ', ' ', ' ', '3', '3', ' ', '3', '3']\n",
      "낭만제주 펜션 ['3', ' ', '4', '3', '2', ' ', ' ', ' ', ' ', '3', ' ', '3', '3', ' ', '2', ' ', ' ', ' ', ' ', ' ', '3', '3', ' ', '3', '3']\n",
      "탐라지오 레지던스 호텔 ['3', ' ', '4', '3', '2', ' ', ' ', ' ', ' ', '3', ' ', '3', '3', ' ', '2', ' ', ' ', ' ', ' ', ' ', '3', '3', ' ', '3', '3']\n",
      "제주 리조텔 ['3', ' ', '4', '3', '2', ' ', ' ', ' ', ' ', '3', ' ', '3', '3', ' ', '2', ' ', ' ', ' ', ' ', ' ', '3', '3', ' ', '3', '3']\n",
      "카이터스 ['3', ' ', '4', '3', '2', ' ', ' ', ' ', ' ', '3', ' ', '3', '3', ' ', '2', ' ', ' ', ' ', ' ', ' ', '3', '3', ' ', '3', '3']\n",
      "꽃머채 펜션 ['3', ' ', '4', '3', '2', ' ', ' ', ' ', ' ', '3', ' ', '3', '3', ' ', '2', ' ', ' ', ' ', ' ', ' ', '3', '3', ' ', '3', '3']\n",
      "썬랜드 호텔 ['3', ' ', '4', '3', '2', ' ', ' ', ' ', ' ', '3', ' ', '3', '3', ' ', '2', ' ', ' ', ' ', ' ', ' ', '3', '3', ' ', '3', '3']\n",
      "도브 하우스 ['3', ' ', '4', '3', '2', ' ', ' ', ' ', ' ', '3', ' ', '3', '3', ' ', '2', ' ', ' ', ' ', ' ', ' ', '3', '3', ' ', '3', '3']\n",
      "밀레니엄 호텔 ['3', ' ', '4', '3', '2', ' ', ' ', ' ', ' ', '3', ' ', '3', '3', ' ', '2', ' ', ' ', ' ', ' ', ' ', '3', '3', ' ', '3', '3']\n",
      "메이저 호텔 ['3', ' ', '4', '3', '2', ' ', ' ', ' ', ' ', '3', ' ', '3', '3', ' ', '2', ' ', ' ', ' ', ' ', ' ', '3', '3', ' ', '3', '3']\n",
      "탱자싸롱 ['3', ' ', '4', '3', '2', ' ', ' ', ' ', ' ', '3', ' ', '3', '3', ' ', '2', ' ', ' ', ' ', ' ', ' ', '3', '3', ' ', '3', '3']\n",
      "카일룸 1호 - 여성전용 도미토리 ['3', ' ', '4', '3', '2', ' ', ' ', ' ', ' ', '3', ' ', '3', '3', ' ', '2', ' ', ' ', ' ', ' ', ' ', '3', '3', ' ', '3', '3']\n",
      "퓨어스테이 ['3', ' ', '4', '3', '2', ' ', ' ', ' ', ' ', '3', ' ', '3', '3', ' ', '2', ' ', ' ', ' ', ' ', ' ', '3', '3', ' ', '3', '3']\n",
      "거문오름 호스텔 ['3', ' ', '4', '3', '2', ' ', ' ', ' ', ' ', '3', ' ', '3', '3', ' ', '2', ' ', ' ', ' ', ' ', ' ', '3', '3', ' ', '3', '3']\n",
      "이안 게스트하우스 ['3', ' ', '4', '3', '2', ' ', ' ', ' ', ' ', '3', ' ', '3', '3', ' ', '2', ' ', ' ', ' ', ' ', ' ', '3', '3', ' ', '3', '3']\n",
      "The Loft ['3', ' ', '4', '3', '2', ' ', ' ', ' ', ' ', '3', ' ', '3', '3', ' ', '2', ' ', ' ', ' ', ' ', ' ', '3', '3', ' ', '3', '3']\n",
      "보메와산 ['3', ' ', '4', '3', '2', ' ', ' ', ' ', ' ', '3', ' ', '3', '3', ' ', '2', ' ', ' ', ' ', ' ', ' ', '3', '3', ' ', '3', '3']\n",
      "까사린다 ['3', ' ', '4', '3', '2', ' ', ' ', ' ', ' ', '3', ' ', '3', '3', ' ', '2', ' ', ' ', ' ', ' ', ' ', '3', '3', ' ', '3', '3']\n",
      "비아신엄하우스 ['3', ' ', '4', '3', '2', ' ', ' ', ' ', ' ', '3', ' ', '3', '3', ' ', '2', ' ', ' ', ' ', ' ', ' ', '3', '3', ' ', '3', '3']\n",
      "아뜨네 펜션 ['3', ' ', '4', '3', '2', ' ', ' ', ' ', ' ', '3', ' ', '3', '3', ' ', '2', ' ', ' ', ' ', ' ', ' ', '3', '3', ' ', '3', '3']\n",
      "11 페이지 완료\n",
      "송당마을 [' ', '2', '2', ' ', ' ', ' ', ' ', ' ', ' ', '3', ' ', '3', ' ', '3', '3', ' ', '3', ' ', ' ']\n",
      "J-ONE Hotel 제이원호텔 [' ', '2', '2', ' ', ' ', ' ', ' ', ' ', ' ', '3', ' ', '3', ' ', '3', '3', ' ', '3', ' ', ' ']\n",
      "제주 나인 리조트 [' ', '2', '2', ' ', ' ', ' ', ' ', ' ', ' ', '3', ' ', '3', ' ', '3', '3', ' ', '3', ' ', ' ']\n",
      "찰리호텔 [' ', '2', '2', ' ', ' ', ' ', ' ', ' ', ' ', '3', ' ', '3', ' ', '3', '3', ' ', '3', ' ', ' ']\n",
      "Hamdeok Beautiful House [' ', '2', '2', ' ', ' ', ' ', ' ', ' ', ' ', '3', ' ', '3', ' ', '3', '3', ' ', '3', ' ', ' ']\n",
      "제주 보리 게스트하우스 [' ', '2', '2', ' ', ' ', ' ', ' ', ' ', ' ', '3', ' ', '3', ' ', '3', '3', ' ', '3', ' ', ' ']\n",
      "제주 게스트하우스 [' ', '2', '2', ' ', ' ', ' ', ' ', ' ', ' ', '3', ' ', '3', ' ', '3', '3', ' ', '3', ' ', ' ']\n",
      "어음분교1963 [' ', '2', '2', ' ', ' ', ' ', ' ', ' ', ' ', '3', ' ', '3', ' ', '3', '3', ' ', '3', ' ', ' ']\n",
      "거기 벵듸 민박 [' ', '2', '2', ' ', ' ', ' ', ' ', ' ', ' ', '3', ' ', '3', ' ', '3', '3', ' ', '3', ' ', ' ']\n",
      "팜스 빌리지 - 오션뷰 [' ', '2', '2', ' ', ' ', ' ', ' ', ' ', ' ', '3', ' ', '3', ' ', '3', '3', ' ', '3', ' ', ' ']\n",
      "제주 바다성 펜션 [' ', '2', '2', ' ', ' ', ' ', ' ', ' ', ' ', '3', ' ', '3', ' ', '3', '3', ' ', '3', ' ', ' ']\n",
      "제주 새야새야 게스트하우스 [' ', '2', '2', ' ', ' ', ' ', ' ', ' ', ' ', '3', ' ', '3', ' ', '3', '3', ' ', '3', ' ', ' ']\n",
      "Helen Jeju Swiss town [' ', '2', '2', ' ', ' ', ' ', ' ', ' ', ' ', '3', ' ', '3', ' ', '3', '3', ' ', '3', ' ', ' ']\n",
      "올레-낭 [' ', '2', '2', ' ', ' ', ' ', ' ', ' ', ' ', '3', ' ', '3', ' ', '3', '3', ' ', '3', ' ', ' ']\n",
      "두모리에 리조트 [' ', '2', '2', ' ', ' ', ' ', ' ', ' ', ' ', '3', ' ', '3', ' ', '3', '3', ' ', '3', ' ', ' ']\n",
      "애월 수피아 스파 [' ', '2', '2', ' ', ' ', ' ', ' ', ' ', ' ', '3', ' ', '3', ' ', '3', '3', ' ', '3', ' ', ' ']\n",
      "더 베이 오브더 마인드 제주 [' ', '2', '2', ' ', ' ', ' ', ' ', ' ', ' ', '3', ' ', '3', ' ', '3', '3', ' ', '3', ' ', ' ']\n",
      "대웅 황토리조트 [' ', '2', '2', ' ', ' ', ' ', ' ', ' ', ' ', '3', ' ', '3', ' ', '3', '3', ' ', '3', ' ', ' ']\n"
     ]
    }
   ],
   "source": [
    "# 스크래핑 페이지 범위\n",
    "while get_curr() <= int(last_pages):\n",
    "    # scraping\n",
    "    data_scraping()\n",
    "    \n",
    "    if get_curr() == int(last_pages):\n",
    "        break\n",
    "        \n",
    "    curr_page = driver.find_elements_by_css_selector('#search_results_table > div.bui-pagination.results-paging_simplified.js-results-paging > nav > ul > li.bui-pagination__pages > ul > li.bui-pagination__item.bui-pagination__item--active.sr_pagination_item.current > a > div.bui-u-inline')[0]\n",
    "    print(curr_page.text,\"페이지 완료\")\n",
    "\n",
    "    move_next = driver.find_elements_by_css_selector('#search_results_table > div.bui-pagination.results-paging_simplified.js-results-paging > nav > ul > li.bui-pagination__item.bui-pagination__next-arrow > a')[0]\n",
    "    move_next.send_keys('\\n')\n",
    "        \n",
    "    driver.implicitly_wait(2)\n",
    "    time.sleep(2+random.uniform(0,1))"
   ]
  },
  {
   "cell_type": "code",
   "execution_count": 171,
   "id": "authentic-ireland",
   "metadata": {},
   "outputs": [],
   "source": [
    "# 성급 (성급이 표시되지 않은 호텔 제외)\n",
    "def get_stars(listed):\n",
    "    stars = []\n",
    "\n",
    "    for i in range(1, len(listed)):\n",
    "        try:\n",
    "            like = driver.find_element_by_xpath('//*[@id=\"hotellist_inner\"]/div['+ str(i) +']/div[2]/div[1]/div[1]/div[1]/span/span[1]/span/span')\n",
    "            a = like.get_attribute('aria-label')\n",
    "            stars.append(a[0])\n",
    "            \n",
    "        except Exception as NoSuchElementException:\n",
    "            stars.append(' ')\n",
    "    \n",
    "    return stars"
   ]
  },
  {
   "cell_type": "code",
   "execution_count": 177,
   "id": "retired-jamaica",
   "metadata": {},
   "outputs": [
    {
     "name": "stdout",
     "output_type": "stream",
     "text": [
      "나비스 호텔 1\n",
      "하모니 리조트 3\n",
      "UTS Village 4\n",
      "바다위에펜션 3\n",
      "제주 갤럭시 호텔  \n",
      "제주 오라 스테이 호텔 2\n",
      "트윈스호텔  \n",
      "호텔 스카이파크 제주 1 3\n",
      "우도 사랑채 민박 3\n",
      "W호텔 탑동  \n",
      "예스준 게스트하우스  \n",
      "고고애월  \n",
      "제주 오션 패밀리 호텔  \n",
      "제주도 하숙집  \n",
      "제주 디셈버 호텔  \n",
      "소근소근  \n",
      "바오젠 게스트하우스  \n",
      "협재 엔게디 하우스 3\n",
      "백록담펜션 3\n",
      "이쁜새 팬션 3\n",
      "아침하늘펜션 3\n",
      "비자림미담 독채펜션 3\n",
      "선양 빌리지 돔 카라반  \n"
     ]
    },
    {
     "ename": "IndexError",
     "evalue": "list index out of range",
     "output_type": "error",
     "traceback": [
      "\u001b[0;31m---------------------------------------------------------------------------\u001b[0m",
      "\u001b[0;31mIndexError\u001b[0m                                Traceback (most recent call last)",
      "\u001b[0;32m<ipython-input-177-dcfdece8a21d>\u001b[0m in \u001b[0;36m<module>\u001b[0;34m\u001b[0m\n\u001b[1;32m     19\u001b[0m         \u001b[0mprint\u001b[0m\u001b[0;34m(\u001b[0m\u001b[0mhotel_name\u001b[0m\u001b[0;34m.\u001b[0m\u001b[0mtext\u001b[0m\u001b[0;34m,\u001b[0m \u001b[0mstars\u001b[0m\u001b[0;34m[\u001b[0m\u001b[0mi\u001b[0m\u001b[0;34m]\u001b[0m\u001b[0;34m)\u001b[0m\u001b[0;34m\u001b[0m\u001b[0;34m\u001b[0m\u001b[0m\n\u001b[1;32m     20\u001b[0m \u001b[0;34m\u001b[0m\u001b[0m\n\u001b[0;32m---> 21\u001b[0;31m \u001b[0mdata_scraping\u001b[0m\u001b[0;34m(\u001b[0m\u001b[0;34m)\u001b[0m\u001b[0;34m\u001b[0m\u001b[0;34m\u001b[0m\u001b[0m\n\u001b[0m",
      "\u001b[0;32m<ipython-input-177-dcfdece8a21d>\u001b[0m in \u001b[0;36mdata_scraping\u001b[0;34m()\u001b[0m\n\u001b[1;32m     17\u001b[0m         \u001b[0mhotel_names\u001b[0m\u001b[0;34m.\u001b[0m\u001b[0mappend\u001b[0m\u001b[0;34m(\u001b[0m\u001b[0mhotel_name\u001b[0m\u001b[0;34m)\u001b[0m\u001b[0;34m\u001b[0m\u001b[0;34m\u001b[0m\u001b[0m\n\u001b[1;32m     18\u001b[0m \u001b[0;34m\u001b[0m\u001b[0m\n\u001b[0;32m---> 19\u001b[0;31m         \u001b[0mprint\u001b[0m\u001b[0;34m(\u001b[0m\u001b[0mhotel_name\u001b[0m\u001b[0;34m.\u001b[0m\u001b[0mtext\u001b[0m\u001b[0;34m,\u001b[0m \u001b[0mstars\u001b[0m\u001b[0;34m[\u001b[0m\u001b[0mi\u001b[0m\u001b[0;34m]\u001b[0m\u001b[0;34m)\u001b[0m\u001b[0;34m\u001b[0m\u001b[0;34m\u001b[0m\u001b[0m\n\u001b[0m\u001b[1;32m     20\u001b[0m \u001b[0;34m\u001b[0m\u001b[0m\n\u001b[1;32m     21\u001b[0m \u001b[0mdata_scraping\u001b[0m\u001b[0;34m(\u001b[0m\u001b[0;34m)\u001b[0m\u001b[0;34m\u001b[0m\u001b[0;34m\u001b[0m\u001b[0m\n",
      "\u001b[0;31mIndexError\u001b[0m: list index out of range"
     ]
    }
   ],
   "source": [
    "def data_scraping():\n",
    "    root_div = driver.find_elements_by_css_selector('#hotellist_inner')[0]\n",
    "    # 한 페이지당 호출되는 목록 수\n",
    "    listed = root_div.find_elements_by_xpath('//*[@id=\"hotellist_inner\"]/div')\n",
    "\n",
    "    stars = []\n",
    "    hotel_names = []\n",
    "    \n",
    "    stars = get_stars(listed)\n",
    "    \n",
    "    for i in range (1, len(listed)):\n",
    "        # 중간 베너 제외\n",
    "        if i == 11:\n",
    "            continue\n",
    "            \n",
    "        hotel_name = listed[0].find_elements_by_xpath('//*[@id=\"hotellist_inner\"]/div['+ str(i) +']/div[2]/div[1]/div[1]/div[1]/h3/a/span[1]')[0]\n",
    "        hotel_names.append(hotel_name)\n",
    "        \n",
    "        print(hotel_name.text, stars[i])\n",
    "        \n",
    "data_scraping()"
   ]
  },
  {
   "cell_type": "markdown",
   "id": "incident-mixture",
   "metadata": {},
   "source": [
    "---"
   ]
  },
  {
   "cell_type": "code",
   "execution_count": 1,
   "id": "informal-warning",
   "metadata": {},
   "outputs": [],
   "source": [
    "# 한글 설정\n",
    "import matplotlib.pyplot as plt\n",
    "%matplotlib inline\n",
    "\n",
    "from matplotlib import font_manager, rc\n",
    "plt.rcParams['axes.unicode_minus'] = False\n",
    "\n",
    "f_path = \"/Users/seyoung/Library/Fonts/AppleGothic.ttf\"\n",
    "font_name = font_manager.FontProperties(fname=f_path).get_name()\n",
    "rc('font', family=font_name)"
   ]
  }
 ],
 "metadata": {
  "kernelspec": {
   "display_name": "Python 3",
   "language": "python",
   "name": "python3"
  },
  "language_info": {
   "codemirror_mode": {
    "name": "ipython",
    "version": 3
   },
   "file_extension": ".py",
   "mimetype": "text/x-python",
   "name": "python",
   "nbconvert_exporter": "python",
   "pygments_lexer": "ipython3",
   "version": "3.9.1"
  }
 },
 "nbformat": 4,
 "nbformat_minor": 5
}
