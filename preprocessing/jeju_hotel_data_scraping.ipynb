{
 "cells": [
  {
   "cell_type": "markdown",
   "id": "female-carpet",
   "metadata": {},
   "source": [
    "### Hotel in Jeju Data\n",
    "- '부킹닷컴'의 제주 내 호텔 성급, 가격, 위치, 후기를 스크래핑합니다."
   ]
  },
  {
   "cell_type": "code",
   "execution_count": 69,
   "id": "raised-principal",
   "metadata": {},
   "outputs": [],
   "source": [
    "from selenium import webdriver\n",
    "from bs4 import BeautifulSoup\n",
    "from time import sleep\n",
    "import re"
   ]
  },
  {
   "cell_type": "code",
   "execution_count": 36,
   "id": "pleased-forest",
   "metadata": {},
   "outputs": [],
   "source": [
    "url = 'https://www.booking.com/searchresults.ko.html?aid=376440&label=bdot-SIcScZhJX6z_*YtUYg62hwS267777897793%3Apl%3Ata%3Ap1%3Ap22%2C563%2C000%3Aac%3Aap%3Aneg%3Afi%3Atikwd-325272469656%3Alp1009871%3Ali%3Adec%3Adm%3Appccp%3DUmFuZG9tSVYkc2RlIyh9YUlRwjG4dAJkHxCuUKVzpFo&sid=857a41f185409d9f6d0c6b4d32c4534e&sb=1&src=searchresults&src_elem=sb&error_url=https%3A%2F%2Fwww.booking.com%2Fsearchresults.ko.html%3Faid%3D376440%3Blabel%3Dbdot-SIcScZhJX6z_%252AYtUYg62hwS267777897793%253Apl%253Ata%253Ap1%253Ap22%252C563%252C000%253Aac%253Aap%253Aneg%253Afi%253Atikwd-325272469656%253Alp1009871%253Ali%253Adec%253Adm%253Appccp%253DUmFuZG9tSVYkc2RlIyh9YUlRwjG4dAJkHxCuUKVzpFo%3Bsid%3D857a41f185409d9f6d0c6b4d32c4534e%3Btmpl%3Dsearchresults%3Bcity%3D-714191%3Bclass_interval%3D1%3Bdest_id%3D-714191%3Bdest_type%3Dcity%3Bdr_ps%3DIDR%3Bdtdisc%3D0%3Bfrom_idr%3D1%3Bilp%3D1%3Binac%3D0%3Bindex_postcard%3D0%3Blabel_click%3Dundef%3Boffset%3D0%3Bpostcard%3D0%3Broom1%3DA%252CA%3Bsb_price_type%3Dtotal%3Bshw_aparth%3D1%3Bslp_r_match%3D0%3Bsrpvid%3De02638be83480079%3Bss_all%3D0%3Bssb%3Dempty%3Bsshis%3D0%3Btop_ufis%3D1%26%3B&ss=%EC%A0%9C%EC%A3%BC&is_ski_area=0&ssne=%EC%A0%9C%EC%A3%BC&ssne_untouched=%EC%A0%9C%EC%A3%BC&city=-714191&checkin_year=2021&checkin_month=4&checkin_monthday=24&checkout_year=2021&checkout_month=4&checkout_monthday=25&group_adults=2&group_children=0&no_rooms=1&from_sf=1'\n",
    "path = '/Users/seyoung/2021/dss17/eda_etc/chromedriver'\n",
    "driver = webdriver.Chrome(path)\n",
    "driver.get(url)\n",
    "\n",
    "source = driver.page_source\n",
    "soup = BeautifulSoup(source, 'html.parser')"
   ]
  },
  {
   "cell_type": "code",
   "execution_count": 37,
   "id": "eastern-conspiracy",
   "metadata": {},
   "outputs": [
    {
     "data": {
      "text/plain": [
       "<selenium.webdriver.remote.webelement.WebElement (session=\"0bcfdaccc13c28664f10a5dcba934c42\", element=\"e59b6069-0d26-4bd9-b805-41c19e7b2ff7\")>"
      ]
     },
     "execution_count": 37,
     "metadata": {},
     "output_type": "execute_result"
    }
   ],
   "source": [
    "page_bar = driver.find_elements_by_css_selector('#search_results_table > div.bui-pagination.results-paging_simplified.js-results-paging > nav > ul > li.bui-pagination__pages > ul')[0]\n",
    "page_bar"
   ]
  },
  {
   "cell_type": "code",
   "execution_count": 38,
   "id": "focal-coffee",
   "metadata": {},
   "outputs": [
    {
     "name": "stdout",
     "output_type": "stream",
     "text": [
      "1\n",
      "2\n",
      "3\n",
      "4\n",
      "5\n",
      "9\n"
     ]
    }
   ],
   "source": [
    "# 전체 페이지 개수 확인\n",
    "pages = page_bar.find_elements_by_css_selector('a > div.bui-u-inline')\n",
    "last_pages = ''\n",
    "\n",
    "for idx, page in enumerate(pages):\n",
    "    print(page.text)\n",
    "    if idx == len(pages)-1: # 마지막 페이지\n",
    "        last_pages = page.text\n"
   ]
  },
  {
   "cell_type": "code",
   "execution_count": 39,
   "id": "tested-writing",
   "metadata": {},
   "outputs": [],
   "source": [
    "def get_curr():\n",
    "    curr_page = driver.find_elements_by_css_selector('#search_results_table > div.bui-pagination.results-paging_simplified.js-results-paging > nav > ul > li.bui-pagination__pages > ul > li.bui-pagination__item.bui-pagination__item--active.sr_pagination_item.current > a > div.bui-u-inline')[0]\n",
    "    \n",
    "    return int(curr_page.text)"
   ]
  },
  {
   "cell_type": "code",
   "execution_count": 80,
   "id": "loose-trader",
   "metadata": {},
   "outputs": [
    {
     "name": "stdout",
     "output_type": "stream",
     "text": [
      "[('제주 아시아펜션', '3', '기존 요금 ₩25,500 현재 요금 ₩23,970'), ('제주 토비스 콘도 오션동', '', '기존 요금 ₩90,000 현재 요금 ₩84,600'), ('제주 해품달 펜션', '3', '기존 요금 ₩300,296 현재 요금 ₩225,600'), ('일성 제주콘도미디엄', '', '기존 요금 ₩98,000 현재 요금 ₩92,120'), ('제주 오름펜션', '3', '기존 요금 ₩49,400 현재 요금 ₩46,436'), ('동복리671', '3', '기존 요금 ₩100,263 현재 요금 ₩56,400'), ('부띠크 제주민박 살롱 드 탱자', '3', '기존 요금 ₩75,000 현재 요금 ₩70,500'), ('하버 호텔', '3', '₩54,159'), ('선양 빌리지 펜션', '3', '기존 요금 ₩220,000 현재 요금 ₩206,800'), ('애월바다호텔 제주', '3', '₩57,487'), ('', '', ''), ('메가 리조트', '', '기존 요금 ₩60,000 현재 요금 ₩56,400'), ('허브인펜션', '3', '기존 요금 ₩49,900 현재 요금 ₩46,906'), ('제주 삼다 호스텔', '', '₩37,476'), ('심스 호텔', '', '₩44,935'), ('쉬멍놀멍 게스트하우스 & 펜션', '', '요금 ₩75,000'), ('Milgam Central Hotel', '3', '기존 요금 ₩28,000 현재 요금 ₩26,320'), ('노블레스 호텔', '3', '요금 ₩60,000'), ('제주 또올레 펜션', '3', '기존 요금 ₩80,000 현재 요금 ₩75,200'), ('메이저 호텔 2', '2', '요금 ₩60,000'), ('농부와 돌집펜션', '3', '기존 요금 ₩249,595 현재 요금 ₩159,800'), ('비자림 리조트', '', '기존 요금 ₩80,211 현재 요금 ₩45,120'), ('라움 호텔', '3', '요금 ₩45,000'), ('비스타 리조트 제주', '3', '기존 요금 ₩160,000 현재 요금 ₩150,400'), ('안녕프로젝트 게스트하우스', '', '요금 ₩60,000')]\n",
      "7 페이지 완료\n",
      "[('', '3', ''), ('', '3', ''), ('', '1', ''), ('', '3', ''), ('', '', ''), ('', '2', ''), ('', '', ''), ('', '3', ''), ('', '3', ''), ('', '', ''), ('', '', ''), ('', '', ''), ('', '', ''), ('', '', ''), ('', '3', ''), ('', '3', ''), ('', '3', ''), ('', '3', ''), ('', '4', ''), ('', '', ''), ('', '2', ''), ('', '', ''), ('', '', ''), ('', '3', ''), ('', '3', '')]\n",
      "8 페이지 완료\n",
      "[('', '3', ''), ('', '3', ''), ('', '1', ''), ('', '', ''), ('', '', ''), ('', '', ''), ('', '', ''), ('', '2', ''), ('', '2', ''), ('', '3', ''), ('', '', ''), ('', '3', ''), ('', '', ''), ('', '3', ''), ('', '', ''), ('', '', ''), ('', '', ''), ('', '', ''), ('', '', ''), ('', '', ''), ('', '', ''), ('', '', ''), ('', '', ''), ('', '', ''), ('', '', '')]\n"
     ]
    }
   ],
   "source": [
    "# 스크래핑 페이지 범위 (현재 페이지 ~ 마지막 페이지)\n",
    "while get_curr() <= int(last_pages):\n",
    "    # scraping\n",
    "    result = data_scraping()\n",
    "    print(result)\n",
    "    \n",
    "    if get_curr() == int(last_pages):\n",
    "        break\n",
    "        \n",
    "    curr_page = driver.find_elements_by_css_selector('#search_results_table > div.bui-pagination.results-paging_simplified.js-results-paging > nav > ul > li.bui-pagination__pages > ul > li.bui-pagination__item.bui-pagination__item--active.sr_pagination_item.current > a > div.bui-u-inline')[0]\n",
    "    print(curr_page.text,\"페이지 완료\")\n",
    "\n",
    "    move_next = driver.find_elements_by_css_selector('#search_results_table > div.bui-pagination.results-paging_simplified.js-results-paging > nav > ul > li.bui-pagination__item.bui-pagination__next-arrow > a')[0]\n",
    "    move_next.send_keys('\\n')\n",
    "        \n",
    "    driver.implicitly_wait(1)\n",
    "    time.sleep(1+random.uniform(0,1))"
   ]
  },
  {
   "cell_type": "code",
   "execution_count": 40,
   "id": "authentic-ireland",
   "metadata": {},
   "outputs": [],
   "source": [
    "# 성급 (성급이 표시되지 않은 호텔 제외)\n",
    "def get_stars(listed):\n",
    "    stars = []\n",
    "\n",
    "    for i in range(1, len(listed)):\n",
    "        try:\n",
    "            like = driver.find_element_by_xpath('//*[@id=\"hotellist_inner\"]/div['+ str(i) +']/div[2]/div[1]/div[1]/div[1]/span/span[1]/span/span')\n",
    "            a = like.get_attribute('aria-label')\n",
    "            stars.append(a[0])\n",
    "        # 성급이 표시되지 않는 호텔 \n",
    "        except Exception as NoSuchElementException:\n",
    "            stars.append('')\n",
    "    \n",
    "    return stars"
   ]
  },
  {
   "cell_type": "code",
   "execution_count": 67,
   "id": "weird-tradition",
   "metadata": {},
   "outputs": [],
   "source": [
    "def get_prices(listed):\n",
    "    prices = []\n",
    "    \n",
    "    for i in range(1, len(listed)):\n",
    "        try:\n",
    "            price = listed[0].find_elements_by_xpath('//*[@id=\"hotellist_inner\"]/div['+ str(i) +']/div[2]/div[2]/div/div/div/div/div[2]/div[1]/div[2]/div/div')[0]\n",
    "            tmp_price = listed[0].find_elements_by_xpath('//*[@id=\"hotellist_inner\"]/div['+ str(i) +']/div[2]/div[2]/div/div/div/div/div[2]/div[1]/div[2]/div/span')[0]\n",
    "            \n",
    "            # strong label로 표시된 가격 포함\n",
    "            if tmp_price.text == '':\n",
    "                tmp_price = listed[0].find_elements_by_xpath('//*[@id=\"hotellist_inner\"]/div[' + str(i) + ']/div[2]/div[2]/div/table/tbody/tr/td[2]/div[2]/strong/label')[0]\n",
    "            \n",
    "            prices.append(tmp_price.text)\n",
    "            \n",
    "        # 중간 베너 제외\n",
    "        except Exception as IndexError:\n",
    "            prices.append('')\n",
    "            \n",
    "    return prices"
   ]
  },
  {
   "cell_type": "code",
   "execution_count": 57,
   "id": "packed-transmission",
   "metadata": {},
   "outputs": [],
   "source": [
    "def get_names(listed):\n",
    "    names = []\n",
    "    \n",
    "    for i in range(1, len(listed)):\n",
    "        try:\n",
    "            name = listed[0].find_elements_by_xpath('//*[@id=\"hotellist_inner\"]/div['+ str(i) +']/div[2]/div[1]/div[1]/div[1]/h3/a/span[1]')[0]\n",
    "            names.append(name.text)\n",
    "            \n",
    "        # 중간 베너 제외\n",
    "        except Exception as IndexError:\n",
    "            names.append('')\n",
    "            \n",
    "    return names"
   ]
  },
  {
   "cell_type": "code",
   "execution_count": 77,
   "id": "retired-jamaica",
   "metadata": {},
   "outputs": [
    {
     "data": {
      "text/plain": [
       "[('밀레니엄 호텔', '', '기존 요금 ₩31,700 현재 요금 ₩29,798'),\n",
       " ('메이저 호텔', '2', '기존 요금 ₩60,000 현재 요금 ₩52,800'),\n",
       " ('낭만제주 펜션', '', ''),\n",
       " ('퓨어스테이', '', ''),\n",
       " ('이안 게스트하우스', '', '요금 ₩50,000'),\n",
       " ('거문오름 호스텔', '', '요금 ₩54,000'),\n",
       " ('엠제이호텔', '', '₩58,596'),\n",
       " ('J-ONE Hotel 제이원호텔', '2', '요금 ₩48,000'),\n",
       " ('제주 나인 리조트', '2', '기존 요금 ₩83,000 현재 요금 ₩73,040'),\n",
       " ('제주 바다성 펜션', '3', '요금 ₩35,000'),\n",
       " ('', '', ''),\n",
       " ('Helen Jeju Swiss town', '3', '기존 요금 ₩67,100 현재 요금 ₩63,074'),\n",
       " ('대웅 황토리조트', '', '기존 요금 ₩150,091 현재 요금 ₩73,320'),\n",
       " ('아뜨네 펜션', '3', '₩77,317'),\n",
       " ('까사린다', '', '기존 요금 ₩150,000 현재 요금 ₩141,000'),\n",
       " ('숨 게스트하우스 제주공항', '', '요금 ₩43,800'),\n",
       " ('노마드인제주 게스트하우스', '', '요금 ₩50,000'),\n",
       " ('예스준 게스트하우스', '', '요금 ₩50,000'),\n",
       " ('제주도 하숙집', '', '기존 요금 ₩44,000 현재 요금 ₩41,360')]"
      ]
     },
     "execution_count": 77,
     "metadata": {},
     "output_type": "execute_result"
    }
   ],
   "source": [
    "def data_scraping():\n",
    "    res_stars = []\n",
    "    res_names = []\n",
    "    res_prices = []\n",
    "    \n",
    "    root_div = driver.find_elements_by_css_selector('#hotellist_inner')[0]\n",
    "    # 한 페이지당 호출되는 목록 수\n",
    "    listed = root_div.find_elements_by_xpath('//*[@id=\"hotellist_inner\"]/div')\n",
    "    \n",
    "    res_stars = get_stars(listed)\n",
    "    res_names = get_names(listed)\n",
    "    \n",
    "    res_prices = get_prices(listed)\n",
    "              \n",
    "    return list(zip(res_names, res_stars, res_prices))\n",
    "\n",
    "data_scraping()"
   ]
  },
  {
   "cell_type": "markdown",
   "id": "incident-mixture",
   "metadata": {},
   "source": [
    "---"
   ]
  },
  {
   "cell_type": "code",
   "execution_count": 1,
   "id": "informal-warning",
   "metadata": {},
   "outputs": [],
   "source": [
    "# 한글 설정\n",
    "import matplotlib.pyplot as plt\n",
    "%matplotlib inline\n",
    "\n",
    "from matplotlib import font_manager, rc\n",
    "plt.rcParams['axes.unicode_minus'] = False\n",
    "\n",
    "f_path = \"/Users/seyoung/Library/Fonts/AppleGothic.ttf\"\n",
    "font_name = font_manager.FontProperties(fname=f_path).get_name()\n",
    "rc('font', family=font_name)"
   ]
  }
 ],
 "metadata": {
  "kernelspec": {
   "display_name": "Python 3",
   "language": "python",
   "name": "python3"
  },
  "language_info": {
   "codemirror_mode": {
    "name": "ipython",
    "version": 3
   },
   "file_extension": ".py",
   "mimetype": "text/x-python",
   "name": "python",
   "nbconvert_exporter": "python",
   "pygments_lexer": "ipython3",
   "version": "3.9.1"
  }
 },
 "nbformat": 4,
 "nbformat_minor": 5
}
