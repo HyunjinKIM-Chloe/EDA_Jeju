{
 "cells": [
  {
   "cell_type": "markdown",
   "id": "female-carpet",
   "metadata": {},
   "source": [
    "### Hotel in Jeju Data\n",
    "- '부킹닷컴'의 제주 내 호텔 성급, 가격, 위치, 후기를 스크래핑합니다."
   ]
  },
  {
   "cell_type": "code",
   "execution_count": 42,
   "id": "raised-principal",
   "metadata": {},
   "outputs": [],
   "source": [
    "from selenium import webdriver\n",
    "from selenium.webdriver.common.keys import Keys\n",
    "from bs4 import BeautifulSoup\n",
    "from time import sleep\n",
    "import re\n",
    "import json"
   ]
  },
  {
   "cell_type": "code",
   "execution_count": null,
   "id": "pleased-forest",
   "metadata": {},
   "outputs": [],
   "source": [
    "url = 'https://www.booking.com/searchresults.ko.html?aid=376440&label=bdot-SIcScZhJX6z_*YtUYg62hwS267777897793%3Apl%3Ata%3Ap1%3Ap22%2C563%2C000%3Aac%3Aap%3Aneg%3Afi%3Atikwd-325272469656%3Alp1009871%3Ali%3Adec%3Adm%3Appccp%3DUmFuZG9tSVYkc2RlIyh9YUlRwjG4dAJkHxCuUKVzpFo&sid=857a41f185409d9f6d0c6b4d32c4534e&sb=1&src=searchresults&src_elem=sb&error_url=https%3A%2F%2Fwww.booking.com%2Fsearchresults.ko.html%3Faid%3D376440%3Blabel%3Dbdot-SIcScZhJX6z_%252AYtUYg62hwS267777897793%253Apl%253Ata%253Ap1%253Ap22%252C563%252C000%253Aac%253Aap%253Aneg%253Afi%253Atikwd-325272469656%253Alp1009871%253Ali%253Adec%253Adm%253Appccp%253DUmFuZG9tSVYkc2RlIyh9YUlRwjG4dAJkHxCuUKVzpFo%3Bsid%3D857a41f185409d9f6d0c6b4d32c4534e%3Btmpl%3Dsearchresults%3Bcity%3D-714191%3Bclass_interval%3D1%3Bdest_id%3D-714191%3Bdest_type%3Dcity%3Bdr_ps%3DIDR%3Bdtdisc%3D0%3Bfrom_idr%3D1%3Bilp%3D1%3Binac%3D0%3Bindex_postcard%3D0%3Blabel_click%3Dundef%3Boffset%3D0%3Bpostcard%3D0%3Broom1%3DA%252CA%3Bsb_price_type%3Dtotal%3Bshw_aparth%3D1%3Bslp_r_match%3D0%3Bsrpvid%3De02638be83480079%3Bss_all%3D0%3Bssb%3Dempty%3Bsshis%3D0%3Btop_ufis%3D1%26%3B&ss=%EC%A0%9C%EC%A3%BC&is_ski_area=0&ssne=%EC%A0%9C%EC%A3%BC&ssne_untouched=%EC%A0%9C%EC%A3%BC&city=-714191&checkin_year=2021&checkin_month=4&checkin_monthday=24&checkout_year=2021&checkout_month=4&checkout_monthday=25&group_adults=2&group_children=0&no_rooms=1&from_sf=1'\n",
    "path = '/Users/seyoung/2021/dss17/eda_etc/chromedriver'\n",
    "driver = webdriver.Chrome(path)\n",
    "driver.get(url)\n",
    "\n",
    "source = driver.page_source\n",
    "soup = BeautifulSoup(source, 'html.parser')"
   ]
  },
  {
   "cell_type": "code",
   "execution_count": 44,
   "id": "eastern-conspiracy",
   "metadata": {},
   "outputs": [
    {
     "data": {
      "text/plain": [
       "<selenium.webdriver.remote.webelement.WebElement (session=\"0c32c7bd9d2f5bfebd93b50e89e61069\", element=\"2c9d753a-d808-47da-aa99-6556c03fcace\")>"
      ]
     },
     "execution_count": 44,
     "metadata": {},
     "output_type": "execute_result"
    }
   ],
   "source": [
    "page_bar = driver.find_elements_by_css_selector('#search_results_table > div.bui-pagination.results-paging_simplified.js-results-paging > nav > ul > li.bui-pagination__pages > ul')[0]\n",
    "page_bar"
   ]
  },
  {
   "cell_type": "code",
   "execution_count": 45,
   "id": "focal-coffee",
   "metadata": {},
   "outputs": [
    {
     "name": "stdout",
     "output_type": "stream",
     "text": [
      "1\n",
      "2\n",
      "3\n",
      "4\n",
      "5\n",
      "9\n"
     ]
    }
   ],
   "source": [
    "# 전체 페이지 개수 확인\n",
    "pages = page_bar.find_elements_by_css_selector('a > div.bui-u-inline')\n",
    "last_pages = ''\n",
    "\n",
    "for idx, page in enumerate(pages):\n",
    "    print(page.text)\n",
    "    if idx == len(pages)-1: # 마지막 페이지\n",
    "        last_pages = page.text\n"
   ]
  },
  {
   "cell_type": "code",
   "execution_count": null,
   "id": "tested-writing",
   "metadata": {},
   "outputs": [],
   "source": [
    "# 현재 페이지 번호\n",
    "def get_curr():\n",
    "    curr_page = driver.find_elements_by_css_selector('#search_results_table > div.bui-pagination.results-paging_simplified.js-results-paging > nav > ul > li.bui-pagination__pages > ul > li.bui-pagination__item.bui-pagination__item--active.sr_pagination_item.current > a > div.bui-u-inline')[0]\n",
    "    \n",
    "    return int(curr_page.text)"
   ]
  },
  {
   "cell_type": "code",
   "execution_count": 49,
   "id": "authentic-ireland",
   "metadata": {},
   "outputs": [],
   "source": [
    "# 성급 (성급이 표시되지 않은 호텔 제외)\n",
    "def get_stars(listed):\n",
    "    stars = []\n",
    "\n",
    "    for i in range(1, len(listed)):\n",
    "        try:\n",
    "            like = driver.find_element_by_xpath('//*[@id=\"hotellist_inner\"]/div['+ str(i) +']/div[2]/div[1]/div[1]/div[1]/span/span[1]/span/span')\n",
    "            a = like.get_attribute('aria-label')\n",
    "            stars.append(a[0])\n",
    "            \n",
    "        # 성급이 표시되지 않는 호텔 \n",
    "        except Exception as NoSuchElementException:\n",
    "            stars.append('')\n",
    "    \n",
    "    return stars"
   ]
  },
  {
   "cell_type": "code",
   "execution_count": 50,
   "id": "weird-tradition",
   "metadata": {},
   "outputs": [],
   "source": [
    "# 가격\n",
    "def get_prices(listed):\n",
    "    prices = []\n",
    "    \n",
    "    for i in range(1, len(listed)):\n",
    "        try:\n",
    "            price = listed[0].find_elements_by_xpath('//*[@id=\"hotellist_inner\"]/div['+ str(i) +']/div[2]/div[2]/div/div/div/div/div[2]/div[1]/div[2]/div/div')[0]\n",
    "            base_price = listed[0].find_elements_by_xpath('//*[@id=\"hotellist_inner\"]/div['+ str(i) +']/div[2]/div[2]/div/div/div/div/div[2]/div[1]/div[2]/div/span')[0]\n",
    "            \n",
    "            # strong label로 표시된 가격 포함\n",
    "            if base_price.text == '':\n",
    "                base_price = listed[0].find_elements_by_xpath('//*[@id=\"hotellist_inner\"]/div[' + str(i) + ']/div[2]/div[2]/div/table/tbody/tr/td[2]/div[2]/strong/label')[0]\n",
    "            \n",
    "            prices.append(base_price.text)\n",
    "            \n",
    "        # 중간 베너 제외\n",
    "        except Exception as IndexError:\n",
    "            prices.append('')\n",
    "            \n",
    "    return prices"
   ]
  },
  {
   "cell_type": "code",
   "execution_count": 51,
   "id": "turkish-short",
   "metadata": {},
   "outputs": [],
   "source": [
    "# 평점\n",
    "def get_grades(listed):\n",
    "    grades = []\n",
    "    \n",
    "    for i in range(1, len(listed)):\n",
    "        try:\n",
    "            grade = listed[0].find_elements_by_xpath('//*[@id=\"hotellist_inner\"]/div[' + str(i) + ']/div[2]/div[1]/div[2]/div/div/a/div/div[1]')[0]\n",
    "            grades.append(grade.text)\n",
    "            \n",
    "        except Exception as IndexError:\n",
    "            grades.append('')\n",
    "            \n",
    "    return grades"
   ]
  },
  {
   "cell_type": "code",
   "execution_count": 52,
   "id": "packed-transmission",
   "metadata": {},
   "outputs": [],
   "source": [
    "# 호텔명\n",
    "def get_names(listed):\n",
    "    names = []\n",
    "    \n",
    "    for i in range(1, len(listed)):\n",
    "        try:\n",
    "            name = listed[0].find_elements_by_xpath('//*[@id=\"hotellist_inner\"]/div['+ str(i) +']/div[2]/div[1]/div[1]/div[1]/h3/a/span[1]')[0]\n",
    "            names.append(name.text)\n",
    "            \n",
    "        # 중간 베너 제외\n",
    "        except Exception as IndexError:\n",
    "            names.append('')\n",
    "            \n",
    "    return names"
   ]
  },
  {
   "cell_type": "code",
   "execution_count": 55,
   "id": "sudden-wheel",
   "metadata": {},
   "outputs": [
    {
     "data": {
      "text/plain": [
       "['제주, 노연로 66',\n",
       " '제주, 노연로 12',\n",
       " '제주, 노연로 80',\n",
       " '',\n",
       " '제주, 도령로 83',\n",
       " '제주, 노연로 100',\n",
       " '제주, 탑동로 66',\n",
       " '제주, 중앙로 304',\n",
       " '제주, 서부두2길 20',\n",
       " '제주, 해안마을서 4길 100',\n",
       " '제주, 서부두2길 26',\n",
       " '제주, 도령로 27',\n",
       " '제주, 선돌목동길 56-26',\n",
       " '제주, 조천읍 조함해안로 502',\n",
       " '제주, 탑동 해안로 74',\n",
       " '제주, 도령로 133',\n",
       " '제주, 애월읍 곽지1길 23',\n",
       " '제주, 서사로 129',\n",
       " '제주, 조천읍 신북로 481-9',\n",
       " '제주, 중앙로 151',\n",
       " '제주, 노연로 34',\n",
       " '제주, 연삼로 14',\n",
       " '제주, 한림읍 옹포2길 10',\n",
       " '제주, 동광로 34',\n",
       " '제주, 애월읍 애월해안로 656']"
      ]
     },
     "execution_count": 55,
     "metadata": {},
     "output_type": "execute_result"
    }
   ],
   "source": [
    "# 주소\n",
    "def get_addrs(listed):\n",
    "    addrs = []\n",
    "    \n",
    "    # 새 창 열기\n",
    "    for i in range(1, len(listed)):\n",
    "\n",
    "        try:\n",
    "            href = driver.find_element_by_xpath('//*[@id=\"hotellist_inner\"]/div['+ str(i) +']/div[2]/div[1]/div[1]/div[1]/h3/a')\n",
    "            href.send_keys(Keys.CONTROL + '\\n') \n",
    "            \n",
    "           # 새로운 탭으로 이동 (2번째 탭)\n",
    "            driver.switch_to.window(driver.window_handles[1])\n",
    "            addr = driver.find_elements_by_xpath('//*[@id=\"showMap2\"]/span[1]')[0]\n",
    "            addrs.append(addr.text)\n",
    "            \n",
    "            driver.close()\n",
    "            driver.switch_to_window(driver.window_handles[0])\n",
    "\n",
    "        except Exception as NoSuchElementException:\n",
    "            addrs.append('')\n",
    "            \n",
    "    return addrs\n"
   ]
  },
  {
   "cell_type": "code",
   "execution_count": 57,
   "id": "retired-jamaica",
   "metadata": {},
   "outputs": [
    {
     "ename": "NoSuchWindowException",
     "evalue": "Message: no such window: target window already closed\nfrom unknown error: web view not found\n  (Session info: chrome=89.0.4389.114)\n",
     "output_type": "error",
     "traceback": [
      "\u001b[0;31m---------------------------------------------------------------------------\u001b[0m",
      "\u001b[0;31mNoSuchWindowException\u001b[0m                     Traceback (most recent call last)",
      "\u001b[0;32m<ipython-input-57-ee1f4dc6a22e>\u001b[0m in \u001b[0;36m<module>\u001b[0;34m\u001b[0m\n\u001b[1;32m     13\u001b[0m     \u001b[0;32mreturn\u001b[0m \u001b[0mlist\u001b[0m\u001b[0;34m(\u001b[0m\u001b[0mzip\u001b[0m\u001b[0;34m(\u001b[0m\u001b[0mres_names\u001b[0m\u001b[0;34m,\u001b[0m \u001b[0mres_stars\u001b[0m\u001b[0;34m,\u001b[0m \u001b[0mres_prices\u001b[0m\u001b[0;34m,\u001b[0m \u001b[0mres_grades\u001b[0m\u001b[0;34m)\u001b[0m\u001b[0;34m)\u001b[0m\u001b[0;34m\u001b[0m\u001b[0;34m\u001b[0m\u001b[0m\n\u001b[1;32m     14\u001b[0m \u001b[0;34m\u001b[0m\u001b[0m\n\u001b[0;32m---> 15\u001b[0;31m \u001b[0mdata_scraping\u001b[0m\u001b[0;34m(\u001b[0m\u001b[0;34m)\u001b[0m\u001b[0;34m\u001b[0m\u001b[0;34m\u001b[0m\u001b[0m\n\u001b[0m",
      "\u001b[0;32m<ipython-input-57-ee1f4dc6a22e>\u001b[0m in \u001b[0;36mdata_scraping\u001b[0;34m()\u001b[0m\n\u001b[1;32m      2\u001b[0m     \u001b[0mres_stars\u001b[0m\u001b[0;34m,\u001b[0m \u001b[0mres_names\u001b[0m\u001b[0;34m,\u001b[0m \u001b[0mres_prices\u001b[0m\u001b[0;34m,\u001b[0m \u001b[0mres_grades\u001b[0m \u001b[0;34m=\u001b[0m \u001b[0;34m[\u001b[0m\u001b[0;34m]\u001b[0m\u001b[0;34m,\u001b[0m \u001b[0;34m[\u001b[0m\u001b[0;34m]\u001b[0m\u001b[0;34m,\u001b[0m \u001b[0;34m[\u001b[0m\u001b[0;34m]\u001b[0m\u001b[0;34m,\u001b[0m \u001b[0;34m[\u001b[0m\u001b[0;34m]\u001b[0m\u001b[0;34m\u001b[0m\u001b[0;34m\u001b[0m\u001b[0m\n\u001b[1;32m      3\u001b[0m \u001b[0;34m\u001b[0m\u001b[0m\n\u001b[0;32m----> 4\u001b[0;31m     \u001b[0mroot_div\u001b[0m \u001b[0;34m=\u001b[0m \u001b[0mdriver\u001b[0m\u001b[0;34m.\u001b[0m\u001b[0mfind_elements_by_css_selector\u001b[0m\u001b[0;34m(\u001b[0m\u001b[0;34m'#hotellist_inner'\u001b[0m\u001b[0;34m)\u001b[0m\u001b[0;34m[\u001b[0m\u001b[0;36m0\u001b[0m\u001b[0;34m]\u001b[0m\u001b[0;34m\u001b[0m\u001b[0;34m\u001b[0m\u001b[0m\n\u001b[0m\u001b[1;32m      5\u001b[0m     \u001b[0;31m# 한 페이지당 호출되는 목록 수\u001b[0m\u001b[0;34m\u001b[0m\u001b[0;34m\u001b[0m\u001b[0;34m\u001b[0m\u001b[0m\n\u001b[1;32m      6\u001b[0m     \u001b[0mlisted\u001b[0m \u001b[0;34m=\u001b[0m \u001b[0mroot_div\u001b[0m\u001b[0;34m.\u001b[0m\u001b[0mfind_elements_by_xpath\u001b[0m\u001b[0;34m(\u001b[0m\u001b[0;34m'//*[@id=\"hotellist_inner\"]/div'\u001b[0m\u001b[0;34m)\u001b[0m\u001b[0;34m\u001b[0m\u001b[0;34m\u001b[0m\u001b[0m\n",
      "\u001b[0;32m/usr/local/lib/python3.9/site-packages/selenium/webdriver/remote/webdriver.py\u001b[0m in \u001b[0;36mfind_elements_by_css_selector\u001b[0;34m(self, css_selector)\u001b[0m\n\u001b[1;32m    612\u001b[0m             \u001b[0melements\u001b[0m \u001b[0;34m=\u001b[0m \u001b[0mdriver\u001b[0m\u001b[0;34m.\u001b[0m\u001b[0mfind_elements_by_css_selector\u001b[0m\u001b[0;34m(\u001b[0m\u001b[0;34m'.foo'\u001b[0m\u001b[0;34m)\u001b[0m\u001b[0;34m\u001b[0m\u001b[0;34m\u001b[0m\u001b[0m\n\u001b[1;32m    613\u001b[0m         \"\"\"\n\u001b[0;32m--> 614\u001b[0;31m         \u001b[0;32mreturn\u001b[0m \u001b[0mself\u001b[0m\u001b[0;34m.\u001b[0m\u001b[0mfind_elements\u001b[0m\u001b[0;34m(\u001b[0m\u001b[0mby\u001b[0m\u001b[0;34m=\u001b[0m\u001b[0mBy\u001b[0m\u001b[0;34m.\u001b[0m\u001b[0mCSS_SELECTOR\u001b[0m\u001b[0;34m,\u001b[0m \u001b[0mvalue\u001b[0m\u001b[0;34m=\u001b[0m\u001b[0mcss_selector\u001b[0m\u001b[0;34m)\u001b[0m\u001b[0;34m\u001b[0m\u001b[0;34m\u001b[0m\u001b[0m\n\u001b[0m\u001b[1;32m    615\u001b[0m \u001b[0;34m\u001b[0m\u001b[0m\n\u001b[1;32m    616\u001b[0m     \u001b[0;32mdef\u001b[0m \u001b[0mexecute_script\u001b[0m\u001b[0;34m(\u001b[0m\u001b[0mself\u001b[0m\u001b[0;34m,\u001b[0m \u001b[0mscript\u001b[0m\u001b[0;34m,\u001b[0m \u001b[0;34m*\u001b[0m\u001b[0margs\u001b[0m\u001b[0;34m)\u001b[0m\u001b[0;34m:\u001b[0m\u001b[0;34m\u001b[0m\u001b[0;34m\u001b[0m\u001b[0m\n",
      "\u001b[0;32m/usr/local/lib/python3.9/site-packages/selenium/webdriver/remote/webdriver.py\u001b[0m in \u001b[0;36mfind_elements\u001b[0;34m(self, by, value)\u001b[0m\n\u001b[1;32m   1003\u001b[0m         \u001b[0;31m# Return empty list if driver returns null\u001b[0m\u001b[0;34m\u001b[0m\u001b[0;34m\u001b[0m\u001b[0;34m\u001b[0m\u001b[0m\n\u001b[1;32m   1004\u001b[0m         \u001b[0;31m# See https://github.com/SeleniumHQ/selenium/issues/4555\u001b[0m\u001b[0;34m\u001b[0m\u001b[0;34m\u001b[0m\u001b[0;34m\u001b[0m\u001b[0m\n\u001b[0;32m-> 1005\u001b[0;31m         return self.execute(Command.FIND_ELEMENTS, {\n\u001b[0m\u001b[1;32m   1006\u001b[0m             \u001b[0;34m'using'\u001b[0m\u001b[0;34m:\u001b[0m \u001b[0mby\u001b[0m\u001b[0;34m,\u001b[0m\u001b[0;34m\u001b[0m\u001b[0;34m\u001b[0m\u001b[0m\n\u001b[1;32m   1007\u001b[0m             'value': value})['value'] or []\n",
      "\u001b[0;32m/usr/local/lib/python3.9/site-packages/selenium/webdriver/remote/webdriver.py\u001b[0m in \u001b[0;36mexecute\u001b[0;34m(self, driver_command, params)\u001b[0m\n\u001b[1;32m    319\u001b[0m         \u001b[0mresponse\u001b[0m \u001b[0;34m=\u001b[0m \u001b[0mself\u001b[0m\u001b[0;34m.\u001b[0m\u001b[0mcommand_executor\u001b[0m\u001b[0;34m.\u001b[0m\u001b[0mexecute\u001b[0m\u001b[0;34m(\u001b[0m\u001b[0mdriver_command\u001b[0m\u001b[0;34m,\u001b[0m \u001b[0mparams\u001b[0m\u001b[0;34m)\u001b[0m\u001b[0;34m\u001b[0m\u001b[0;34m\u001b[0m\u001b[0m\n\u001b[1;32m    320\u001b[0m         \u001b[0;32mif\u001b[0m \u001b[0mresponse\u001b[0m\u001b[0;34m:\u001b[0m\u001b[0;34m\u001b[0m\u001b[0;34m\u001b[0m\u001b[0m\n\u001b[0;32m--> 321\u001b[0;31m             \u001b[0mself\u001b[0m\u001b[0;34m.\u001b[0m\u001b[0merror_handler\u001b[0m\u001b[0;34m.\u001b[0m\u001b[0mcheck_response\u001b[0m\u001b[0;34m(\u001b[0m\u001b[0mresponse\u001b[0m\u001b[0;34m)\u001b[0m\u001b[0;34m\u001b[0m\u001b[0;34m\u001b[0m\u001b[0m\n\u001b[0m\u001b[1;32m    322\u001b[0m             response['value'] = self._unwrap_value(\n\u001b[1;32m    323\u001b[0m                 response.get('value', None))\n",
      "\u001b[0;32m/usr/local/lib/python3.9/site-packages/selenium/webdriver/remote/errorhandler.py\u001b[0m in \u001b[0;36mcheck_response\u001b[0;34m(self, response)\u001b[0m\n\u001b[1;32m    240\u001b[0m                 \u001b[0malert_text\u001b[0m \u001b[0;34m=\u001b[0m \u001b[0mvalue\u001b[0m\u001b[0;34m[\u001b[0m\u001b[0;34m'alert'\u001b[0m\u001b[0;34m]\u001b[0m\u001b[0;34m.\u001b[0m\u001b[0mget\u001b[0m\u001b[0;34m(\u001b[0m\u001b[0;34m'text'\u001b[0m\u001b[0;34m)\u001b[0m\u001b[0;34m\u001b[0m\u001b[0;34m\u001b[0m\u001b[0m\n\u001b[1;32m    241\u001b[0m             \u001b[0;32mraise\u001b[0m \u001b[0mexception_class\u001b[0m\u001b[0;34m(\u001b[0m\u001b[0mmessage\u001b[0m\u001b[0;34m,\u001b[0m \u001b[0mscreen\u001b[0m\u001b[0;34m,\u001b[0m \u001b[0mstacktrace\u001b[0m\u001b[0;34m,\u001b[0m \u001b[0malert_text\u001b[0m\u001b[0;34m)\u001b[0m\u001b[0;34m\u001b[0m\u001b[0;34m\u001b[0m\u001b[0m\n\u001b[0;32m--> 242\u001b[0;31m         \u001b[0;32mraise\u001b[0m \u001b[0mexception_class\u001b[0m\u001b[0;34m(\u001b[0m\u001b[0mmessage\u001b[0m\u001b[0;34m,\u001b[0m \u001b[0mscreen\u001b[0m\u001b[0;34m,\u001b[0m \u001b[0mstacktrace\u001b[0m\u001b[0;34m)\u001b[0m\u001b[0;34m\u001b[0m\u001b[0;34m\u001b[0m\u001b[0m\n\u001b[0m\u001b[1;32m    243\u001b[0m \u001b[0;34m\u001b[0m\u001b[0m\n\u001b[1;32m    244\u001b[0m     \u001b[0;32mdef\u001b[0m \u001b[0m_value_or_default\u001b[0m\u001b[0;34m(\u001b[0m\u001b[0mself\u001b[0m\u001b[0;34m,\u001b[0m \u001b[0mobj\u001b[0m\u001b[0;34m,\u001b[0m \u001b[0mkey\u001b[0m\u001b[0;34m,\u001b[0m \u001b[0mdefault\u001b[0m\u001b[0;34m)\u001b[0m\u001b[0;34m:\u001b[0m\u001b[0;34m\u001b[0m\u001b[0;34m\u001b[0m\u001b[0m\n",
      "\u001b[0;31mNoSuchWindowException\u001b[0m: Message: no such window: target window already closed\nfrom unknown error: web view not found\n  (Session info: chrome=89.0.4389.114)\n"
     ]
    }
   ],
   "source": [
    "def data_scraping():\n",
    "    res_stars, res_names, res_prices, res_grades = [], [], [], []\n",
    "    \n",
    "    root_div = driver.find_elements_by_css_selector('#hotellist_inner')[0]\n",
    "    # 한 페이지당 호출되는 목록 수\n",
    "    listed = root_div.find_elements_by_xpath('//*[@id=\"hotellist_inner\"]/div')\n",
    "    \n",
    "    res_stars = get_stars(listed)\n",
    "    res_names = get_names(listed)\n",
    "    res_prices = get_prices(listed)\n",
    "    res_grades = get_grades(listed)\n",
    "    \n",
    "    return list(zip(res_names, res_stars, res_prices, res_grades))\n",
    "\n",
    "data_scraping()"
   ]
  },
  {
   "cell_type": "code",
   "execution_count": null,
   "id": "current-panama",
   "metadata": {},
   "outputs": [],
   "source": [
    "def get_hotelDatas():\n",
    "    raw_datas = []\n",
    "    \n",
    "    # 스크래핑 페이지 범위 (현재 페이지 ~ 마지막 페이지)\n",
    "    while get_curr() <= int(last_pages):\n",
    "        # scraping\n",
    "        result = data_scraping()\n",
    "        raw_datas.append(result)\n",
    "        # print(result)\n",
    "\n",
    "        if get_curr() == int(last_pages):\n",
    "            break\n",
    "\n",
    "        curr_page = driver.find_elements_by_css_selector('#search_results_table > div.bui-pagination.results-paging_simplified.js-results-paging > nav > ul > li.bui-pagination__pages > ul > li.bui-pagination__item.bui-pagination__item--active.sr_pagination_item.current > a > div.bui-u-inline')[0]\n",
    "        print(curr_page.text,\"페이지 완료\")\n",
    "\n",
    "        move_next = driver.find_elements_by_css_selector('#search_results_table > div.bui-pagination.results-paging_simplified.js-results-paging > nav > ul > li.bui-pagination__item.bui-pagination__next-arrow > a')[0]\n",
    "        move_next.send_keys('\\n')\n",
    "\n",
    "        driver.implicitly_wait(1)\n",
    "        time.sleep(1+random.uniform(0,1))\n",
    "        \n",
    "    return raw_datas"
   ]
  },
  {
   "cell_type": "code",
   "execution_count": null,
   "id": "described-alexandria",
   "metadata": {},
   "outputs": [],
   "source": [
    "# 기존 요금, 현재 요금 데이터 파싱\n",
    "def price_parsing(datas):\n",
    "    target_prices = []\n",
    "    \n",
    "    for i in range(len(datas[0])):\n",
    "        target_prices.append(datas[0][i][2])\n",
    "\n",
    "    prices = [] \n",
    "\n",
    "    for i in range(len(target_prices)):\n",
    "        re_prices = re.findall('\\d+', target_prices[i])\n",
    "        base_curr_prices = [] \n",
    "\n",
    "        if len(re_prices) == 0:\n",
    "            base_curr_prices.append('')\n",
    "            base_curr_prices.append('')\n",
    "            \n",
    "        elif len(re_prices) == 2:\n",
    "            base_curr_prices.append(re_prices[0] + re_prices[1])\n",
    "            base_curr_prices.append('')\n",
    "            \n",
    "        else:\n",
    "            base_curr_prices.append(re_prices[0] + re_prices[1])\n",
    "            base_curr_prices.append(re_prices[2] + re_prices[3])\n",
    "\n",
    "        prices.append(base_curr_prices)\n",
    "\n",
    "#     print(prices)\n",
    "    return prices\n",
    "\n",
    "price_parsing(datas)"
   ]
  },
  {
   "cell_type": "code",
   "execution_count": 27,
   "id": "careful-letters",
   "metadata": {},
   "outputs": [
    {
     "name": "stdout",
     "output_type": "stream",
     "text": [
      "[('메종 글래드 제주', '5', '기존 요금 ₩205,124 현재 요금 ₩133,250', '8.1'), ('그랜드 하얏트 제주', '5', '', '8.7'), ('라마다 프라자 호텔', '5', '기존 요금 ₩205,787 현재 요금 ₩175,000', '8.1'), ('롯데시티호텔 제주', '4', '요금 ₩167,200', '8.6'), ('라마다 제주시티호텔', '4', '기존 요금 ₩94,956 현재 요금 ₩80,750', '8.2'), ('', '', '', ''), ('신라스테이 제주', '4', '기존 요금 ₩242,637 현재 요금 ₩145,200', '8.2'), ('호텔 리젠트 마린 더블루', '4', '기존 요금 ₩217,500 현재 요금 ₩87,000', '8.2'), ('호텔 휘슬락', '4', '기존 요금 ₩300,018 현재 요금 ₩75,000', '8.0'), ('오션스위츠 제주 호텔', '4', '요금 ₩85,000', '8.2'), ('베스트웨스턴 제주호텔', '4', '기존 요금 ₩150,000 현재 요금 ₩75,000', '8.0'), ('호텔난타 제주', '4', '기존 요금 ₩291,000 현재 요금 ₩87,300', '8.6'), ('제주 칼호텔', '5', '요금 ₩93,500', '7.9'), ('호텔 시리우스', '4', '기존 요금 ₩88,000 현재 요금 ₩77,440', '8.4'), ('제주 아길라 호텔 오시아노 스위츠', '3', '요금 ₩163,350', '8.2'), ('캠퍼트리 호텔 & 리조트', '', '기존 요금 ₩260,158 현재 요금 ₩169,000', '8.3'), ('제주 센트럴 시티호텔', '3', '', '7.9'), ('제주선샤인호텔', '3', '요금 ₩57,240', '8.3'), ('아스타호텔', '4', '기존 요금 ₩180,000 현재 요금 ₩79,200', '8.6'), ('호텔 위드 제주', '4', '기존 요금 ₩67,000 현재 요금 ₩58,960', '8.2'), ('제주 마레보 비치 호텔', '3', '요금 ₩139,200', '8.2'), ('제주오리엔탈호텔 & 카지노', '5', '요금 ₩74,000', '7.7'), ('유탑유블레스호텔 제주', '4', '기존 요금 ₩260,006 현재 요금 ₩98,384', '8.2'), ('호텔 레오', '4', '요금 ₩76,190', '8.5'), ('스타즈 호텔 제주 로베로', '3', '요금 ₩56,000', '7.9')]\n",
      "1 페이지 완료\n",
      "[('', '5', '', ''), ('', '5', '', ''), ('', '5', '', ''), ('', '4', '', ''), ('', '4', '', ''), ('', '', '', ''), ('', '4', '', ''), ('', '3', '', ''), ('', '3', '', ''), ('', '4', '', ''), ('', '2', '', ''), ('', '3', '', ''), ('', '4', '', ''), ('', '4', '', ''), ('', '3', '', ''), ('', '', '', ''), ('', '3', '', ''), ('', '3', '', ''), ('', '3', '', ''), ('', '', '', ''), ('', '', '', ''), ('', '4', '', ''), ('', '4', '', ''), ('', '3', '', ''), ('', '4', '', '')]\n",
      "2 페이지 완료\n",
      "[('제주 샬롬 호텔', '4', '기존 요금 ₩131,998 현재 요금 ₩55,757', ''), ('호텔 더원', '4', '', ''), ('R&T 호텔', '3', '요금 ₩37,900', ''), ('블루 스프링 호텔', '3', '요금 ₩119,700', ''), ('제주 리치호텔', '3', '요금 ₩85,860', ''), ('', '', '', ''), ('유니호텔제주', '4', '기존 요금 ₩187,721 현재 요금 ₩112,514', ''), ('제주 노블레스 관광호텔', '3', '요금 ₩74,000', ''), ('팜파스 호텔 제주', '3', '요금 ₩59,300', ''), ('아시아 호텔(구. 아비아호텔)', '4', '기존 요금 ₩54,900 현재 요금 ₩48,312', ''), ('제주 해호텔', '2', '', ''), ('씨스테이 호텔', '3', '', ''), ('어반 아일랜드 호텔 제주', '4', '', ''), ('제주 하바나 리조트', '4', '', ''), ('빨간풍차펜션', '3', '', ''), ('Floral Hotel Haema', '', '', ''), ('펄 호텔 제주', '3', '', ''), ('엘린 호텔', '3', '', ''), ('제주 팔레스호텔', '3', '', ''), ('호텔 메르블루', '', '', ''), ('더 제이드 호텔', '', '', ''), ('제주 라온호텔 앤 리조트', '4', '', ''), ('엘로망 펜션', '4', '', ''), ('에코 그린 리조트 & 풀 빌라', '3', '', ''), ('탑스텐 빌라 드 애월', '4', '', '')]\n",
      "3 페이지 완료\n",
      "[('', '2', '', ''), ('', '3', '', ''), ('', '3', '', ''), ('', '3', '', ''), ('', '3', '', ''), ('', '', '', ''), ('', '3', '', ''), ('', '', '', ''), ('', '', '', ''), ('', '', '', ''), ('', '', '', ''), ('', '', '', ''), ('', '3', '', ''), ('', '', '', ''), ('', '4', '', ''), ('', '3', '', ''), ('', '3', '', ''), ('', '3', '', ''), ('', '3', '', ''), ('', '3', '', ''), ('', '', '', ''), ('', '3', '', ''), ('', '', '', ''), ('', '3', '', ''), ('', '3', '', '')]\n",
      "4 페이지 완료\n",
      "[('', '3', '', ''), ('', '3', '', ''), ('', '3', '', ''), ('', '3', '', ''), ('', '4', '', ''), ('', '', '', ''), ('', '3', '', ''), ('', '3', '', ''), ('', '3', '', ''), ('', '3', '', ''), ('', '3', '', ''), ('', '3', '', ''), ('', '3', '', ''), ('', '3', '', ''), ('', '4', '', ''), ('', '4', '', ''), ('', '', '', ''), ('', '2', '', ''), ('', '', '', ''), ('', '', '', ''), ('', '2', '', ''), ('', '3', '', ''), ('', '2', '', ''), ('', '3', '', ''), ('', '', '', '')]\n",
      "5 페이지 완료\n",
      "[('', '', '', ''), ('', '3', '', ''), ('', '3', '', ''), ('', '3', '', ''), ('', '', '', ''), ('', '', '', ''), ('', '3', '', ''), ('', '3', '', ''), ('', '3', '', ''), ('', '3', '', ''), ('', '', '', ''), ('', '2', '', ''), ('', '3', '', ''), ('', '3', '', ''), ('', '3', '', ''), ('', '3', '', ''), ('', '', '', ''), ('', '3', '', ''), ('', '3', '', ''), ('', '3', '', ''), ('', '3', '', ''), ('', '3', '', ''), ('', '3', '', ''), ('', '3', '', ''), ('', '', '', '')]\n",
      "6 페이지 완료\n",
      "[('', '', '', ''), ('', '3', '', ''), ('', '', '', ''), ('', '', '', ''), ('', '', '', ''), ('', '', '', ''), ('', '3', '', ''), ('', '3', '', ''), ('', '', '', ''), ('', '3', '', ''), ('', '3', '', ''), ('', '', '', ''), ('', '3', '', ''), ('', '3', '', ''), ('', '3', '', ''), ('', '4', '', ''), ('', '3', '', ''), ('', '', '', ''), ('', '3', '', ''), ('', '3', '', ''), ('', '', '', ''), ('', '', '', ''), ('', '1', '', ''), ('', '', '', ''), ('', '3', '', '')]\n",
      "7 페이지 완료\n",
      "[('', '', '', ''), ('', '2', '', ''), ('', '2', '', ''), ('', '', '', ''), ('', '3', '', ''), ('', '', '', ''), ('', '3', '', ''), ('', '', '', ''), ('', '3', '', ''), ('', '1', '', ''), ('', '3', '', ''), ('', '', '', ''), ('', '', '', ''), ('', '', '', ''), ('', '3', '', ''), ('', '3', '', ''), ('', '3', '', ''), ('', '', '', ''), ('', '2', '', ''), ('', '3', '', ''), ('', '3', '', ''), ('', '2', '', ''), ('', '', '', ''), ('', '3', '', ''), ('', '4', '', '')]\n",
      "8 페이지 완료\n",
      "[('', '3', '', ''), ('', '3', '', ''), ('', '3', '', ''), ('', '', '', ''), ('', '3', '', ''), ('', '', '', ''), ('', '3', '', ''), ('', '', '', ''), ('', '4', '', ''), ('', '', '', ''), ('', '', '', ''), ('', '', '', ''), ('', '', '', ''), ('', '', '', ''), ('', '', '', ''), ('', '', '', ''), ('', '', '', ''), ('', '', '', ''), ('', '', '', ''), ('', '', '', ''), ('', '', '', ''), ('', '', '', ''), ('', '', '', ''), ('', '', '', ''), ('', '', '', '')]\n"
     ]
    },
    {
     "ename": "NameError",
     "evalue": "name 're' is not defined",
     "output_type": "error",
     "traceback": [
      "\u001b[0;31m---------------------------------------------------------------------------\u001b[0m",
      "\u001b[0;31mNameError\u001b[0m                                 Traceback (most recent call last)",
      "\u001b[0;32m<ipython-input-27-895ea6178efd>\u001b[0m in \u001b[0;36m<module>\u001b[0;34m\u001b[0m\n\u001b[1;32m      1\u001b[0m \u001b[0mdatas\u001b[0m \u001b[0;34m=\u001b[0m \u001b[0mget_hotelDatas\u001b[0m\u001b[0;34m(\u001b[0m\u001b[0;34m)\u001b[0m\u001b[0;34m\u001b[0m\u001b[0;34m\u001b[0m\u001b[0m\n\u001b[0;32m----> 2\u001b[0;31m \u001b[0mre_prices\u001b[0m \u001b[0;34m=\u001b[0m \u001b[0mprice_parsing\u001b[0m\u001b[0;34m(\u001b[0m\u001b[0mdatas\u001b[0m\u001b[0;34m)\u001b[0m\u001b[0;34m\u001b[0m\u001b[0;34m\u001b[0m\u001b[0m\n\u001b[0m\u001b[1;32m      3\u001b[0m \u001b[0;34m\u001b[0m\u001b[0m\n\u001b[1;32m      4\u001b[0m \u001b[0mraw_dicts\u001b[0m \u001b[0;34m=\u001b[0m \u001b[0;34m{\u001b[0m\u001b[0;34m'hotel_name'\u001b[0m\u001b[0;34m:\u001b[0m\u001b[0;34m''\u001b[0m\u001b[0;34m,\u001b[0m \u001b[0;34m'star'\u001b[0m\u001b[0;34m:\u001b[0m\u001b[0;34m''\u001b[0m\u001b[0;34m,\u001b[0m \u001b[0;34m'base_price'\u001b[0m\u001b[0;34m:\u001b[0m\u001b[0;34m''\u001b[0m\u001b[0;34m,\u001b[0m \u001b[0;34m'cur_price'\u001b[0m\u001b[0;34m:\u001b[0m\u001b[0;34m''\u001b[0m\u001b[0;34m,\u001b[0m \u001b[0;34m'grade'\u001b[0m\u001b[0;34m:\u001b[0m\u001b[0;34m''\u001b[0m\u001b[0;34m}\u001b[0m\u001b[0;34m\u001b[0m\u001b[0;34m\u001b[0m\u001b[0m\n\u001b[1;32m      5\u001b[0m \u001b[0mraw_datas\u001b[0m \u001b[0;34m=\u001b[0m \u001b[0;34m[\u001b[0m\u001b[0;34m]\u001b[0m\u001b[0;34m\u001b[0m\u001b[0;34m\u001b[0m\u001b[0m\n",
      "\u001b[0;32m<ipython-input-26-564cd4feee9f>\u001b[0m in \u001b[0;36mprice_parsing\u001b[0;34m(datas)\u001b[0m\n\u001b[1;32m      9\u001b[0m \u001b[0;34m\u001b[0m\u001b[0m\n\u001b[1;32m     10\u001b[0m     \u001b[0;32mfor\u001b[0m \u001b[0mi\u001b[0m \u001b[0;32min\u001b[0m \u001b[0mrange\u001b[0m\u001b[0;34m(\u001b[0m\u001b[0mlen\u001b[0m\u001b[0;34m(\u001b[0m\u001b[0mtarget_prices\u001b[0m\u001b[0;34m)\u001b[0m\u001b[0;34m)\u001b[0m\u001b[0;34m:\u001b[0m\u001b[0;34m\u001b[0m\u001b[0;34m\u001b[0m\u001b[0m\n\u001b[0;32m---> 11\u001b[0;31m         \u001b[0mre_prices\u001b[0m \u001b[0;34m=\u001b[0m \u001b[0mre\u001b[0m\u001b[0;34m.\u001b[0m\u001b[0mfindall\u001b[0m\u001b[0;34m(\u001b[0m\u001b[0;34m'\\d+'\u001b[0m\u001b[0;34m,\u001b[0m \u001b[0mtarget_prices\u001b[0m\u001b[0;34m[\u001b[0m\u001b[0mi\u001b[0m\u001b[0;34m]\u001b[0m\u001b[0;34m)\u001b[0m\u001b[0;34m\u001b[0m\u001b[0;34m\u001b[0m\u001b[0m\n\u001b[0m\u001b[1;32m     12\u001b[0m         \u001b[0mbase_curr_prices\u001b[0m \u001b[0;34m=\u001b[0m \u001b[0;34m[\u001b[0m\u001b[0;34m]\u001b[0m\u001b[0;34m\u001b[0m\u001b[0;34m\u001b[0m\u001b[0m\n\u001b[1;32m     13\u001b[0m \u001b[0;34m\u001b[0m\u001b[0m\n",
      "\u001b[0;31mNameError\u001b[0m: name 're' is not defined"
     ]
    }
   ],
   "source": [
    "datas = get_hotelDatas()\n",
    "re_prices = price_parsing(datas)\n",
    "\n",
    "raw_dicts = {'hotel_name':'', 'star':'', 'base_price':'', 'cur_price':'', 'grade':''}\n",
    "raw_datas = []\n",
    "hotelName_idx, star_idx, grade_idx = 0, 1, 3\n",
    "\n",
    "for i in range(len(datas[0])):\n",
    "    \n",
    "    raw_dicts['hotel_name'] = datas[0][i][hotelName_idx]\n",
    "    raw_dicts['star'] = datas[0][i][star_idx]\n",
    "    raw_dicts['base_price'] = re_prices[i][0]\n",
    "    raw_dicts['cur_price'] = re_prices[i][1]\n",
    "    raw_dicts['grade'] = datas[0][i][grade_idx]\n",
    "    \n",
    "    raw_datas.append(raw_dicts.copy())\n",
    "    \n",
    "raw_datas"
   ]
  },
  {
   "cell_type": "markdown",
   "id": "incident-mixture",
   "metadata": {},
   "source": [
    "---"
   ]
  },
  {
   "cell_type": "code",
   "execution_count": 1,
   "id": "informal-warning",
   "metadata": {},
   "outputs": [],
   "source": [
    "# 한글 설정\n",
    "import matplotlib.pyplot as plt\n",
    "%matplotlib inline\n",
    "\n",
    "from matplotlib import font_manager, rc\n",
    "plt.rcParams['axes.unicode_minus'] = False\n",
    "\n",
    "f_path = \"/Users/seyoung/Library/Fonts/AppleGothic.ttf\"\n",
    "font_name = font_manager.FontProperties(fname=f_path).get_name()\n",
    "rc('font', family=font_name)"
   ]
  }
 ],
 "metadata": {
  "kernelspec": {
   "display_name": "Python 3",
   "language": "python",
   "name": "python3"
  },
  "language_info": {
   "codemirror_mode": {
    "name": "ipython",
    "version": 3
   },
   "file_extension": ".py",
   "mimetype": "text/x-python",
   "name": "python",
   "nbconvert_exporter": "python",
   "pygments_lexer": "ipython3",
   "version": "3.9.1"
  }
 },
 "nbformat": 4,
 "nbformat_minor": 5
}
