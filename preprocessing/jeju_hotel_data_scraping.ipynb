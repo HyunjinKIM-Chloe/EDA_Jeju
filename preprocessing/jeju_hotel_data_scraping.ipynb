{
 "cells": [
  {
   "cell_type": "markdown",
   "id": "female-carpet",
   "metadata": {},
   "source": [
    "### Hotel in Jeju Data\n",
    "- '부킹닷컴'의 제주 내 호텔 성급, 가격, 위치, 후기를 스크래핑합니다."
   ]
  },
  {
   "cell_type": "code",
   "execution_count": 42,
   "id": "raised-principal",
   "metadata": {},
   "outputs": [],
   "source": [
    "from selenium import webdriver\n",
    "from selenium.webdriver.common.keys import Keys\n",
    "from bs4 import BeautifulSoup\n",
    "from time import sleep\n",
    "import re\n",
    "import json"
   ]
  },
  {
   "cell_type": "code",
   "execution_count": 59,
   "id": "pleased-forest",
   "metadata": {},
   "outputs": [],
   "source": [
    "url = 'https://www.booking.com/searchresults.ko.html?aid=376440&label=bdot-SIcScZhJX6z_*YtUYg62hwS267777897793%3Apl%3Ata%3Ap1%3Ap22%2C563%2C000%3Aac%3Aap%3Aneg%3Afi%3Atikwd-325272469656%3Alp1009871%3Ali%3Adec%3Adm%3Appccp%3DUmFuZG9tSVYkc2RlIyh9YUlRwjG4dAJkHxCuUKVzpFo&sid=857a41f185409d9f6d0c6b4d32c4534e&sb=1&src=searchresults&src_elem=sb&error_url=https%3A%2F%2Fwww.booking.com%2Fsearchresults.ko.html%3Faid%3D376440%3Blabel%3Dbdot-SIcScZhJX6z_%252AYtUYg62hwS267777897793%253Apl%253Ata%253Ap1%253Ap22%252C563%252C000%253Aac%253Aap%253Aneg%253Afi%253Atikwd-325272469656%253Alp1009871%253Ali%253Adec%253Adm%253Appccp%253DUmFuZG9tSVYkc2RlIyh9YUlRwjG4dAJkHxCuUKVzpFo%3Bsid%3D857a41f185409d9f6d0c6b4d32c4534e%3Btmpl%3Dsearchresults%3Bcity%3D-714191%3Bclass_interval%3D1%3Bdest_id%3D-714191%3Bdest_type%3Dcity%3Bdr_ps%3DIDR%3Bdtdisc%3D0%3Bfrom_idr%3D1%3Bilp%3D1%3Binac%3D0%3Bindex_postcard%3D0%3Blabel_click%3Dundef%3Boffset%3D0%3Bpostcard%3D0%3Broom1%3DA%252CA%3Bsb_price_type%3Dtotal%3Bshw_aparth%3D1%3Bslp_r_match%3D0%3Bsrpvid%3De02638be83480079%3Bss_all%3D0%3Bssb%3Dempty%3Bsshis%3D0%3Btop_ufis%3D1%26%3B&ss=%EC%A0%9C%EC%A3%BC&is_ski_area=0&ssne=%EC%A0%9C%EC%A3%BC&ssne_untouched=%EC%A0%9C%EC%A3%BC&city=-714191&checkin_year=2021&checkin_month=4&checkin_monthday=24&checkout_year=2021&checkout_month=4&checkout_monthday=25&group_adults=2&group_children=0&no_rooms=1&from_sf=1'\n",
    "path = '/Users/seyoung/2021/dss17/eda_etc/chromedriver'\n",
    "driver = webdriver.Chrome(path)\n",
    "driver.get(url)\n",
    "\n",
    "source = driver.page_source\n",
    "soup = BeautifulSoup(source, 'html.parser')"
   ]
  },
  {
   "cell_type": "code",
   "execution_count": 44,
   "id": "eastern-conspiracy",
   "metadata": {},
   "outputs": [
    {
     "data": {
      "text/plain": [
       "<selenium.webdriver.remote.webelement.WebElement (session=\"0c32c7bd9d2f5bfebd93b50e89e61069\", element=\"2c9d753a-d808-47da-aa99-6556c03fcace\")>"
      ]
     },
     "execution_count": 44,
     "metadata": {},
     "output_type": "execute_result"
    }
   ],
   "source": [
    "page_bar = driver.find_elements_by_css_selector('#search_results_table > div.bui-pagination.results-paging_simplified.js-results-paging > nav > ul > li.bui-pagination__pages > ul')[0]\n",
    "page_bar"
   ]
  },
  {
   "cell_type": "code",
   "execution_count": 45,
   "id": "focal-coffee",
   "metadata": {},
   "outputs": [
    {
     "name": "stdout",
     "output_type": "stream",
     "text": [
      "1\n",
      "2\n",
      "3\n",
      "4\n",
      "5\n",
      "9\n"
     ]
    }
   ],
   "source": [
    "# 전체 페이지 개수 확인\n",
    "pages = page_bar.find_elements_by_css_selector('a > div.bui-u-inline')\n",
    "last_pages = ''\n",
    "\n",
    "for idx, page in enumerate(pages):\n",
    "    print(page.text)\n",
    "    if idx == len(pages)-1: # 마지막 페이지\n",
    "        last_pages = page.text\n"
   ]
  },
  {
   "cell_type": "code",
   "execution_count": 60,
   "id": "tested-writing",
   "metadata": {},
   "outputs": [],
   "source": [
    "# 현재 페이지 번호\n",
    "def get_curr():\n",
    "    curr_page = driver.find_elements_by_css_selector('#search_results_table > div.bui-pagination.results-paging_simplified.js-results-paging > nav > ul > li.bui-pagination__pages > ul > li.bui-pagination__item.bui-pagination__item--active.sr_pagination_item.current > a > div.bui-u-inline')[0]\n",
    "    \n",
    "    return int(curr_page.text)"
   ]
  },
  {
   "cell_type": "code",
   "execution_count": 61,
   "id": "authentic-ireland",
   "metadata": {},
   "outputs": [],
   "source": [
    "# 성급 (성급이 표시되지 않은 호텔 제외)\n",
    "def get_stars(listed):\n",
    "    stars = []\n",
    "\n",
    "    for i in range(1, len(listed)):\n",
    "        try:\n",
    "            like = driver.find_element_by_xpath('//*[@id=\"hotellist_inner\"]/div['+ str(i) +']/div[2]/div[1]/div[1]/div[1]/span/span[1]/span/span')\n",
    "            a = like.get_attribute('aria-label')\n",
    "            stars.append(a[0])\n",
    "            \n",
    "        # 성급이 표시되지 않는 호텔 \n",
    "        except Exception as NoSuchElementException:\n",
    "            stars.append('')\n",
    "    \n",
    "    return stars"
   ]
  },
  {
   "cell_type": "code",
   "execution_count": 62,
   "id": "weird-tradition",
   "metadata": {},
   "outputs": [],
   "source": [
    "# 가격\n",
    "def get_prices(listed):\n",
    "    prices = []\n",
    "    \n",
    "    for i in range(1, len(listed)):\n",
    "        try:\n",
    "            price = listed[0].find_elements_by_xpath('//*[@id=\"hotellist_inner\"]/div['+ str(i) +']/div[2]/div[2]/div/div/div/div/div[2]/div[1]/div[2]/div/div')[0]\n",
    "            base_price = listed[0].find_elements_by_xpath('//*[@id=\"hotellist_inner\"]/div['+ str(i) +']/div[2]/div[2]/div/div/div/div/div[2]/div[1]/div[2]/div/span')[0]\n",
    "            \n",
    "            # strong label로 표시된 가격 포함\n",
    "            if base_price.text == '':\n",
    "                base_price = listed[0].find_elements_by_xpath('//*[@id=\"hotellist_inner\"]/div[' + str(i) + ']/div[2]/div[2]/div/table/tbody/tr/td[2]/div[2]/strong/label')[0]\n",
    "            \n",
    "            prices.append(base_price.text)\n",
    "            \n",
    "        # 중간 베너 제외\n",
    "        except Exception as IndexError:\n",
    "            prices.append('')\n",
    "            \n",
    "    return prices"
   ]
  },
  {
   "cell_type": "code",
   "execution_count": 63,
   "id": "turkish-short",
   "metadata": {},
   "outputs": [],
   "source": [
    "# 평점\n",
    "def get_grades(listed):\n",
    "    grades = []\n",
    "    \n",
    "    for i in range(1, len(listed)):\n",
    "        try:\n",
    "            grade = listed[0].find_elements_by_xpath('//*[@id=\"hotellist_inner\"]/div[' + str(i) + ']/div[2]/div[1]/div[2]/div/div/a/div/div[1]')[0]\n",
    "            grades.append(grade.text)\n",
    "            \n",
    "        except Exception as IndexError:\n",
    "            grades.append('')\n",
    "            \n",
    "    return grades"
   ]
  },
  {
   "cell_type": "code",
   "execution_count": 64,
   "id": "packed-transmission",
   "metadata": {},
   "outputs": [],
   "source": [
    "# 호텔명\n",
    "def get_names(listed):\n",
    "    names = []\n",
    "    \n",
    "    for i in range(1, len(listed)):\n",
    "        try:\n",
    "            name = listed[0].find_elements_by_xpath('//*[@id=\"hotellist_inner\"]/div['+ str(i) +']/div[2]/div[1]/div[1]/div[1]/h3/a/span[1]')[0]\n",
    "            names.append(name.text)\n",
    "            \n",
    "        # 중간 베너 제외\n",
    "        except Exception as IndexError:\n",
    "            names.append('')\n",
    "            \n",
    "    return names"
   ]
  },
  {
   "cell_type": "code",
   "execution_count": 55,
   "id": "sudden-wheel",
   "metadata": {},
   "outputs": [
    {
     "data": {
      "text/plain": [
       "['제주, 노연로 66',\n",
       " '제주, 노연로 12',\n",
       " '제주, 노연로 80',\n",
       " '',\n",
       " '제주, 도령로 83',\n",
       " '제주, 노연로 100',\n",
       " '제주, 탑동로 66',\n",
       " '제주, 중앙로 304',\n",
       " '제주, 서부두2길 20',\n",
       " '제주, 해안마을서 4길 100',\n",
       " '제주, 서부두2길 26',\n",
       " '제주, 도령로 27',\n",
       " '제주, 선돌목동길 56-26',\n",
       " '제주, 조천읍 조함해안로 502',\n",
       " '제주, 탑동 해안로 74',\n",
       " '제주, 도령로 133',\n",
       " '제주, 애월읍 곽지1길 23',\n",
       " '제주, 서사로 129',\n",
       " '제주, 조천읍 신북로 481-9',\n",
       " '제주, 중앙로 151',\n",
       " '제주, 노연로 34',\n",
       " '제주, 연삼로 14',\n",
       " '제주, 한림읍 옹포2길 10',\n",
       " '제주, 동광로 34',\n",
       " '제주, 애월읍 애월해안로 656']"
      ]
     },
     "execution_count": 55,
     "metadata": {},
     "output_type": "execute_result"
    }
   ],
   "source": [
    "# 주소\n",
    "def get_addrs(listed):\n",
    "    addrs = []\n",
    "    \n",
    "    # 새 창 열기\n",
    "    for i in range(1, len(listed)):\n",
    "\n",
    "        try:\n",
    "            href = driver.find_element_by_xpath('//*[@id=\"hotellist_inner\"]/div['+ str(i) +']/div[2]/div[1]/div[1]/div[1]/h3/a')\n",
    "            href.send_keys(Keys.CONTROL + '\\n') \n",
    "            \n",
    "           # 새로운 탭으로 이동 (2번째 탭)\n",
    "            driver.switch_to.window(driver.window_handles[1])\n",
    "            addr = driver.find_elements_by_xpath('//*[@id=\"showMap2\"]/span[1]')[0]\n",
    "            addrs.append(addr.text)\n",
    "            \n",
    "            driver.close()\n",
    "            driver.switch_to_window(driver.window_handles[0])\n",
    "\n",
    "        except Exception as NoSuchElementException:\n",
    "            addrs.append('')\n",
    "            \n",
    "    return addrs\n"
   ]
  },
  {
   "cell_type": "code",
   "execution_count": 68,
   "id": "retired-jamaica",
   "metadata": {},
   "outputs": [
    {
     "data": {
      "text/plain": [
       "[('제주 오름펜션', '3', '기존 요금 ₩49,400 현재 요금 ₩44,954', '7.4'),\n",
       " ('백록담펜션', '3', '기존 요금 ₩49,500 현재 요금 ₩45,045', ''),\n",
       " ('썬랜드 호텔', '3', '₩76,977', '7.7'),\n",
       " ('거문오름 호스텔', '', '요금 ₩54,000', '7.7'),\n",
       " ('아뜨네 펜션', '3', '₩77,317', '7.4'),\n",
       " ('제주 바다성 펜션', '3', '요금 ₩35,000', ''),\n",
       " ('퓨어스테이', '', '', ''),\n",
       " ('벤티모 호텔 앤 레지던스 제주', '4', '', '9.4'),\n",
       " ('밀레니엄 호텔', '', '기존 요금 ₩31,700 현재 요금 ₩28,847', ''),\n",
       " ('대웅 황토리조트', '', '기존 요금 ₩150,091 현재 요금 ₩70,980', ''),\n",
       " ('Hannahstay in Jeju Guesthouse', '', '기존 요금 ₩60,000 현재 요금 ₩54,600', '9.1'),\n",
       " ('숨 게스트하우스 제주공항', '', '요금 ₩43,800', '8.1'),\n",
       " ('노마드인제주 게스트하우스', '', '요금 ₩50,000', '8.9'),\n",
       " ('제주도 하숙집', '', '기존 요금 ₩44,000 현재 요금 ₩40,040', '9.7'),\n",
       " ('예스준 게스트하우스', '', '요금 ₩50,000', '8.6'),\n",
       " ('그린데이 게스트하우스', '', '기존 요금 ₩38,250 현재 요금 ₩34,808', '8.3')]"
      ]
     },
     "execution_count": 68,
     "metadata": {},
     "output_type": "execute_result"
    }
   ],
   "source": [
    "def data_scraping():\n",
    "    res_stars, res_names, res_prices, res_grades = [], [], [], []\n",
    "    \n",
    "    root_div = driver.find_elements_by_css_selector('#hotellist_inner')[0]\n",
    "    # 한 페이지당 호출되는 목록 수\n",
    "    listed = root_div.find_elements_by_xpath('//*[@id=\"hotellist_inner\"]/div')\n",
    "    \n",
    "    res_stars = get_stars(listed)\n",
    "    res_names = get_names(listed)\n",
    "    res_prices = get_prices(listed)\n",
    "    res_grades = get_grades(listed)\n",
    "    \n",
    "    return list(zip(res_names, res_stars, res_prices, res_grades))\n",
    "\n",
    "data_scraping()"
   ]
  },
  {
   "cell_type": "code",
   "execution_count": 67,
   "id": "current-panama",
   "metadata": {},
   "outputs": [],
   "source": [
    "def get_hotelDatas():\n",
    "    raw_datas = []\n",
    "    \n",
    "    # 스크래핑 페이지 범위 (현재 페이지 ~ 마지막 페이지)\n",
    "    while get_curr() <= int(last_pages):\n",
    "        # scraping\n",
    "        result = data_scraping()\n",
    "        raw_datas.append(result)\n",
    "        # print(result)\n",
    "\n",
    "        if get_curr() == int(last_pages):\n",
    "            break\n",
    "\n",
    "        curr_page = driver.find_elements_by_css_selector('#search_results_table > div.bui-pagination.results-paging_simplified.js-results-paging > nav > ul > li.bui-pagination__pages > ul > li.bui-pagination__item.bui-pagination__item--active.sr_pagination_item.current > a > div.bui-u-inline')[0]\n",
    "        print(curr_page.text,\"페이지 완료\")\n",
    "\n",
    "        move_next = driver.find_elements_by_css_selector('#search_results_table > div.bui-pagination.results-paging_simplified.js-results-paging > nav > ul > li.bui-pagination__item.bui-pagination__next-arrow > a')[0]\n",
    "        move_next.send_keys('\\n')\n",
    "\n",
    "        driver.implicitly_wait(1)\n",
    "        time.sleep(1+random.uniform(0,1))\n",
    "        \n",
    "    return raw_datas"
   ]
  },
  {
   "cell_type": "code",
   "execution_count": 66,
   "id": "described-alexandria",
   "metadata": {},
   "outputs": [
    {
     "data": {
      "text/plain": [
       "[['49400', '44954'],\n",
       " ['49500', '45045'],\n",
       " ['76977', ''],\n",
       " ['54000', ''],\n",
       " ['77317', ''],\n",
       " ['35000', ''],\n",
       " ['', ''],\n",
       " ['', ''],\n",
       " ['31700', '28847'],\n",
       " ['150091', '70980'],\n",
       " ['60000', '54600'],\n",
       " ['43800', ''],\n",
       " ['50000', ''],\n",
       " ['44000', '40040'],\n",
       " ['50000', ''],\n",
       " ['38250', '34808']]"
      ]
     },
     "execution_count": 66,
     "metadata": {},
     "output_type": "execute_result"
    }
   ],
   "source": [
    "# 기존 요금, 현재 요금 데이터 파싱\n",
    "def price_parsing(datas):\n",
    "    target_prices = []\n",
    "    \n",
    "    for i in range(len(datas[0])):\n",
    "        target_prices.append(datas[0][i][2])\n",
    "\n",
    "    prices = [] \n",
    "\n",
    "    for i in range(len(target_prices)):\n",
    "        re_prices = re.findall('\\d+', target_prices[i])\n",
    "        base_curr_prices = [] \n",
    "\n",
    "        if len(re_prices) == 0:\n",
    "            base_curr_prices.append('')\n",
    "            base_curr_prices.append('')\n",
    "            \n",
    "        elif len(re_prices) == 2:\n",
    "            base_curr_prices.append(re_prices[0] + re_prices[1])\n",
    "            base_curr_prices.append('')\n",
    "            \n",
    "        else:\n",
    "            base_curr_prices.append(re_prices[0] + re_prices[1])\n",
    "            base_curr_prices.append(re_prices[2] + re_prices[3])\n",
    "\n",
    "        prices.append(base_curr_prices)\n",
    "\n",
    "#     print(prices)\n",
    "    return prices\n",
    "\n",
    "price_parsing(datas)"
   ]
  },
  {
   "cell_type": "code",
   "execution_count": 65,
   "id": "careful-letters",
   "metadata": {},
   "outputs": [
    {
     "data": {
      "text/plain": [
       "[{'hotel_name': '제주 오름펜션',\n",
       "  'star': '3',\n",
       "  'base_price': '49400',\n",
       "  'cur_price': '44954',\n",
       "  'grade': '7.4'},\n",
       " {'hotel_name': '백록담펜션',\n",
       "  'star': '3',\n",
       "  'base_price': '49500',\n",
       "  'cur_price': '45045',\n",
       "  'grade': ''},\n",
       " {'hotel_name': '썬랜드 호텔',\n",
       "  'star': '3',\n",
       "  'base_price': '76977',\n",
       "  'cur_price': '',\n",
       "  'grade': '7.7'},\n",
       " {'hotel_name': '거문오름 호스텔',\n",
       "  'star': '',\n",
       "  'base_price': '54000',\n",
       "  'cur_price': '',\n",
       "  'grade': '7.7'},\n",
       " {'hotel_name': '아뜨네 펜션',\n",
       "  'star': '3',\n",
       "  'base_price': '77317',\n",
       "  'cur_price': '',\n",
       "  'grade': '7.4'},\n",
       " {'hotel_name': '제주 바다성 펜션',\n",
       "  'star': '3',\n",
       "  'base_price': '35000',\n",
       "  'cur_price': '',\n",
       "  'grade': ''},\n",
       " {'hotel_name': '퓨어스테이',\n",
       "  'star': '',\n",
       "  'base_price': '',\n",
       "  'cur_price': '',\n",
       "  'grade': ''},\n",
       " {'hotel_name': '벤티모 호텔 앤 레지던스 제주',\n",
       "  'star': '4',\n",
       "  'base_price': '',\n",
       "  'cur_price': '',\n",
       "  'grade': '9.4'},\n",
       " {'hotel_name': '밀레니엄 호텔',\n",
       "  'star': '',\n",
       "  'base_price': '31700',\n",
       "  'cur_price': '28847',\n",
       "  'grade': ''},\n",
       " {'hotel_name': '대웅 황토리조트',\n",
       "  'star': '',\n",
       "  'base_price': '150091',\n",
       "  'cur_price': '70980',\n",
       "  'grade': ''},\n",
       " {'hotel_name': 'Hannahstay in Jeju Guesthouse',\n",
       "  'star': '',\n",
       "  'base_price': '60000',\n",
       "  'cur_price': '54600',\n",
       "  'grade': '9.1'},\n",
       " {'hotel_name': '숨 게스트하우스 제주공항',\n",
       "  'star': '',\n",
       "  'base_price': '43800',\n",
       "  'cur_price': '',\n",
       "  'grade': '8.1'},\n",
       " {'hotel_name': '노마드인제주 게스트하우스',\n",
       "  'star': '',\n",
       "  'base_price': '50000',\n",
       "  'cur_price': '',\n",
       "  'grade': '8.9'},\n",
       " {'hotel_name': '제주도 하숙집',\n",
       "  'star': '',\n",
       "  'base_price': '44000',\n",
       "  'cur_price': '40040',\n",
       "  'grade': '9.7'},\n",
       " {'hotel_name': '예스준 게스트하우스',\n",
       "  'star': '',\n",
       "  'base_price': '50000',\n",
       "  'cur_price': '',\n",
       "  'grade': '8.6'},\n",
       " {'hotel_name': '그린데이 게스트하우스',\n",
       "  'star': '',\n",
       "  'base_price': '38250',\n",
       "  'cur_price': '34808',\n",
       "  'grade': '8.3'}]"
      ]
     },
     "execution_count": 65,
     "metadata": {},
     "output_type": "execute_result"
    }
   ],
   "source": [
    "datas = get_hotelDatas()\n",
    "re_prices = price_parsing(datas)\n",
    "\n",
    "raw_dicts = {'hotel_name':'', 'star':'', 'base_price':'', 'cur_price':'', 'grade':''}\n",
    "raw_datas = []\n",
    "hotelName_idx, star_idx, grade_idx = 0, 1, 3\n",
    "\n",
    "for i in range(len(datas[0])):\n",
    "    \n",
    "    raw_dicts['hotel_name'] = datas[0][i][hotelName_idx]\n",
    "    raw_dicts['star'] = datas[0][i][star_idx]\n",
    "    raw_dicts['base_price'] = re_prices[i][0]\n",
    "    raw_dicts['cur_price'] = re_prices[i][1]\n",
    "    raw_dicts['grade'] = datas[0][i][grade_idx]\n",
    "    \n",
    "    raw_datas.append(raw_dicts.copy())\n",
    "    \n",
    "raw_datas"
   ]
  },
  {
   "cell_type": "markdown",
   "id": "incident-mixture",
   "metadata": {},
   "source": [
    "---"
   ]
  },
  {
   "cell_type": "code",
   "execution_count": 1,
   "id": "informal-warning",
   "metadata": {},
   "outputs": [],
   "source": [
    "# 한글 설정\n",
    "import matplotlib.pyplot as plt\n",
    "%matplotlib inline\n",
    "\n",
    "from matplotlib import font_manager, rc\n",
    "plt.rcParams['axes.unicode_minus'] = False\n",
    "\n",
    "f_path = \"/Users/seyoung/Library/Fonts/AppleGothic.ttf\"\n",
    "font_name = font_manager.FontProperties(fname=f_path).get_name()\n",
    "rc('font', family=font_name)"
   ]
  }
 ],
 "metadata": {
  "kernelspec": {
   "display_name": "Python 3",
   "language": "python",
   "name": "python3"
  },
  "language_info": {
   "codemirror_mode": {
    "name": "ipython",
    "version": 3
   },
   "file_extension": ".py",
   "mimetype": "text/x-python",
   "name": "python",
   "nbconvert_exporter": "python",
   "pygments_lexer": "ipython3",
   "version": "3.9.1"
  }
 },
 "nbformat": 4,
 "nbformat_minor": 5
}
