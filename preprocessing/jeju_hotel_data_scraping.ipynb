{
 "cells": [
  {
   "cell_type": "markdown",
   "id": "female-carpet",
   "metadata": {},
   "source": [
    "### Hotel in Jeju Data\n",
    "- '부킹닷컴'의 제주 내 호텔 성급, 가격, 위치, 후기를 스크래핑합니다."
   ]
  },
  {
   "cell_type": "code",
   "execution_count": 171,
   "id": "raised-principal",
   "metadata": {},
   "outputs": [],
   "source": [
    "from selenium import webdriver\n",
    "from bs4 import BeautifulSoup\n",
    "from time import sleep\n",
    "import re\n",
    "import json"
   ]
  },
  {
   "cell_type": "code",
   "execution_count": 124,
   "id": "pleased-forest",
   "metadata": {},
   "outputs": [],
   "source": [
    "url = 'https://www.booking.com/searchresults.ko.html?aid=376440&label=bdot-SIcScZhJX6z_*YtUYg62hwS267777897793%3Apl%3Ata%3Ap1%3Ap22%2C563%2C000%3Aac%3Aap%3Aneg%3Afi%3Atikwd-325272469656%3Alp1009871%3Ali%3Adec%3Adm%3Appccp%3DUmFuZG9tSVYkc2RlIyh9YUlRwjG4dAJkHxCuUKVzpFo&sid=857a41f185409d9f6d0c6b4d32c4534e&sb=1&src=searchresults&src_elem=sb&error_url=https%3A%2F%2Fwww.booking.com%2Fsearchresults.ko.html%3Faid%3D376440%3Blabel%3Dbdot-SIcScZhJX6z_%252AYtUYg62hwS267777897793%253Apl%253Ata%253Ap1%253Ap22%252C563%252C000%253Aac%253Aap%253Aneg%253Afi%253Atikwd-325272469656%253Alp1009871%253Ali%253Adec%253Adm%253Appccp%253DUmFuZG9tSVYkc2RlIyh9YUlRwjG4dAJkHxCuUKVzpFo%3Bsid%3D857a41f185409d9f6d0c6b4d32c4534e%3Btmpl%3Dsearchresults%3Bcity%3D-714191%3Bclass_interval%3D1%3Bdest_id%3D-714191%3Bdest_type%3Dcity%3Bdr_ps%3DIDR%3Bdtdisc%3D0%3Bfrom_idr%3D1%3Bilp%3D1%3Binac%3D0%3Bindex_postcard%3D0%3Blabel_click%3Dundef%3Boffset%3D0%3Bpostcard%3D0%3Broom1%3DA%252CA%3Bsb_price_type%3Dtotal%3Bshw_aparth%3D1%3Bslp_r_match%3D0%3Bsrpvid%3De02638be83480079%3Bss_all%3D0%3Bssb%3Dempty%3Bsshis%3D0%3Btop_ufis%3D1%26%3B&ss=%EC%A0%9C%EC%A3%BC&is_ski_area=0&ssne=%EC%A0%9C%EC%A3%BC&ssne_untouched=%EC%A0%9C%EC%A3%BC&city=-714191&checkin_year=2021&checkin_month=4&checkin_monthday=24&checkout_year=2021&checkout_month=4&checkout_monthday=25&group_adults=2&group_children=0&no_rooms=1&from_sf=1'\n",
    "path = '/Users/seyoung/2021/dss17/eda_etc/chromedriver'\n",
    "driver = webdriver.Chrome(path)\n",
    "driver.get(url)\n",
    "\n",
    "source = driver.page_source\n",
    "soup = BeautifulSoup(source, 'html.parser')"
   ]
  },
  {
   "cell_type": "code",
   "execution_count": 125,
   "id": "eastern-conspiracy",
   "metadata": {},
   "outputs": [
    {
     "data": {
      "text/plain": [
       "<selenium.webdriver.remote.webelement.WebElement (session=\"45ab432982fd69be27e933cd04481b42\", element=\"8ee4f3aa-e0fe-4740-a945-a0f8f6102d21\")>"
      ]
     },
     "execution_count": 125,
     "metadata": {},
     "output_type": "execute_result"
    }
   ],
   "source": [
    "page_bar = driver.find_elements_by_css_selector('#search_results_table > div.bui-pagination.results-paging_simplified.js-results-paging > nav > ul > li.bui-pagination__pages > ul')[0]\n",
    "page_bar"
   ]
  },
  {
   "cell_type": "code",
   "execution_count": 126,
   "id": "focal-coffee",
   "metadata": {},
   "outputs": [
    {
     "name": "stdout",
     "output_type": "stream",
     "text": [
      "1\n",
      "2\n",
      "3\n",
      "4\n",
      "5\n",
      "9\n"
     ]
    }
   ],
   "source": [
    "# 전체 페이지 개수 확인\n",
    "pages = page_bar.find_elements_by_css_selector('a > div.bui-u-inline')\n",
    "last_pages = ''\n",
    "\n",
    "for idx, page in enumerate(pages):\n",
    "    print(page.text)\n",
    "    if idx == len(pages)-1: # 마지막 페이지\n",
    "        last_pages = page.text\n"
   ]
  },
  {
   "cell_type": "code",
   "execution_count": 127,
   "id": "tested-writing",
   "metadata": {},
   "outputs": [],
   "source": [
    "# 현재 페이지 번호\n",
    "def get_curr():\n",
    "    curr_page = driver.find_elements_by_css_selector('#search_results_table > div.bui-pagination.results-paging_simplified.js-results-paging > nav > ul > li.bui-pagination__pages > ul > li.bui-pagination__item.bui-pagination__item--active.sr_pagination_item.current > a > div.bui-u-inline')[0]\n",
    "    \n",
    "    return int(curr_page.text)"
   ]
  },
  {
   "cell_type": "code",
   "execution_count": 128,
   "id": "authentic-ireland",
   "metadata": {},
   "outputs": [],
   "source": [
    "# 성급 (성급이 표시되지 않은 호텔 제외)\n",
    "def get_stars(listed):\n",
    "    stars = []\n",
    "\n",
    "    for i in range(1, len(listed)):\n",
    "        try:\n",
    "            like = driver.find_element_by_xpath('//*[@id=\"hotellist_inner\"]/div['+ str(i) +']/div[2]/div[1]/div[1]/div[1]/span/span[1]/span/span')\n",
    "            a = like.get_attribute('aria-label')\n",
    "            stars.append(a[0])\n",
    "            \n",
    "        # 성급이 표시되지 않는 호텔 \n",
    "        except Exception as NoSuchElementException:\n",
    "            stars.append('')\n",
    "    \n",
    "    return stars"
   ]
  },
  {
   "cell_type": "code",
   "execution_count": 129,
   "id": "weird-tradition",
   "metadata": {},
   "outputs": [],
   "source": [
    "# 가격\n",
    "def get_prices(listed):\n",
    "    prices = []\n",
    "    \n",
    "    for i in range(1, len(listed)):\n",
    "        try:\n",
    "            price = listed[0].find_elements_by_xpath('//*[@id=\"hotellist_inner\"]/div['+ str(i) +']/div[2]/div[2]/div/div/div/div/div[2]/div[1]/div[2]/div/div')[0]\n",
    "            base_price = listed[0].find_elements_by_xpath('//*[@id=\"hotellist_inner\"]/div['+ str(i) +']/div[2]/div[2]/div/div/div/div/div[2]/div[1]/div[2]/div/span')[0]\n",
    "            \n",
    "            # strong label로 표시된 가격 포함\n",
    "            if base_price.text == '':\n",
    "                base_price = listed[0].find_elements_by_xpath('//*[@id=\"hotellist_inner\"]/div[' + str(i) + ']/div[2]/div[2]/div/table/tbody/tr/td[2]/div[2]/strong/label')[0]\n",
    "            \n",
    "            prices.append(base_price.text)\n",
    "            \n",
    "        # 중간 베너 제외\n",
    "        except Exception as IndexError:\n",
    "            prices.append('')\n",
    "            \n",
    "    return prices"
   ]
  },
  {
   "cell_type": "code",
   "execution_count": 130,
   "id": "packed-transmission",
   "metadata": {},
   "outputs": [],
   "source": [
    "# 호텔명\n",
    "def get_names(listed):\n",
    "    names = []\n",
    "    \n",
    "    for i in range(1, len(listed)):\n",
    "        try:\n",
    "            name = listed[0].find_elements_by_xpath('//*[@id=\"hotellist_inner\"]/div['+ str(i) +']/div[2]/div[1]/div[1]/div[1]/h3/a/span[1]')[0]\n",
    "            names.append(name.text)\n",
    "            \n",
    "        # 중간 베너 제외\n",
    "        except Exception as IndexError:\n",
    "            names.append('')\n",
    "            \n",
    "    return names"
   ]
  },
  {
   "cell_type": "code",
   "execution_count": 131,
   "id": "retired-jamaica",
   "metadata": {},
   "outputs": [
    {
     "data": {
      "text/plain": [
       "[('메종 글래드 제주', '5', '기존 요금 ₩205,124 현재 요금 ₩133,250'),\n",
       " ('그랜드 하얏트 제주', '5', ''),\n",
       " ('라마다 프라자 호텔', '5', '기존 요금 ₩205,787 현재 요금 ₩175,000'),\n",
       " ('롯데시티호텔 제주', '4', '요금 ₩167,200'),\n",
       " ('라마다 제주시티호텔', '4', '기존 요금 ₩94,956 현재 요금 ₩80,750'),\n",
       " ('호텔 리젠트 마린 더블루', '4', '기존 요금 ₩217,500 현재 요금 ₩87,000'),\n",
       " ('신라스테이 제주', '4', '기존 요금 ₩242,637 현재 요금 ₩145,200'),\n",
       " ('호텔 휘슬락', '4', '기존 요금 ₩300,018 현재 요금 ₩75,000'),\n",
       " ('오션스위츠 제주 호텔', '4', '요금 ₩85,000'),\n",
       " ('베스트웨스턴 제주호텔', '4', '기존 요금 ₩150,000 현재 요금 ₩75,000'),\n",
       " ('', '', ''),\n",
       " ('호텔난타 제주', '4', '기존 요금 ₩291,000 현재 요금 ₩87,300'),\n",
       " ('캠퍼트리 호텔 & 리조트', '', '기존 요금 ₩260,158 현재 요금 ₩169,000'),\n",
       " ('제주 아길라 호텔 오시아노 스위츠', '3', '요금 ₩163,350'),\n",
       " ('호텔 시리우스', '4', '요금 ₩88,000'),\n",
       " ('제주 칼호텔', '5', '요금 ₩93,500'),\n",
       " ('제주선샤인호텔', '3', '요금 ₩57,240'),\n",
       " ('제주 센트럴 시티호텔', '3', '₩59,248'),\n",
       " ('아스타호텔', '4', '기존 요금 ₩159,000 현재 요금 ₩79,500'),\n",
       " ('유탑유블레스호텔 제주', '4', '기존 요금 ₩260,006 현재 요금 ₩111,800'),\n",
       " ('제주 마레보 비치 호텔', '3', '요금 ₩139,200'),\n",
       " ('호텔 위드 제주', '4', '요금 ₩67,000'),\n",
       " ('제주오리엔탈호텔 & 카지노', '5', '요금 ₩74,000'),\n",
       " ('호텔 레오', '4', '요금 ₩76,190'),\n",
       " ('탐라스테이 호텔 제주', '4', '요금 ₩77,000')]"
      ]
     },
     "execution_count": 131,
     "metadata": {},
     "output_type": "execute_result"
    }
   ],
   "source": [
    "def data_scraping():\n",
    "    res_stars = []\n",
    "    res_names = []\n",
    "    res_prices = []\n",
    "    \n",
    "    root_div = driver.find_elements_by_css_selector('#hotellist_inner')[0]\n",
    "    # 한 페이지당 호출되는 목록 수\n",
    "    listed = root_div.find_elements_by_xpath('//*[@id=\"hotellist_inner\"]/div')\n",
    "    \n",
    "    res_stars = get_stars(listed)\n",
    "    res_names = get_names(listed)\n",
    "    res_prices = get_prices(listed)\n",
    "              \n",
    "    return list(zip(res_names, res_stars, res_prices))\n",
    "\n",
    "data_scraping()"
   ]
  },
  {
   "cell_type": "code",
   "execution_count": 132,
   "id": "current-panama",
   "metadata": {},
   "outputs": [],
   "source": [
    "def get_hotelDatas():\n",
    "    raw_datas = []\n",
    "    \n",
    "    # 스크래핑 페이지 범위 (현재 페이지 ~ 마지막 페이지)\n",
    "    while get_curr() <= int(last_pages):\n",
    "        # scraping\n",
    "        result = data_scraping()\n",
    "        raw_datas.append(result)\n",
    "        # print(result)\n",
    "\n",
    "        if get_curr() == int(last_pages):\n",
    "            break\n",
    "\n",
    "        curr_page = driver.find_elements_by_css_selector('#search_results_table > div.bui-pagination.results-paging_simplified.js-results-paging > nav > ul > li.bui-pagination__pages > ul > li.bui-pagination__item.bui-pagination__item--active.sr_pagination_item.current > a > div.bui-u-inline')[0]\n",
    "        print(curr_page.text,\"페이지 완료\")\n",
    "\n",
    "        move_next = driver.find_elements_by_css_selector('#search_results_table > div.bui-pagination.results-paging_simplified.js-results-paging > nav > ul > li.bui-pagination__item.bui-pagination__next-arrow > a')[0]\n",
    "        move_next.send_keys('\\n')\n",
    "\n",
    "        driver.implicitly_wait(1)\n",
    "        time.sleep(1+random.uniform(0,1))\n",
    "        \n",
    "    return raw_datas"
   ]
  },
  {
   "cell_type": "code",
   "execution_count": 224,
   "id": "described-alexandria",
   "metadata": {},
   "outputs": [
    {
     "data": {
      "text/plain": [
       "[['79829', '52800'],\n",
       " ['48000', ''],\n",
       " ['49400', ''],\n",
       " ['49500', ''],\n",
       " ['83000', ''],\n",
       " ['54000', ''],\n",
       " ['76977', ''],\n",
       " ['77317', ''],\n",
       " ['35000', ''],\n",
       " ['', ''],\n",
       " ['', ''],\n",
       " ['', ''],\n",
       " ['31700', ''],\n",
       " ['150091', '78000'],\n",
       " ['56627', ''],\n",
       " ['43800', ''],\n",
       " ['50000', ''],\n",
       " ['44000', ''],\n",
       " ['50000', '']]"
      ]
     },
     "execution_count": 224,
     "metadata": {},
     "output_type": "execute_result"
    }
   ],
   "source": [
    "# 기존 요금, 현재 요금 데이터 파싱\n",
    "def price_parsing(datas):\n",
    "    target_prices = []\n",
    "    \n",
    "    for i in range(len(datas[0])):\n",
    "        target_prices.append(datas[0][i][2])\n",
    "\n",
    "    prices = [] \n",
    "\n",
    "    for i in range(len(target_prices)):\n",
    "        re_prices = re.findall('\\d+', before_p[i])\n",
    "        base_curr_prices = [] \n",
    "\n",
    "        if len(re_prices) == 0:\n",
    "            base_curr_prices.append('')\n",
    "            base_curr_prices.append('')\n",
    "            \n",
    "        elif len(re_prices) == 2:\n",
    "            base_curr_prices.append(re_prices[0] + re_prices[1])\n",
    "            base_curr_prices.append('')\n",
    "            \n",
    "        else:\n",
    "            base_curr_prices.append(re_prices[0] + re_prices[1])\n",
    "            base_curr_prices.append(re_prices[2] + re_prices[3])\n",
    "\n",
    "        prices.append(base_curr_prices)\n",
    "\n",
    "#     print(prices)\n",
    "    return prices\n",
    "\n",
    "price_parsing(datas)"
   ]
  },
  {
   "cell_type": "code",
   "execution_count": 225,
   "id": "careful-letters",
   "metadata": {},
   "outputs": [
    {
     "data": {
      "text/plain": [
       "[{'hotel_name': '계룡길벽돌가',\n",
       "  'star': '4',\n",
       "  'base_price': '79829',\n",
       "  'cur_price': '52800'},\n",
       " {'hotel_name': 'J-ONE Hotel 제이원호텔',\n",
       "  'star': '2',\n",
       "  'base_price': '48000',\n",
       "  'cur_price': ''},\n",
       " {'hotel_name': '제주 오름펜션',\n",
       "  'star': '3',\n",
       "  'base_price': '49400',\n",
       "  'cur_price': ''},\n",
       " {'hotel_name': '백록담펜션', 'star': '3', 'base_price': '49500', 'cur_price': ''},\n",
       " {'hotel_name': '제주 나인 리조트',\n",
       "  'star': '2',\n",
       "  'base_price': '83000',\n",
       "  'cur_price': ''},\n",
       " {'hotel_name': '거문오름 호스텔',\n",
       "  'star': '',\n",
       "  'base_price': '54000',\n",
       "  'cur_price': ''},\n",
       " {'hotel_name': '썬랜드 호텔', 'star': '3', 'base_price': '76977', 'cur_price': ''},\n",
       " {'hotel_name': '아뜨네 펜션', 'star': '3', 'base_price': '77317', 'cur_price': ''},\n",
       " {'hotel_name': '제주 바다성 펜션',\n",
       "  'star': '3',\n",
       "  'base_price': '35000',\n",
       "  'cur_price': ''},\n",
       " {'hotel_name': '퓨어스테이', 'star': '', 'base_price': '', 'cur_price': ''},\n",
       " {'hotel_name': '', 'star': '', 'base_price': '', 'cur_price': ''},\n",
       " {'hotel_name': '벤티모 호텔 앤 레지던스 제주',\n",
       "  'star': '4',\n",
       "  'base_price': '',\n",
       "  'cur_price': ''},\n",
       " {'hotel_name': '밀레니엄 호텔', 'star': '', 'base_price': '31700', 'cur_price': ''},\n",
       " {'hotel_name': '대웅 황토리조트',\n",
       "  'star': '',\n",
       "  'base_price': '150091',\n",
       "  'cur_price': '78000'},\n",
       " {'hotel_name': 'Hannahstay in Jeju Guesthouse',\n",
       "  'star': '',\n",
       "  'base_price': '56627',\n",
       "  'cur_price': ''},\n",
       " {'hotel_name': '숨 게스트하우스 제주공항',\n",
       "  'star': '',\n",
       "  'base_price': '43800',\n",
       "  'cur_price': ''},\n",
       " {'hotel_name': '노마드인제주 게스트하우스',\n",
       "  'star': '',\n",
       "  'base_price': '50000',\n",
       "  'cur_price': ''},\n",
       " {'hotel_name': '제주도 하숙집', 'star': '', 'base_price': '44000', 'cur_price': ''},\n",
       " {'hotel_name': '예스준 게스트하우스',\n",
       "  'star': '',\n",
       "  'base_price': '50000',\n",
       "  'cur_price': ''}]"
      ]
     },
     "execution_count": 225,
     "metadata": {},
     "output_type": "execute_result"
    }
   ],
   "source": [
    "datas = get_hotelDatas()\n",
    "re_prices = price_parsing(datas)\n",
    "\n",
    "raw_dicts = {'hotel_name':'', 'star':'', 'base_price':'', 'cur_price':''}\n",
    "raw_datas = []\n",
    "hotelName_idx, star_idx, basePrice_idx, curPrice_idx = 0, 1, 2, 3\n",
    "\n",
    "for i in range(len(datas[0])):\n",
    "    \n",
    "    raw_dicts['hotel_name'] = datas[0][i][hotelName_idx]\n",
    "    raw_dicts['star'] = datas[0][i][star_idx]\n",
    "    raw_dicts['base_price'] = re_prices[i][0]\n",
    "    raw_dicts['cur_price'] = re_prices[i][1]\n",
    "    \n",
    "    raw_datas.append(raw_dicts.copy())\n",
    "    \n",
    "raw_datas"
   ]
  },
  {
   "cell_type": "markdown",
   "id": "incident-mixture",
   "metadata": {},
   "source": [
    "---"
   ]
  },
  {
   "cell_type": "code",
   "execution_count": 1,
   "id": "informal-warning",
   "metadata": {},
   "outputs": [],
   "source": [
    "# 한글 설정\n",
    "import matplotlib.pyplot as plt\n",
    "%matplotlib inline\n",
    "\n",
    "from matplotlib import font_manager, rc\n",
    "plt.rcParams['axes.unicode_minus'] = False\n",
    "\n",
    "f_path = \"/Users/seyoung/Library/Fonts/AppleGothic.ttf\"\n",
    "font_name = font_manager.FontProperties(fname=f_path).get_name()\n",
    "rc('font', family=font_name)"
   ]
  }
 ],
 "metadata": {
  "kernelspec": {
   "display_name": "Python 3",
   "language": "python",
   "name": "python3"
  },
  "language_info": {
   "codemirror_mode": {
    "name": "ipython",
    "version": 3
   },
   "file_extension": ".py",
   "mimetype": "text/x-python",
   "name": "python",
   "nbconvert_exporter": "python",
   "pygments_lexer": "ipython3",
   "version": "3.9.1"
  }
 },
 "nbformat": 4,
 "nbformat_minor": 5
}
