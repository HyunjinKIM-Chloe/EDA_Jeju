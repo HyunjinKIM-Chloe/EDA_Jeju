{
 "cells": [
  {
   "cell_type": "markdown",
   "id": "female-carpet",
   "metadata": {},
   "source": [
    "### Hotel in Jeju Data\n",
    "- '부킹닷컴'의 제주 내 호텔 성급, 가격, 위치, 후기를 스크래핑합니다."
   ]
  },
  {
   "cell_type": "code",
   "execution_count": 33,
   "id": "raised-principal",
   "metadata": {},
   "outputs": [],
   "source": [
    "from selenium import webdriver\n",
    "from selenium.webdriver.common.keys import Keys\n",
    "from selenium.common.exceptions import InvalidSessionIdException\n",
    "from time import sleep\n",
    "import re\n",
    "import json\n",
    "import pandas as pd"
   ]
  },
  {
   "cell_type": "code",
   "execution_count": 50,
   "id": "pleased-forest",
   "metadata": {},
   "outputs": [],
   "source": [
    "url = 'https://www.booking.com/searchresults.ko.html?label=gen173nr-1DCAEoggI46AdIM1gEaH2IAQGYARe4AQfIAQzYAQPoAQGIAgGoAgO4Ar3AsYMGwAIB0gIkNjQ0OTNkZTgtOWUzNC00ODBjLTlmZjktYjA1ZjcwOTFmN2Vk2AIE4AIB&sid=febadbcd7e51aee26acbfeeea6e8299e&sb=1&src=searchresults&src_elem=sb&error_url=https%3A%2F%2Fwww.booking.com%2Fsearchresults.ko.html%3Flabel%3Dgen173nr-1DCAEoggI46AdIM1gEaH2IAQGYARe4AQfIAQzYAQPoAQGIAgGoAgO4Ar3AsYMGwAIB0gIkNjQ0OTNkZTgtOWUzNC00ODBjLTlmZjktYjA1ZjcwOTFmN2Vk2AIE4AIB%3Bsid%3Dfebadbcd7e51aee26acbfeeea6e8299e%3Btmpl%3Dsearchresults%3Bclass_interval%3D1%3Bdest_id%3D4170%3Bdest_type%3Dregion%3Bdtdisc%3D0%3Bfrom_sf%3D1%3Bgroup_adults%3D2%3Bgroup_children%3D0%3Binac%3D0%3Bindex_postcard%3D0%3Blabel_click%3Dundef%3Bno_rooms%3D1%3Boffset%3D0%3Bpostcard%3D0%3Braw_dest_type%3Dregion%3Broom1%3DA%252CA%3Bsb_price_type%3Dtotal%3Bsearch_selected%3D1%3Bshw_aparth%3D1%3Bslp_r_match%3D0%3Bsrc%3Dindex%3Bsrc_elem%3Dsb%3Bsrpvid%3Dadca5de230db0091%3Bss%3D%25EC%25A0%259C%25EC%25A3%25BC%25EB%258F%2584%252C%2520%25EB%258C%2580%25ED%2595%259C%25EB%25AF%25BC%25EA%25B5%25AD%3Bss_all%3D0%3Bssb%3Dempty%3Bsshis%3D0%3Btop_ufis%3D1%26%3B&ss=%EC%A0%9C%EC%A3%BC%EB%8F%84&is_ski_area=0&ssne=%EC%A0%9C%EC%A3%BC%EB%8F%84&ssne_untouched=%EC%A0%9C%EC%A3%BC%EB%8F%84&dest_id=4170&dest_type=region&checkin_year=2021&checkin_month=4&checkin_monthday=24&checkout_year=2021&checkout_month=4&checkout_monthday=25&group_adults=2&group_children=0&no_rooms=1&from_sf=1'\n",
    "path = '/Users/seyoung/2021/dss17/eda_etc/chromedriver'\n",
    "# path_f = '/Users/seyoung/2021/dss17/eda_etc/geckodriver'\n",
    "driver = webdriver.Chrome(path)\n",
    "# driver = webdriver.Firefox(executable_path=path_f)\n",
    "driver.get(url)"
   ]
  },
  {
   "cell_type": "code",
   "execution_count": 51,
   "id": "eastern-conspiracy",
   "metadata": {},
   "outputs": [
    {
     "data": {
      "text/plain": [
       "<selenium.webdriver.remote.webelement.WebElement (session=\"dbec807ebbd2f536b0bb1e53ee1b483a\", element=\"fe1b7b44-0ef8-40d7-9bb9-04eebf233d44\")>"
      ]
     },
     "execution_count": 51,
     "metadata": {},
     "output_type": "execute_result"
    }
   ],
   "source": [
    "page_bar = driver.find_elements_by_css_selector('#search_results_table > div.bui-pagination.results-paging_simplified.js-results-paging > nav > ul > li.bui-pagination__pages > ul')[0]\n",
    "page_bar"
   ]
  },
  {
   "cell_type": "code",
   "execution_count": 52,
   "id": "focal-coffee",
   "metadata": {},
   "outputs": [
    {
     "name": "stdout",
     "output_type": "stream",
     "text": [
      "1\n",
      "2\n",
      "3\n",
      "4\n",
      "5\n",
      "19\n"
     ]
    }
   ],
   "source": [
    "# 전체 페이지 개수 확인\n",
    "try:\n",
    "    pages = page_bar.find_elements_by_css_selector('a > div.bui-u-inline')\n",
    "    last_pages = ''\n",
    "\n",
    "    for idx, page in enumerate(pages):\n",
    "        print(page.text)\n",
    "        if idx == len(pages)-1: # 마지막 페이지\n",
    "            last_pages = page.text\n",
    "except:\n",
    "    pages = 0\n",
    "    last_pages = 0    "
   ]
  },
  {
   "cell_type": "code",
   "execution_count": 53,
   "id": "tested-writing",
   "metadata": {},
   "outputs": [],
   "source": [
    "# 현재 페이지 번호\n",
    "def get_curr():\n",
    "    try:\n",
    "        curr_page = driver.find_elements_by_css_selector('#search_results_table > div.bui-pagination.results-paging_simplified.js-results-paging > nav > ul > li.bui-pagination__pages > ul > li.bui-pagination__item.bui-pagination__item--active.sr_pagination_item.current > a > div.bui-u-inline')[0].text\n",
    "    except:\n",
    "        curr_page = 0\n",
    "    return int(curr_page)"
   ]
  },
  {
   "cell_type": "code",
   "execution_count": 54,
   "id": "authentic-ireland",
   "metadata": {},
   "outputs": [],
   "source": [
    "# 성급 (성급이 표시되지 않은 호텔 제외)\n",
    "def get_stars(listed):\n",
    "    stars = []\n",
    "\n",
    "    for i in range(1, len(listed)):\n",
    "        try:\n",
    "            like = driver.find_element_by_xpath('//*[@id=\"hotellist_inner\"]/div['+ str(i) +']/div[2]/div[1]/div[1]/div[1]/span/span[1]/span/span')\n",
    "            a = like.get_attribute('aria-label')\n",
    "            stars.append(a[0])\n",
    "            \n",
    "        # 성급이 표시되지 않는 호텔 \n",
    "        except Exception as NoSuchElementException:\n",
    "            stars.append('')\n",
    "    \n",
    "    return stars"
   ]
  },
  {
   "cell_type": "code",
   "execution_count": 55,
   "id": "weird-tradition",
   "metadata": {},
   "outputs": [],
   "source": [
    "# 가격\n",
    "def get_prices(listed):\n",
    "    prices = []\n",
    "    \n",
    "    for i in range(1, len(listed)):\n",
    "        try:\n",
    "            price = listed[0].find_elements_by_xpath('//*[@id=\"hotellist_inner\"]/div['+ str(i) +']/div[2]/div[2]/div/div/div/div/div[2]/div[1]/div[2]/div/div')[0]\n",
    "            base_price = listed[0].find_elements_by_xpath('//*[@id=\"hotellist_inner\"]/div['+ str(i) +']/div[2]/div[2]/div/div/div/div/div[2]/div[1]/div[2]/div/span')[0]\n",
    "            \n",
    "            # strong label로 표시된 가격 포함\n",
    "            if base_price.text == '':\n",
    "                base_price = listed[0].find_elements_by_xpath('//*[@id=\"hotellist_inner\"]/div[' + str(i) + ']/div[2]/div[2]/div/table/tbody/tr/td[2]/div[2]/strong/label')[0]\n",
    "            \n",
    "            prices.append(base_price.text)\n",
    "            \n",
    "        # 중간 베너 제외\n",
    "        except Exception as IndexError:\n",
    "            prices.append('')\n",
    "            \n",
    "    return prices"
   ]
  },
  {
   "cell_type": "code",
   "execution_count": 56,
   "id": "turkish-short",
   "metadata": {},
   "outputs": [],
   "source": [
    "# 평점\n",
    "def get_grades(listed):\n",
    "    grades = []\n",
    "    \n",
    "    for i in range(1, len(listed)):\n",
    "        try:\n",
    "            grade = listed[0].find_elements_by_xpath('//*[@id=\"hotellist_inner\"]/div[' + str(i) + ']/div[2]/div[1]/div[2]/div/div/a/div/div[1]')[0]\n",
    "            grades.append(grade.text)\n",
    "            \n",
    "        except Exception as IndexError:\n",
    "            grades.append('')\n",
    "            \n",
    "    return grades"
   ]
  },
  {
   "cell_type": "code",
   "execution_count": 57,
   "id": "packed-transmission",
   "metadata": {},
   "outputs": [],
   "source": [
    "# 호텔명\n",
    "def get_names(listed):\n",
    "    names = []\n",
    "    \n",
    "    for i in range(1, len(listed)):\n",
    "        try:\n",
    "            name = listed[0].find_elements_by_xpath('//*[@id=\"hotellist_inner\"]/div['+ str(i) +']/div[2]/div[1]/div[1]/div[1]/h3/a/span[1]')[0]\n",
    "            names.append(name.text)\n",
    "            \n",
    "        # 중간 베너 제외\n",
    "        except Exception as IndexError:\n",
    "            names.append('')\n",
    "            \n",
    "    return names"
   ]
  },
  {
   "cell_type": "code",
   "execution_count": 73,
   "id": "regional-orchestra",
   "metadata": {},
   "outputs": [],
   "source": [
    "# 이용객 후기\n",
    "def get_reviews():\n",
    "    good_reviews, bad_reviews, res = [], [], []\n",
    "    good_review, bad_review = '', ''\n",
    "    review = driver.find_elements_by_xpath('//*[@id=\"review_list_page_container\"]/ul/li')\n",
    "    \n",
    "    for i in range(len(review)):\n",
    "        \n",
    "        try:\n",
    "            good_review += driver.find_elements_by_xpath('//*[@id=\"review_list_page_container\"]/ul/li['+ str(i) +']/div/div[2]/div[2]/div[2]/div/div[1]/p/span[3]')[0].text +'\\n'\n",
    "        \n",
    "        except Exception as IndexError:\n",
    "            good_review += ''\n",
    "            \n",
    "        try:\n",
    "            bad_review += driver.find_elements_by_xpath('//*[@id=\"review_list_page_container\"]/ul/li['+ str(i) +']/div/div[2]/div[2]/div[2]/div/div[2]/p/span[3]')[0].text +'\\n'\n",
    "            \n",
    "        except Exception as IndexError:\n",
    "            bad_review += ''\n",
    "        \n",
    "    good_reviews.append(good_review)\n",
    "    bad_reviews.append(bad_review)\n",
    "    \n",
    "    res.append(good_reviews)\n",
    "    res.append(bad_reviews)\n",
    "    \n",
    "    return res"
   ]
  },
  {
   "cell_type": "code",
   "execution_count": 59,
   "id": "gorgeous-secretary",
   "metadata": {},
   "outputs": [],
   "source": [
    "# 주소\n",
    "def get_addrs():\n",
    "    \n",
    "    addr = driver.find_elements_by_xpath('//*[@id=\"showMap2\"]/span[1]')[0]\n",
    "\n",
    "    return addr.text"
   ]
  },
  {
   "cell_type": "code",
   "execution_count": 67,
   "id": "sudden-wheel",
   "metadata": {},
   "outputs": [],
   "source": [
    "# 새 탭 열기\n",
    "def open_newTab(listed):\n",
    "    \n",
    "    addrs, res, res_reviews = [], [], []\n",
    "    \n",
    "    for i in range(1, len(listed)):\n",
    "\n",
    "        try:\n",
    "            href = driver.find_element_by_xpath('//*[@id=\"hotellist_inner\"]/div['+ str(i) +']/div[2]/div[1]/div[1]/div[1]/h3/a')\n",
    "            \n",
    "        except Exception as NoSuchElementException:\n",
    "                addrs.append('')\n",
    "                res_reviews.append('')\n",
    "                continue\n",
    "        else:\n",
    "            href.send_keys(Keys.CONTROL + '\\n') \n",
    "\n",
    "           # 새로운 탭으로 이동 (2번째 탭)\n",
    "            driver.switch_to.window(driver.window_handles[1])  \n",
    "\n",
    "            res_addrs = get_addrs()\n",
    "            addrs.append(res_addrs)\n",
    "\n",
    "            # 이용 후기 메뉴로 이동\n",
    "            comment_btn = driver.find_element_by_xpath('//*[@id=\"show_reviews_tab\"]')\n",
    "            driver.execute_script(\"arguments[0].click();\", comment_btn)\n",
    "\n",
    "            res_reviews = get_reviews()\n",
    "            res.append(res_reviews)\n",
    "    \n",
    "            driver.implicitly_wait(1)\n",
    "            time.sleep(1+random.uniform(0,1))\n",
    "\n",
    "            driver.close()\n",
    "            driver.switch_to_window(driver.window_handles[0])\n",
    "        \n",
    "    return list(zip(res, addrs))"
   ]
  },
  {
   "cell_type": "code",
   "execution_count": 76,
   "id": "retired-jamaica",
   "metadata": {},
   "outputs": [
    {
     "data": {
      "text/plain": [
       "[('하이 제주 호텔',\n",
       "  '3',\n",
       "  '',\n",
       "  '7.7',\n",
       "  '제주, 일주서로 5125',\n",
       "  ['다음에 또 가고싶은 곳 입니다.\\n조식은 없었구요\\n방도크고 트윈이라 너무너무너무 좋았어요!!\\n간단한 싱크대있어서 과일씻어먹기도 좋구 따신물도 팍팍 아주 잘나왔습니다.\\n주변 조용하고 비양도보이는 전망이 최고\\n베란다에 빨래널기 편리\\n야외수영장 너무 좋아요..직원분들 친절하시고\\n방이 넓어요\\n가성비 최고\\n가성비 좋았습니다~~ 침구류 깔끔했고 관리상태도 좋았습니다 출장으로는 최고~\\n방크기 : 네가족이 쓰기에 엄청 큼 그리고 방방마다 다 시스템 에어컨이 있음\\n위치 : 협재랑 멀지않아 저녁에도 협재쪽가서 놀고와도 문제 없음\\n가격대비 만족도가 굉장히 좋음\\n식사외에는 아주 편안하고 즐거웠습니다..\\n곰팡이 냄새 ㅠㅠ 에어컨 용량이커서 잘때 너무 추움 ㅠ\\n풍경이 좋아요. 바다도 보이고 섬도 보이고.. 풍경은 만족합니다. 그리고 처음 체크인 할때 침구랑 확인 했는데 깨끗해요. 찝찝하거나 가렵거나 그런 느낌 없습니다. 포근해요 냄새도 안나구요. 방 넒어요. 1인용 침대 1개 2인용 침대 한개 있고 케리어 큰거 2개.펼쳤는데요 좁은 느낍 없습니다. 까다롭지.읺은 친구랑 여행한다면 100프로 추천합니다. 자고 있는데.새소리도 들리고 파도 소리도 들려요. 힐링은 완벽하게 됩니다.\\n'],\n",
       "  ['바퀴벌레 엄청큰게 한마리나왔어요^^.....................ㅋ\\n장마철이라서 그런지 시트에서 냄새가 나서 교환요청했는데 바로 해주셨구요..\\n뭐 딱히 없음\\n수영장물이 좀 더러웟네요~\\n아무래도 오랜 된곳이라 약간의 곰팡이 냄새가 남\\n하지만 그것외엔 가성비 최고임\\n코로나 때문에 프론트에 직원이 없을때도 있었지만 전화로 바로 연결이 되었기 때문에 불편한건 없었어요 직원이 많지 않은지, 호텔의 운영 방안인지는 모르겠으나 처음 체크인 할때 청소는 깨끗이 되어 있는데 3박 4일동안 방에 들어와 청소는 안해주더라구요. 수건이나 물병은 방문에 비닐 봉지에 담아 걸어 놓고 가시구요. 방안에 빗자루와 쓰레 받이만 있어 저희가 날마다 한번씩 쓸었어요 친구랑 간다면 별 상관 없을지도 모르나 부모님과 간다면 다시한번 생각해 보세요. 학생들 수학여행으로 많이 오는 곳인것 같아요. 그리고 칼이랑 접시등 취사에 관련된 물건이 하나도 없어요. 전기포트 하나랑 종이컵 몇개 놔두셨드라구요. 욕실에 삼푸. 린스. 샤워 종합으로 된 종합 물비누,(?) 이걸 뭐라고 해야하나.. 그거 하나랑 치약 하나 있습니다 어메니티.없어요 참고하세요\\n']),\n",
       " ('레프트핸더 게스트하우스',\n",
       "  '',\n",
       "  '',\n",
       "  '9.4',\n",
       "  '제주, 구좌읍 상도북2길 17-12',\n",
       "  ['조용한 세화마을 끝자락에 위치한 조용한 숙소였어요. 주인 부부께서 아주 친절하게 대해 주시고 이런저런 이야기도 손님들과 나누며 편안한 분위기 만들어 주십니다. 날씨 맑은 저녁에는 용눈이오름 별보기도 안내해 주시더라구요. 더블룸 예약이었는데 일행이랑 편하게 지낼수 있게 트윈룸으로 업글도 해주셨구요. 덕분에 공용욕실 사용하기에 전혀 불편하지 않았습니다.^^ 방바닥도 따뜻하고 침대에 장판까지 깔아주시는 세심한 배려~. 방과 화장실 엄청 깨끗하게 관리되고 있습니다. 간단 산책거리에 편의점있어서 필요한거 구하기 쉽구요. 저녁에 맥주 들고와서 숙소 카페에서 한잔하기도 좋아요. 해녀박물관 잠시 구경하기도 좋은 거리입니다. \\n탄이라는 강아지가 있어서 손님들을 격하게 반겨줍니다. 넘넘 재롱둥이여서 탄이 만나러 제주오면 들르고 싶은 정도에요. 제주 동북쪽 여행에 강추!!! 입니다.^^\\n조용히 힐링하기 좋아요\\n조식은 타 게하와 비교 불가.. 만족스럽습니다\\n운영하시는 가족분들은 처음 뵌 분들이 아닌 듯 착각이 들 만큼 정겨온 분들이세요\\n조용하고 예쁜 작은 마을에 위치하고 있고, 세화해변과의 거리도 걸어서 갈수있을만큼 가깝다. 주변에 편의점도 가깝다. 아침 조식이 정성스럽고, 아주 맛있어요.\\n탄이 너무 귀여워요!\\n조식도 매우 맛있고 좋았습니다.\\n주차도 바로 앞에 주차가능합니다.\\n동네도 조용하고 쉬기 좋았습니다.\\n깨끗하고 시설이 편리합니다.\\n조용히 쉬며 가볍게 이야기 나누실 분 추천드립니다. 말라뮤트 강아지가 있어요. 사장님께서 친절하십니다. 다만 주변에 편의시설이 얼마 없고 밤 12시넘어서도 떠들며 놀고싶은 분들은 다른 게하로 가셔요.\\n사장님 부부 너무 친절하셔서 맘 편히 푹쉬다 왔어요.\\n반려견 탄이도 너무 귀여웠구요~\\n밤에 오름 가서 사진도 찍어주시고\\n담에 또 갈게요^^\\n아침식사가 정말 맛있었어요! 웰빙길거리토스트 느낌?\\n이 가격에 이런 조식이라니~~\\n사장님과 사모님 두분다 너무 너무 친절하구요~ \\n침대마다 전기장판이 있어서 아늑~ 담에도 이쪽 올일 있으면 또 예약하려구요~\\n정말 친절하세요:)\\n도착해서 친절하게 맞아주신 여사장님이 시원한 음료를 주셔서 한숨 돌리며 전체적인 설명을 들을 수 있었습니다.\\n게스트 하우스가 처음이라 걱정도 많았는데.. 첫 인상이 모든 걱정을 다 사라지게 해주셨어요.\\n많은 분들이 다녀간 흔적을 보는 재미도 있었고\\n아늑한 방에서 잘 쉴 수 있었습니다.\\n저녁에 카페에서 식사와 맥주를 마셨는데.. 사장님 내외분과 도란도란 얘기한 것도 즐거운 추억이었습니다.\\n신경 많이 써주시는 느낌이 들었습니다. 감사해요!!\\n아침에 샌드위치르르 너무 거하게 준비해주셔서.. 정말 맛있게 잘 먹었습니다.\\n아이 입맛에 맞춰 샌드위치 준비해주셨는데.. 아이가 안먹는다니 \\n다시 시리얼 준비해주셔서 얼마나 감사하던지..\\n공항 버스 타는 곳 까지 비오는데 태워주셔서 또 또 얼마나 감사하던지요.\\n게스트들에게 하나하나 신경써주시는게 느껴질 정도 였습니다.\\n멋쟁이 탄이(말라뮤트 강아지)와의 만남도 좋은 추억이었습니다.\\n제주 집을 리모델링한 숙소는 깔끔하며 정돈이 잘되어 있고 아기자기하였습니다.\\n다음에.. 조만간 꼭 다시 방문하고 싶습니다.\\n주변에 시끄럽거나 관광지 같은 느낌도 없고 오롯이 제주를 느끼고 싶다면 가성비 갓갓..\\n정말 추천 드립니다.\\n수압 좋고 따뜻한 물 잘 나와요.\\n화장실에 샴푸, 린스, 바디워시, 치약, 클렌징크림까지 준비해주셔요. 칫솔만 준비하면 됩니다.\\n'],\n",
       "  ['식당까지 조금 멀어요 \\n산책 겸 다녀오실 거라면 문제되진 않아요\\n차량 이동이라면 동네 전체가 주차스트레스는 없어요\\n가격대비로는 크게 아쉬운건 없었어요.\\n겨울이라서 그런지 화장실이 너무 추웠어요~\\n그래도 방은 따뜻\\n이런 저런 이유로 게스트하우스에 저희만 묵게 되어 다른 게스트들과의 소통을 내심 기대했다가.. ㅠ.ㅠ\\n저희만 독채로 잘 사용했습니다.ㅎㅎ\\n화장실이 살짝 추워요..\\n잘 때는 전기장판이 깔려 있어서 많이 춥지 않았습니다.\\n딱히 불편하거나 아쉬웠던 점이 없네요!!!\\n'])]"
      ]
     },
     "execution_count": 76,
     "metadata": {},
     "output_type": "execute_result"
    }
   ],
   "source": [
    "def data_scraping():\n",
    "    res_stars, res_names, res_prices, res_grades, res_addrs, res_goodReviews, res_badReviews = [], [], [], [], [], [], []\n",
    "    \n",
    "    root_div = driver.find_elements_by_css_selector('#hotellist_inner')[0]\n",
    "    # 한 페이지당 호출되는 목록 수\n",
    "    listed = root_div.find_elements_by_xpath('//*[@id=\"hotellist_inner\"]/div')\n",
    "    \n",
    "    res_stars = get_stars(listed)\n",
    "    res_names = get_names(listed)\n",
    "    res_prices = get_prices(listed)\n",
    "    res_grades = get_grades(listed)\n",
    "    \n",
    "    res = open_newTab(listed)\n",
    "    \n",
    "    for i in range(len(res)):\n",
    "        res_addrs.append(res[i][1])\n",
    "        res_goodReviews.append(res[i][0][0])\n",
    "        res_badReviews.append(res[i][0][1])\n",
    "    \n",
    "    return list(zip(res_names, res_stars, res_prices, res_grades, res_addrs, res_goodReviews, res_badReviews))\n",
    "\n",
    "data_scraping()"
   ]
  },
  {
   "cell_type": "code",
   "execution_count": 79,
   "id": "current-panama",
   "metadata": {},
   "outputs": [],
   "source": [
    "def get_hotelDatas():\n",
    "    raw_datas = []\n",
    "    \n",
    "    # 스크래핑 페이지 범위 (현재 페이지 ~ 마지막 페이지)\n",
    "    while get_curr() <= int(last_pages):\n",
    "        # scraping\n",
    "        result = data_scraping()\n",
    "        raw_datas.append(result)\n",
    "\n",
    "        if get_curr() == int(last_pages):\n",
    "            break\n",
    "\n",
    "        curr_page = driver.find_elements_by_css_selector('#search_results_table > div.bui-pagination.results-paging_simplified.js-results-paging > nav > ul > li.bui-pagination__pages > ul > li.bui-pagination__item.bui-pagination__item--active.sr_pagination_item.current > a > div.bui-u-inline')[0]\n",
    "        print(curr_page.text,\"페이지 완료\")\n",
    "        \n",
    "        try:\n",
    "            move_next = driver.find_elements_by_css_selector('#search_results_table > div.bui-pagination.results-paging_simplified.js-results-paging > nav > ul > li.bui-pagination__item.bui-pagination__next-arrow > a')[0]\n",
    "            move_next.send_keys('\\n')\n",
    "\n",
    "            driver.implicitly_wait(1)\n",
    "            time.sleep(1+random.uniform(0,1))\n",
    "        except:\n",
    "            break\n",
    "        \n",
    "    return raw_datas"
   ]
  },
  {
   "cell_type": "code",
   "execution_count": 31,
   "id": "described-alexandria",
   "metadata": {},
   "outputs": [],
   "source": [
    "# 기존 요금, 현재 요금 데이터 파싱\n",
    "def price_parsing(datas):\n",
    "    target_prices = []\n",
    "    \n",
    "    for i in range(len(datas[0])):\n",
    "        target_prices.append(datas[0][i][2])\n",
    "\n",
    "    prices = [] \n",
    "\n",
    "    for i in range(len(target_prices)):\n",
    "        re_prices = re.findall('\\d+', target_prices[i])\n",
    "        base_curr_prices = [] \n",
    "\n",
    "        if len(re_prices) == 0:\n",
    "            base_curr_prices.append('')\n",
    "            base_curr_prices.append('')\n",
    "            \n",
    "        elif len(re_prices) == 2:\n",
    "            base_curr_prices.append(re_prices[0] + re_prices[1])\n",
    "            base_curr_prices.append('')\n",
    "            \n",
    "        else:\n",
    "            base_curr_prices.append(re_prices[0] + re_prices[1])\n",
    "            base_curr_prices.append(re_prices[2] + re_prices[3])\n",
    "\n",
    "        prices.append(base_curr_prices)\n",
    "\n",
    "    return prices"
   ]
  },
  {
   "cell_type": "code",
   "execution_count": 84,
   "id": "careful-letters",
   "metadata": {},
   "outputs": [
    {
     "name": "stdout",
     "output_type": "stream",
     "text": [
      "2 페이지 완료\n",
      "[[('성산 전망좋은 게스트하우스', '', '요금 ₩40,000', '9.3', '서귀포, 성산읍 일출로 248', ['Thank you so much Summi! I missed saying goodbye to you before leaving.\\nTake care of your self! 감사합니다🙏❣️\\n멀리보이는 바다뷰가 아닌 가까이에 있어\\n아주 만족스러웠습니다.\\n광치기해변과 섭지코지가 이어져\\n산책하기 좋다고 주인님 알려주셔\\n그야말로 답답한 일상에서 벗어나\\n조용히 힐링하고 싶을때 다시찾고\\n싶습니다.\\n3층휴게실에서 마시는 커피한잔은\\n전망좋은커피숍으로 값을 지불해야할듯.......\\n참 행복한 시간이였습니다.\\n편안하게 맞아주시고 이야기꽃을 피워주신 주인님!\\n저에게로 와 꽃이 되었습니다.\\n정성스레 차려주신 조식도 너무 맛있었고, 성산일출봉이 보이는 뷰도 너무 좋았어요!\\n거리도 가까워서 다음에 또 방문하고싶어요!!! 친절한 안내와 세심하게 신경써쥬셔서 감사합니다.\\n잠자리도 편하게 잘 잤습니다!\\n2년전에도 오고\\n작년엔 만석이라 다른곳 갔지만 밤에 놀러가서 사장님부부하고 도란도란 떠들었네요\\n빨래돌리고나서 걷는거 까먹었는데 하나하나 걷어서 접어서 자리에 올려놔주시기도 하고 ㅜㅜ\\n여러가지 이야기 나누는데 정말 진심이 담기도록 의사소통을 해주시는게 가장 좋아요\\n숙소에서 보이는 성산일출봉은 당연히 잘 보이구요\\n새벽에 숙소 뒤 바닷가 내려가면 서울에서 못봤던 별들 보고 놀랬어요~\\n코로나로 힘들지만 오래오래 있었으면 좋겠어요\\n저희는 숙소가 너무 좋아서 추가로 장기 숙박을 했는데요. 숙소는 너무 깔끔하고 쾌적합니다. 사장님들도 너무 친절하시고 웃음이 많으신 분들입니다. 숙소 위치나 교통은 바다도 가깝고 성산일출봉도 가깝고, 숙소 앞에 201번 버스나 동부권 관광지를 지나가는 버스 정류장도 있어서 렌트카 없이 교통도 편리해 만족스러웠습니다. 무엇보다 조식으로 매일 아침마다 정성껏 만들어주시는 토스트, 새벽부터 구워주시고 끓여주신 빵과 죽은 너무 오래 동안 기억에 남을 것 같습니다! 세탁기 및 건조기도 구비되어있어 당일 세탁 건조도 가능해서 좋았습니다. 사장님들 건강하세요!\\n여사장님이 친절하시고 대화하기 편하게 공감대를 잘 이끌어주셔서 심심하지 않은 저녁시간 보낼 수 있었고 위치가 성산일출봉 바로 옆이라 확실히 전망은 보장함\\n사장님이 매우 친절하시고 모든 시설이 사랑으로 가꾸어지는 청결한 곳. 이불도 보송보송하고 전체적으로 방 구석구석 깨끗하였습니다. 모든 침구류가 깨끗하게 관리되고 있습니다.\\n위치가 매우 좋아 성산일출봉 일출을 위한 방문자라면 추천합니다. 성산일출봉 입구까지 도보로 5분에서 10분 정도 걸립니다. 바다가 바로 앞이라 방 안에서도 바다와 성산일출봉이 한눈에 보입니다.\\n패밀리룸에는 더블 침대 하나와 2층 침대 하나가 있고 가족 방문자도 편히 쉴 수 있습니다. 방 안에 화장실/샤워실과 냉장고가 있어 편리합니다.\\n공용공간인 부엌도 매우 청결합니다. 숙소에서 도보 5분 거리에 마트와 편의점이 있어 식재료를 구매하여 음식을 해 먹을 수 있습니다.\\n주차공간도 여유 있었습니다.\\n전체적으로 깨끗한 환경에서 조용하게 쉬고 갈 수 있는 곳입니다.\\n숙소 창으로 보이는 일출봉 풍경이 환상적입니다 친절한 사장님 내외분과 맛있는 조식 청결한 침구등등 모든게 만족입니다 다시 이곳으로 여행을 한다면 당연히 이곳으로 하겠습니다\\nAll.\\n1. 사장님의 친절함과 입담 최고 👍\\n2. 조식 시간 늦었는데 챙겨주시는 따뜻함 최고 👍 \\n3. 테라스 뷰는 쵝오 방 안에서 뷰도 👍 \\n4. 주위에 음식점도 😋\\n'], ['수압은 올리고 싶었습니다.\\n정말 아쉬운점이 없는 숙소였어요~\\n체크인시간 쪼금만 땡겨주세용..헿헿\\n너무 만족스러웠습니다!\\n저와 같이 게스트 하우스를 처음 이용하시는 분들이라면 시설 면에서 조금 실망하실 수도 있습니다.\\nNothing\\n']), ('유앤아이 게스트하우스', '', '기존 요금 ₩50,049 현재 요금 ₩40,000', '9.0', '제주, 광양8길 1-2', ['위치가좋다. 일하시는 어르신분들이 시크한 것 같으면서 친절하고 서포티브하시다. 깔끔하다. 곳곳에 게스트들을 최대한 배려하려는게 보인다. 굳굳\\n코로나때문에 4인실을 혼자 쓸 수 있어 좋았고 조식도 빵. 계란. 잼. 쥬스. 커피 등이 나오는데 한끼 식사로 충분했어요. 세탁기를 무료로 사용하고 있고 비옷도 무료로 빌려 주셨어요. 사장님이 친절하셔서 서귀포로 숙소를 옮기려다가 5박을 연장했습니다. 교통도 시청앞이라 어디서나 접근성이 좋습니다. 다음에 제주에 또 온다면 다시 찾고 싶은 곳입니다.\\n위치 좋고 깨끗하고 넓고 가격 싸고 정말 좋음\\n공항에서도 가깝고 제주 전 지역으로 가는 버스를 이용하는 교통이 매우 좋았으나 차를 가진 여행객은 떨어진 곳에 주차해야 함.\\n아침 식사는 간단하나 쥬스, 커피, 따뜻한 토스트 에그 후라이등 가격 대비 훌륭함.\\n프론트도 여행객의 모든 질문과 편의를 친절하게 도와주심.\\n주변에 맛있는 식당이 많이 있음.\\n조식 좋아요\\n다 좋았습니다.\\n사장님의 친절함에 아주 감사하고, 조용하고 깨끗하며, 따뜻한 온수 샤워 및 넓어서 좋았습니다.\\n깨끗하고\\n친절한서비스에대만족\\n6인실 침구세트 청결.조식 좋음. 가성비 좋음.교통 좋음\\n'], ['지세히보면 매우 깔끔하지만 그냥 대충 보면 뭔가 찝찝한 느낌의 방과 화장실\\n없음\\nㅠㅠ주차때문에 연락드렸는데 전화가 안되고.. 문자도 안된다는 점..? 말고는 좋았음\\n다만, 숙소위치가 골목에 위치하고있어서, 차량방문시 주차관련때문에 약간 불편할수 있습니다.\\n없음\\n없음.\\n']), ('레프트핸더 게스트하우스', '', '기존 요금 ₩80,000 현재 요금 ₩78,400', '9.4', '제주, 구좌읍 상도북2길 17-12', ['조용한 세화마을 끝자락에 위치한 조용한 숙소였어요. 주인 부부께서 아주 친절하게 대해 주시고 이런저런 이야기도 손님들과 나누며 편안한 분위기 만들어 주십니다. 날씨 맑은 저녁에는 용눈이오름 별보기도 안내해 주시더라구요. 더블룸 예약이었는데 일행이랑 편하게 지낼수 있게 트윈룸으로 업글도 해주셨구요. 덕분에 공용욕실 사용하기에 전혀 불편하지 않았습니다.^^ 방바닥도 따뜻하고 침대에 장판까지 깔아주시는 세심한 배려~. 방과 화장실 엄청 깨끗하게 관리되고 있습니다. 간단 산책거리에 편의점있어서 필요한거 구하기 쉽구요. 저녁에 맥주 들고와서 숙소 카페에서 한잔하기도 좋아요. 해녀박물관 잠시 구경하기도 좋은 거리입니다. \\n탄이라는 강아지가 있어서 손님들을 격하게 반겨줍니다. 넘넘 재롱둥이여서 탄이 만나러 제주오면 들르고 싶은 정도에요. 제주 동북쪽 여행에 강추!!! 입니다.^^\\n조용히 힐링하기 좋아요\\n조식은 타 게하와 비교 불가.. 만족스럽습니다\\n운영하시는 가족분들은 처음 뵌 분들이 아닌 듯 착각이 들 만큼 정겨온 분들이세요\\n조용하고 예쁜 작은 마을에 위치하고 있고, 세화해변과의 거리도 걸어서 갈수있을만큼 가깝다. 주변에 편의점도 가깝다. 아침 조식이 정성스럽고, 아주 맛있어요.\\n탄이 너무 귀여워요!\\n조식도 매우 맛있고 좋았습니다.\\n주차도 바로 앞에 주차가능합니다.\\n동네도 조용하고 쉬기 좋았습니다.\\n깨끗하고 시설이 편리합니다.\\n조용히 쉬며 가볍게 이야기 나누실 분 추천드립니다. 말라뮤트 강아지가 있어요. 사장님께서 친절하십니다. 다만 주변에 편의시설이 얼마 없고 밤 12시넘어서도 떠들며 놀고싶은 분들은 다른 게하로 가셔요.\\n사장님 부부 너무 친절하셔서 맘 편히 푹쉬다 왔어요.\\n반려견 탄이도 너무 귀여웠구요~\\n밤에 오름 가서 사진도 찍어주시고\\n담에 또 갈게요^^\\n아침식사가 정말 맛있었어요! 웰빙길거리토스트 느낌?\\n이 가격에 이런 조식이라니~~\\n사장님과 사모님 두분다 너무 너무 친절하구요~ \\n침대마다 전기장판이 있어서 아늑~ 담에도 이쪽 올일 있으면 또 예약하려구요~\\n정말 친절하세요:)\\n도착해서 친절하게 맞아주신 여사장님이 시원한 음료를 주셔서 한숨 돌리며 전체적인 설명을 들을 수 있었습니다.\\n게스트 하우스가 처음이라 걱정도 많았는데.. 첫 인상이 모든 걱정을 다 사라지게 해주셨어요.\\n많은 분들이 다녀간 흔적을 보는 재미도 있었고\\n아늑한 방에서 잘 쉴 수 있었습니다.\\n저녁에 카페에서 식사와 맥주를 마셨는데.. 사장님 내외분과 도란도란 얘기한 것도 즐거운 추억이었습니다.\\n신경 많이 써주시는 느낌이 들었습니다. 감사해요!!\\n아침에 샌드위치르르 너무 거하게 준비해주셔서.. 정말 맛있게 잘 먹었습니다.\\n아이 입맛에 맞춰 샌드위치 준비해주셨는데.. 아이가 안먹는다니 \\n다시 시리얼 준비해주셔서 얼마나 감사하던지..\\n공항 버스 타는 곳 까지 비오는데 태워주셔서 또 또 얼마나 감사하던지요.\\n게스트들에게 하나하나 신경써주시는게 느껴질 정도 였습니다.\\n멋쟁이 탄이(말라뮤트 강아지)와의 만남도 좋은 추억이었습니다.\\n제주 집을 리모델링한 숙소는 깔끔하며 정돈이 잘되어 있고 아기자기하였습니다.\\n다음에.. 조만간 꼭 다시 방문하고 싶습니다.\\n주변에 시끄럽거나 관광지 같은 느낌도 없고 오롯이 제주를 느끼고 싶다면 가성비 갓갓..\\n정말 추천 드립니다.\\n수압 좋고 따뜻한 물 잘 나와요.\\n화장실에 샴푸, 린스, 바디워시, 치약, 클렌징크림까지 준비해주셔요. 칫솔만 준비하면 됩니다.\\n'], ['식당까지 조금 멀어요 \\n산책 겸 다녀오실 거라면 문제되진 않아요\\n차량 이동이라면 동네 전체가 주차스트레스는 없어요\\n가격대비로는 크게 아쉬운건 없었어요.\\n겨울이라서 그런지 화장실이 너무 추웠어요~\\n그래도 방은 따뜻\\n이런 저런 이유로 게스트하우스에 저희만 묵게 되어 다른 게스트들과의 소통을 내심 기대했다가.. ㅠ.ㅠ\\n저희만 독채로 잘 사용했습니다.ㅎㅎ\\n화장실이 살짝 추워요..\\n잘 때는 전기장판이 깔려 있어서 많이 춥지 않았습니다.\\n딱히 불편하거나 아쉬웠던 점이 없네요!!!\\n'])]]\n"
     ]
    },
    {
     "data": {
      "text/plain": [
       "[{'hotel_name': '성산 전망좋은 게스트하우스',\n",
       "  'star': '',\n",
       "  'base_price': '40000',\n",
       "  'cur_price': '',\n",
       "  'grade': '9.3',\n",
       "  'good_review': 'Thank you so much Summi! I missed saying goodbye to you before leaving.\\nTake care of your self! 감사합니다🙏❣️\\n멀리보이는 바다뷰가 아닌 가까이에 있어\\n아주 만족스러웠습니다.\\n광치기해변과 섭지코지가 이어져\\n산책하기 좋다고 주인님 알려주셔\\n그야말로 답답한 일상에서 벗어나\\n조용히 힐링하고 싶을때 다시찾고\\n싶습니다.\\n3층휴게실에서 마시는 커피한잔은\\n전망좋은커피숍으로 값을 지불해야할듯.......\\n참 행복한 시간이였습니다.\\n편안하게 맞아주시고 이야기꽃을 피워주신 주인님!\\n저에게로 와 꽃이 되었습니다.\\n정성스레 차려주신 조식도 너무 맛있었고, 성산일출봉이 보이는 뷰도 너무 좋았어요!\\n거리도 가까워서 다음에 또 방문하고싶어요!!! 친절한 안내와 세심하게 신경써쥬셔서 감사합니다.\\n잠자리도 편하게 잘 잤습니다!\\n2년전에도 오고\\n작년엔 만석이라 다른곳 갔지만 밤에 놀러가서 사장님부부하고 도란도란 떠들었네요\\n빨래돌리고나서 걷는거 까먹었는데 하나하나 걷어서 접어서 자리에 올려놔주시기도 하고 ㅜㅜ\\n여러가지 이야기 나누는데 정말 진심이 담기도록 의사소통을 해주시는게 가장 좋아요\\n숙소에서 보이는 성산일출봉은 당연히 잘 보이구요\\n새벽에 숙소 뒤 바닷가 내려가면 서울에서 못봤던 별들 보고 놀랬어요~\\n코로나로 힘들지만 오래오래 있었으면 좋겠어요\\n저희는 숙소가 너무 좋아서 추가로 장기 숙박을 했는데요. 숙소는 너무 깔끔하고 쾌적합니다. 사장님들도 너무 친절하시고 웃음이 많으신 분들입니다. 숙소 위치나 교통은 바다도 가깝고 성산일출봉도 가깝고, 숙소 앞에 201번 버스나 동부권 관광지를 지나가는 버스 정류장도 있어서 렌트카 없이 교통도 편리해 만족스러웠습니다. 무엇보다 조식으로 매일 아침마다 정성껏 만들어주시는 토스트, 새벽부터 구워주시고 끓여주신 빵과 죽은 너무 오래 동안 기억에 남을 것 같습니다! 세탁기 및 건조기도 구비되어있어 당일 세탁 건조도 가능해서 좋았습니다. 사장님들 건강하세요!\\n여사장님이 친절하시고 대화하기 편하게 공감대를 잘 이끌어주셔서 심심하지 않은 저녁시간 보낼 수 있었고 위치가 성산일출봉 바로 옆이라 확실히 전망은 보장함\\n사장님이 매우 친절하시고 모든 시설이 사랑으로 가꾸어지는 청결한 곳. 이불도 보송보송하고 전체적으로 방 구석구석 깨끗하였습니다. 모든 침구류가 깨끗하게 관리되고 있습니다.\\n위치가 매우 좋아 성산일출봉 일출을 위한 방문자라면 추천합니다. 성산일출봉 입구까지 도보로 5분에서 10분 정도 걸립니다. 바다가 바로 앞이라 방 안에서도 바다와 성산일출봉이 한눈에 보입니다.\\n패밀리룸에는 더블 침대 하나와 2층 침대 하나가 있고 가족 방문자도 편히 쉴 수 있습니다. 방 안에 화장실/샤워실과 냉장고가 있어 편리합니다.\\n공용공간인 부엌도 매우 청결합니다. 숙소에서 도보 5분 거리에 마트와 편의점이 있어 식재료를 구매하여 음식을 해 먹을 수 있습니다.\\n주차공간도 여유 있었습니다.\\n전체적으로 깨끗한 환경에서 조용하게 쉬고 갈 수 있는 곳입니다.\\n숙소 창으로 보이는 일출봉 풍경이 환상적입니다 친절한 사장님 내외분과 맛있는 조식 청결한 침구등등 모든게 만족입니다 다시 이곳으로 여행을 한다면 당연히 이곳으로 하겠습니다\\nAll.\\n1. 사장님의 친절함과 입담 최고 👍\\n2. 조식 시간 늦었는데 챙겨주시는 따뜻함 최고 👍 \\n3. 테라스 뷰는 쵝오 방 안에서 뷰도 👍 \\n4. 주위에 음식점도 😋\\n',\n",
       "  'bad_review': '수압은 올리고 싶었습니다.\\n정말 아쉬운점이 없는 숙소였어요~\\n체크인시간 쪼금만 땡겨주세용..헿헿\\n너무 만족스러웠습니다!\\n저와 같이 게스트 하우스를 처음 이용하시는 분들이라면 시설 면에서 조금 실망하실 수도 있습니다.\\nNothing\\n',\n",
       "  'address': '서귀포, 성산읍 일출로 248'},\n",
       " {'hotel_name': '유앤아이 게스트하우스',\n",
       "  'star': '',\n",
       "  'base_price': '50049',\n",
       "  'cur_price': '40000',\n",
       "  'grade': '9.0',\n",
       "  'good_review': '위치가좋다. 일하시는 어르신분들이 시크한 것 같으면서 친절하고 서포티브하시다. 깔끔하다. 곳곳에 게스트들을 최대한 배려하려는게 보인다. 굳굳\\n코로나때문에 4인실을 혼자 쓸 수 있어 좋았고 조식도 빵. 계란. 잼. 쥬스. 커피 등이 나오는데 한끼 식사로 충분했어요. 세탁기를 무료로 사용하고 있고 비옷도 무료로 빌려 주셨어요. 사장님이 친절하셔서 서귀포로 숙소를 옮기려다가 5박을 연장했습니다. 교통도 시청앞이라 어디서나 접근성이 좋습니다. 다음에 제주에 또 온다면 다시 찾고 싶은 곳입니다.\\n위치 좋고 깨끗하고 넓고 가격 싸고 정말 좋음\\n공항에서도 가깝고 제주 전 지역으로 가는 버스를 이용하는 교통이 매우 좋았으나 차를 가진 여행객은 떨어진 곳에 주차해야 함.\\n아침 식사는 간단하나 쥬스, 커피, 따뜻한 토스트 에그 후라이등 가격 대비 훌륭함.\\n프론트도 여행객의 모든 질문과 편의를 친절하게 도와주심.\\n주변에 맛있는 식당이 많이 있음.\\n조식 좋아요\\n다 좋았습니다.\\n사장님의 친절함에 아주 감사하고, 조용하고 깨끗하며, 따뜻한 온수 샤워 및 넓어서 좋았습니다.\\n깨끗하고\\n친절한서비스에대만족\\n6인실 침구세트 청결.조식 좋음. 가성비 좋음.교통 좋음\\n',\n",
       "  'bad_review': '지세히보면 매우 깔끔하지만 그냥 대충 보면 뭔가 찝찝한 느낌의 방과 화장실\\n없음\\nㅠㅠ주차때문에 연락드렸는데 전화가 안되고.. 문자도 안된다는 점..? 말고는 좋았음\\n다만, 숙소위치가 골목에 위치하고있어서, 차량방문시 주차관련때문에 약간 불편할수 있습니다.\\n없음\\n없음.\\n',\n",
       "  'address': '제주, 광양8길 1-2'},\n",
       " {'hotel_name': '레프트핸더 게스트하우스',\n",
       "  'star': '',\n",
       "  'base_price': '80000',\n",
       "  'cur_price': '78400',\n",
       "  'grade': '9.4',\n",
       "  'good_review': '조용한 세화마을 끝자락에 위치한 조용한 숙소였어요. 주인 부부께서 아주 친절하게 대해 주시고 이런저런 이야기도 손님들과 나누며 편안한 분위기 만들어 주십니다. 날씨 맑은 저녁에는 용눈이오름 별보기도 안내해 주시더라구요. 더블룸 예약이었는데 일행이랑 편하게 지낼수 있게 트윈룸으로 업글도 해주셨구요. 덕분에 공용욕실 사용하기에 전혀 불편하지 않았습니다.^^ 방바닥도 따뜻하고 침대에 장판까지 깔아주시는 세심한 배려~. 방과 화장실 엄청 깨끗하게 관리되고 있습니다. 간단 산책거리에 편의점있어서 필요한거 구하기 쉽구요. 저녁에 맥주 들고와서 숙소 카페에서 한잔하기도 좋아요. 해녀박물관 잠시 구경하기도 좋은 거리입니다. \\n탄이라는 강아지가 있어서 손님들을 격하게 반겨줍니다. 넘넘 재롱둥이여서 탄이 만나러 제주오면 들르고 싶은 정도에요. 제주 동북쪽 여행에 강추!!! 입니다.^^\\n조용히 힐링하기 좋아요\\n조식은 타 게하와 비교 불가.. 만족스럽습니다\\n운영하시는 가족분들은 처음 뵌 분들이 아닌 듯 착각이 들 만큼 정겨온 분들이세요\\n조용하고 예쁜 작은 마을에 위치하고 있고, 세화해변과의 거리도 걸어서 갈수있을만큼 가깝다. 주변에 편의점도 가깝다. 아침 조식이 정성스럽고, 아주 맛있어요.\\n탄이 너무 귀여워요!\\n조식도 매우 맛있고 좋았습니다.\\n주차도 바로 앞에 주차가능합니다.\\n동네도 조용하고 쉬기 좋았습니다.\\n깨끗하고 시설이 편리합니다.\\n조용히 쉬며 가볍게 이야기 나누실 분 추천드립니다. 말라뮤트 강아지가 있어요. 사장님께서 친절하십니다. 다만 주변에 편의시설이 얼마 없고 밤 12시넘어서도 떠들며 놀고싶은 분들은 다른 게하로 가셔요.\\n사장님 부부 너무 친절하셔서 맘 편히 푹쉬다 왔어요.\\n반려견 탄이도 너무 귀여웠구요~\\n밤에 오름 가서 사진도 찍어주시고\\n담에 또 갈게요^^\\n아침식사가 정말 맛있었어요! 웰빙길거리토스트 느낌?\\n이 가격에 이런 조식이라니~~\\n사장님과 사모님 두분다 너무 너무 친절하구요~ \\n침대마다 전기장판이 있어서 아늑~ 담에도 이쪽 올일 있으면 또 예약하려구요~\\n정말 친절하세요:)\\n도착해서 친절하게 맞아주신 여사장님이 시원한 음료를 주셔서 한숨 돌리며 전체적인 설명을 들을 수 있었습니다.\\n게스트 하우스가 처음이라 걱정도 많았는데.. 첫 인상이 모든 걱정을 다 사라지게 해주셨어요.\\n많은 분들이 다녀간 흔적을 보는 재미도 있었고\\n아늑한 방에서 잘 쉴 수 있었습니다.\\n저녁에 카페에서 식사와 맥주를 마셨는데.. 사장님 내외분과 도란도란 얘기한 것도 즐거운 추억이었습니다.\\n신경 많이 써주시는 느낌이 들었습니다. 감사해요!!\\n아침에 샌드위치르르 너무 거하게 준비해주셔서.. 정말 맛있게 잘 먹었습니다.\\n아이 입맛에 맞춰 샌드위치 준비해주셨는데.. 아이가 안먹는다니 \\n다시 시리얼 준비해주셔서 얼마나 감사하던지..\\n공항 버스 타는 곳 까지 비오는데 태워주셔서 또 또 얼마나 감사하던지요.\\n게스트들에게 하나하나 신경써주시는게 느껴질 정도 였습니다.\\n멋쟁이 탄이(말라뮤트 강아지)와의 만남도 좋은 추억이었습니다.\\n제주 집을 리모델링한 숙소는 깔끔하며 정돈이 잘되어 있고 아기자기하였습니다.\\n다음에.. 조만간 꼭 다시 방문하고 싶습니다.\\n주변에 시끄럽거나 관광지 같은 느낌도 없고 오롯이 제주를 느끼고 싶다면 가성비 갓갓..\\n정말 추천 드립니다.\\n수압 좋고 따뜻한 물 잘 나와요.\\n화장실에 샴푸, 린스, 바디워시, 치약, 클렌징크림까지 준비해주셔요. 칫솔만 준비하면 됩니다.\\n',\n",
       "  'bad_review': '식당까지 조금 멀어요 \\n산책 겸 다녀오실 거라면 문제되진 않아요\\n차량 이동이라면 동네 전체가 주차스트레스는 없어요\\n가격대비로는 크게 아쉬운건 없었어요.\\n겨울이라서 그런지 화장실이 너무 추웠어요~\\n그래도 방은 따뜻\\n이런 저런 이유로 게스트하우스에 저희만 묵게 되어 다른 게스트들과의 소통을 내심 기대했다가.. ㅠ.ㅠ\\n저희만 독채로 잘 사용했습니다.ㅎㅎ\\n화장실이 살짝 추워요..\\n잘 때는 전기장판이 깔려 있어서 많이 춥지 않았습니다.\\n딱히 불편하거나 아쉬웠던 점이 없네요!!!\\n',\n",
       "  'address': '제주, 구좌읍 상도북2길 17-12'}]"
      ]
     },
     "execution_count": 84,
     "metadata": {},
     "output_type": "execute_result"
    }
   ],
   "source": [
    "datas = get_hotelDatas()\n",
    "re_prices = price_parsing(datas)\n",
    "\n",
    "raw_dicts = {'hotel_name':'', 'star':'', 'base_price':'', 'cur_price':'', 'grade':'', 'good_review':'', 'bad_review':'', 'address':''}\n",
    "raw_datas = []\n",
    "hotelName_idx, star_idx, grade_idx, addr_idx, review_idx, = 0, 1, 3, 4, 5\n",
    "\n",
    "print(datas)\n",
    "for i in range(len(datas[0])):\n",
    "    \n",
    "    raw_dicts['hotel_name'] = datas[0][i][hotelName_idx]\n",
    "    raw_dicts['star'] = datas[0][i][star_idx]\n",
    "    raw_dicts['base_price'] = re_prices[i][0]\n",
    "    raw_dicts['cur_price'] = re_prices[i][1]\n",
    "    raw_dicts['grade'] = datas[0][i][grade_idx]\n",
    "    raw_dicts['good_review'] = datas[0][i][review_idx][0]\n",
    "    raw_dicts['bad_review'] = datas[0][i][review_idx+1][0]\n",
    "    raw_dicts['address'] = datas[0][i][addr_idx]\n",
    "    \n",
    "    raw_datas.append(raw_dicts.copy())\n",
    "    \n",
    "raw_datas"
   ]
  },
  {
   "cell_type": "code",
   "execution_count": 85,
   "id": "tamil-stockholm",
   "metadata": {},
   "outputs": [
    {
     "data": {
      "text/html": [
       "<div>\n",
       "<style scoped>\n",
       "    .dataframe tbody tr th:only-of-type {\n",
       "        vertical-align: middle;\n",
       "    }\n",
       "\n",
       "    .dataframe tbody tr th {\n",
       "        vertical-align: top;\n",
       "    }\n",
       "\n",
       "    .dataframe thead th {\n",
       "        text-align: right;\n",
       "    }\n",
       "</style>\n",
       "<table border=\"1\" class=\"dataframe\">\n",
       "  <thead>\n",
       "    <tr style=\"text-align: right;\">\n",
       "      <th></th>\n",
       "      <th>name</th>\n",
       "      <th>star</th>\n",
       "      <th>basePrice</th>\n",
       "      <th>currentPrice</th>\n",
       "      <th>grade</th>\n",
       "      <th>goodReview</th>\n",
       "      <th>badReview</th>\n",
       "      <th>address</th>\n",
       "    </tr>\n",
       "  </thead>\n",
       "  <tbody>\n",
       "    <tr>\n",
       "      <th>0</th>\n",
       "      <td>성산 전망좋은 게스트하우스</td>\n",
       "      <td></td>\n",
       "      <td>40000</td>\n",
       "      <td></td>\n",
       "      <td>9.3</td>\n",
       "      <td>Thank you so much Summi! I missed saying goodb...</td>\n",
       "      <td>수압은 올리고 싶었습니다.\\n정말 아쉬운점이 없는 숙소였어요~\\n체크인시간 쪼금만 ...</td>\n",
       "      <td>서귀포, 성산읍 일출로 248</td>\n",
       "    </tr>\n",
       "    <tr>\n",
       "      <th>1</th>\n",
       "      <td>유앤아이 게스트하우스</td>\n",
       "      <td></td>\n",
       "      <td>50049</td>\n",
       "      <td>40000</td>\n",
       "      <td>9.0</td>\n",
       "      <td>위치가좋다. 일하시는 어르신분들이 시크한 것 같으면서 친절하고 서포티브하시다. 깔끔...</td>\n",
       "      <td>지세히보면 매우 깔끔하지만 그냥 대충 보면 뭔가 찝찝한 느낌의 방과 화장실\\n없음\\...</td>\n",
       "      <td>제주, 광양8길 1-2</td>\n",
       "    </tr>\n",
       "    <tr>\n",
       "      <th>2</th>\n",
       "      <td>레프트핸더 게스트하우스</td>\n",
       "      <td></td>\n",
       "      <td>80000</td>\n",
       "      <td>78400</td>\n",
       "      <td>9.4</td>\n",
       "      <td>조용한 세화마을 끝자락에 위치한 조용한 숙소였어요. 주인 부부께서 아주 친절하게 대...</td>\n",
       "      <td>식당까지 조금 멀어요 \\n산책 겸 다녀오실 거라면 문제되진 않아요\\n차량 이동이라면...</td>\n",
       "      <td>제주, 구좌읍 상도북2길 17-12</td>\n",
       "    </tr>\n",
       "  </tbody>\n",
       "</table>\n",
       "</div>"
      ],
      "text/plain": [
       "             name star basePrice currentPrice grade  \\\n",
       "0  성산 전망좋은 게스트하우스          40000                9.3   \n",
       "1     유앤아이 게스트하우스          50049        40000   9.0   \n",
       "2    레프트핸더 게스트하우스          80000        78400   9.4   \n",
       "\n",
       "                                          goodReview  \\\n",
       "0  Thank you so much Summi! I missed saying goodb...   \n",
       "1  위치가좋다. 일하시는 어르신분들이 시크한 것 같으면서 친절하고 서포티브하시다. 깔끔...   \n",
       "2  조용한 세화마을 끝자락에 위치한 조용한 숙소였어요. 주인 부부께서 아주 친절하게 대...   \n",
       "\n",
       "                                           badReview              address  \n",
       "0  수압은 올리고 싶었습니다.\\n정말 아쉬운점이 없는 숙소였어요~\\n체크인시간 쪼금만 ...     서귀포, 성산읍 일출로 248  \n",
       "1  지세히보면 매우 깔끔하지만 그냥 대충 보면 뭔가 찝찝한 느낌의 방과 화장실\\n없음\\...         제주, 광양8길 1-2  \n",
       "2  식당까지 조금 멀어요 \\n산책 겸 다녀오실 거라면 문제되진 않아요\\n차량 이동이라면...  제주, 구좌읍 상도북2길 17-12  "
      ]
     },
     "execution_count": 85,
     "metadata": {},
     "output_type": "execute_result"
    }
   ],
   "source": [
    "def get_fields(raw_datas):\n",
    "\n",
    "    name = [raw_datas[i]['hotel_name'] for i in range(len(raw_datas))]\n",
    "    star = [raw_datas[i]['star'] for i in range(len(raw_datas))]\n",
    "    basePrice = [raw_datas[i]['base_price'] for i in range(len(raw_datas))]\n",
    "    currentPrice = [raw_datas[i]['cur_price'] for i in range(len(raw_datas))]\n",
    "    grade = [raw_datas[i]['grade'] for i in range(len(raw_datas))]\n",
    "    good_review = [raw_datas[i]['good_review'] for i in range(len(raw_datas))]\n",
    "    bad_review = [raw_datas[i]['bad_review'] for i in range(len(raw_datas))]\n",
    "    address = [raw_datas[i]['address'] for i in range(len(raw_datas))]\n",
    "    \n",
    "    data_pd = pd.DataFrame({'name': name, 'star': star, 'basePrice': basePrice, 'currentPrice': currentPrice, 'grade': grade, 'goodReview': good_review, 'badReview': bad_review, 'address': address })\n",
    "    \n",
    "    return data_pd\n",
    "\n",
    "res_jeju_hotel = get_fields(raw_datas)\n",
    "res_jeju_hotel"
   ]
  },
  {
   "cell_type": "code",
   "execution_count": 86,
   "id": "narrative-desperate",
   "metadata": {},
   "outputs": [],
   "source": [
    "res_jeju_hotel.to_csv(\"jeju_hotel_datas.csv\", encoding='utf-8-sig', header=False, mode='a') # 이어서 저장"
   ]
  },
  {
   "cell_type": "markdown",
   "id": "incident-mixture",
   "metadata": {},
   "source": [
    "---"
   ]
  }
 ],
 "metadata": {
  "kernelspec": {
   "display_name": "Python 3",
   "language": "python",
   "name": "python3"
  },
  "language_info": {
   "codemirror_mode": {
    "name": "ipython",
    "version": 3
   },
   "file_extension": ".py",
   "mimetype": "text/x-python",
   "name": "python",
   "nbconvert_exporter": "python",
   "pygments_lexer": "ipython3",
   "version": "3.9.1"
  }
 },
 "nbformat": 4,
 "nbformat_minor": 5
}
