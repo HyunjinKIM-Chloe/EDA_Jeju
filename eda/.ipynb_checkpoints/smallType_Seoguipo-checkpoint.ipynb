{
 "cells": [
  {
   "cell_type": "code",
   "execution_count": 1,
   "id": "perceived-abuse",
   "metadata": {},
   "outputs": [],
   "source": [
    "# 서귀포시 내 10시 ~ 22시 사이 결제 + 영세 + '소매업', '음식점업' \n",
    "# TotalSpent 기준 상위 업종 13개 기준"
   ]
  },
  {
   "cell_type": "code",
   "execution_count": 2,
   "id": "covered-blond",
   "metadata": {},
   "outputs": [],
   "source": [
    "PATH = '../../01_jeju/codes/datas/'\n",
    "smallType_url = PATH +'jejusi_detailed_smallType.csv'\n",
    "smallType_data_sgp = pd.read_csv(smallType_url, sep=',')\n",
    "smallType_data_sgp = smallType_data_sgp[smallType_data_sgp['Sigungu'] == '서귀포시']\n",
    "smallType_data_sgp.reset_index(drop=True, inplace=True)"
   ]
  },
  {
   "cell_type": "code",
   "execution_count": 3,
   "id": "centered-grade",
   "metadata": {},
   "outputs": [],
   "source": [
    "# ITRF2000 좌표계 좌표\n",
    "def get_transform_xy(raw_xy):\n",
    "    transform_xy = []\n",
    "    latlng_df = raw_xy\n",
    "\n",
    "    for i in range(len(latlng_df)):\n",
    "        raw_x = latlng_df['POINT_X'].iloc[i]\n",
    "        raw_y = latlng_df['POINT_Y'].iloc[i]\n",
    "\n",
    "        res = change_lat_lng(raw_x, raw_y)\n",
    "        transform_xy.append(res)\n",
    "\n",
    "    return transform_xy"
   ]
  },
  {
   "cell_type": "code",
   "execution_count": 4,
   "id": "strange-ghana",
   "metadata": {},
   "outputs": [],
   "source": [
    "from pyproj import Proj, transform\n",
    "import json\n",
    "\n",
    "# 좌표 변환\n",
    "def change_lat_lng(path_x, path_y):\n",
    "    \n",
    "    itrf_x, itrf_y = path_x, path_y\n",
    "    \n",
    "    proj_UTMK = Proj(init='epsg:5178') #기존 좌표계: ITRF2000\n",
    "    proj_WGS84 = Proj(init='epsg:4326') #변환할 좌표계\n",
    "    \n",
    "    x, y = transform(proj_UTMK, proj_WGS84, itrf_x, itrf_y)\n",
    "    latlng = (x, y)\n",
    "    \n",
    "    return latlng"
   ]
  },
  {
   "cell_type": "code",
   "execution_count": 5,
   "id": "expressed-communication",
   "metadata": {},
   "outputs": [],
   "source": [
    "raw_xy = smallType_data_sgp[['POINT_X', 'POINT_Y']]\n",
    "res_latlng = get_transform_xy(raw_xy)\n",
    "\n",
    "get_x, get_y = [], []\n",
    "\n",
    "for i in range(len(res_latlng)):\n",
    "    x = str(res_latlng[i][0])\n",
    "    y = str(res_latlng[i][1])\n",
    "\n",
    "    get_x.append(x)\n",
    "    get_y.append(y)\n",
    "\n",
    "smallType_data_sgp['Proj_X'] = get_x\n",
    "smallType_data_sgp['Proj_Y'] = get_y\n",
    "\n",
    "smallType_data_sgp.reset_index(drop=True, inplace=True)\n",
    "smallType_data_sgp.tail(5)\n",
    "smallType_data_sgp.to_csv(PATH +'jejusi_detailed_smallType_sgp.csv', encoding='utf-8-sig')"
   ]
  },
  {
   "cell_type": "code",
   "execution_count": 6,
   "id": "administrative-somerset",
   "metadata": {},
   "outputs": [],
   "source": [
    "smallType_data_sgp.to_csv(PATH +'jejusi_detailed_smallType_sgp.csv', encoding='utf-8-sig')"
   ]
  },
  {
   "cell_type": "code",
   "execution_count": null,
   "id": "consistent-northwest",
   "metadata": {},
   "outputs": [],
   "source": []
  }
 ],
 "metadata": {
  "kernelspec": {
   "display_name": "Python 3",
   "language": "python",
   "name": "python3"
  },
  "language_info": {
   "codemirror_mode": {
    "name": "ipython",
    "version": 3
   },
   "file_extension": ".py",
   "mimetype": "text/x-python",
   "name": "python",
   "nbconvert_exporter": "python",
   "pygments_lexer": "ipython3",
   "version": "3.7.10"
  }
 },
 "nbformat": 4,
 "nbformat_minor": 5
}
