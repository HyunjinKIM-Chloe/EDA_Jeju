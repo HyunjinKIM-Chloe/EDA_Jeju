{
 "cells": [
  {
   "cell_type": "markdown",
   "id": "mounted-withdrawal",
   "metadata": {},
   "source": [
    "<div>\n",
    "<img src=\"../imgs/ppt.jpg\", width='700'/></div>"
   ]
  },
  {
   "cell_type": "markdown",
   "id": "horizontal-stack",
   "metadata": {},
   "source": [
    "---\n",
    "### 1️⃣ 주제 선정 목적\n",
    "- 제주도 소비/결제 데이터 및 지역별 업종 분석\n",
    "- EDA를 통한 요소별 상관관계 분석 및 인사이트 도출\n",
    "\n",
    "### 2️⃣ Reference\n",
    "① 제주도 업종별 매출 데이터\n",
    "  - 출처: [Dacon \"공간정보 탐색적 데이터 분석 경진대회\"](https://dacon.io/competitions/official/235682/data/)\n",
    "  - 목적: 지역별/시간대별 상세 업종 결제액 분석\n",
    "  \n",
    "② 제주도 금융 생활 데이터 \n",
    "  - 출처: [Dacon \"KCB 금융스타일 시각화 경진대회\"](https://dacon.io/competitions/official/82407/overview/description/) \n",
    "  - 목적: 직업, 소득, 연령 등 요소별 상관관계 분석\n",
    "\n",
    "③ 제주도 내국인 관광객 지역, 업종, 성별, 연령대별 카드 이용 데이터 API \n",
    "  - 출처: [제주데이터랩](https://www.jejudatahub.net/data/view/data/597)\n",
    "  - 목적: 제주도민과 내국인 관광객 소비유형 비교 분석\n",
    "\n",
    "④ 카카오 지도 API\n",
    "  - 출처: [kakao developers](https://developers.kakao.com/product/map)\n",
    "  - 목적: pyproj 활용, ITRF2000 기준 좌표계를 경도/위도 기준값으로 변환\n",
    "  \n",
    "⑤ 제주도 호텔 데이터 크롤링\n",
    "  - 출처: [부킹닷컴](https://www.booking.com/)\n",
    "  - 목적: 제주도 호텔 실 결제 데이터를 통해 관광객 선호 숙박 입지 분석 "
   ]
  },
  {
   "cell_type": "markdown",
   "id": "caroline-working",
   "metadata": {},
   "source": [
    "---\n",
    "<div class=\"alert alert-block\" style=\"border: 1px solid #FFB300;background-color:#F9FBE7;\">\n",
    "<font size=\"3em\" style=\"font-weight:bold;color:#3f8dbf;\">CHAPTER 1) 제주도 소비생활 분석</font><br><br>\n",
    "- 제주도는 제주도민과 관광객이 공존하는 지역 <br>\n",
    "- 고소득/고소비 제주도민과 관광객 공략을 위한 밀집 지역 탐색 <br>\n",
    "<img src=\"../imgs/ppt3.jpg\", width='500'>\n",
    "  <br>  \n",
    "  <b> [Hypotheses] <b>\n",
    "      <br>\n",
    "       H1: 제주도민과 관광객은 업종별 소비 특성에 차이가 있을 것이다 <br>\n",
    "       H2: 제주도민의 직업과 소득/소비는 상관관계가 있을 것이다 <br>\n",
    "       H3: 고소득/고소비층 소비자의 활동 영역은 밀집되어 있을 것이다 <br>\n",
    "           ㄴ H3-1: 고소득/고소비 제주도민의 거주지는 밀집되어 있을 것이다 <br>\n",
    "           ㄴ H3-2: 고소득/고소비 관광객이 묵는 숙박업소는 밀집되어 있을 것이다 <br>\n",
    " </div>"
   ]
  },
  {
   "cell_type": "markdown",
   "id": "static-glance",
   "metadata": {},
   "source": [
    "---\n",
    "# [서론] 제주도민과 관광객의 소비 특성 비교\n",
    "## H1: 제주도민과 관광객은 업종별 소비 특성에 차이가 있을 것이다\n",
    "> <b> 결론 <br>\n",
    "> ▶ 제주도민과 관광객은 소비 금액 / 횟수 / 객수의 업종별로 비슷한 양상을 보인다. </b>"
   ]
  },
  {
   "cell_type": "markdown",
   "id": "1f7ca455",
   "metadata": {},
   "source": [
    "<div>\n",
    "<img src=\"../imgs/g1.png\"/></div>"
   ]
  },
  {
   "cell_type": "markdown",
   "id": "metropolitan-northeast",
   "metadata": {},
   "source": [
    "---\n",
    "# [본론] ① 제주도 거주민 - 고소득층 밀집 지역 탐색\n",
    "- 소득과 소비력에 직결되는 요소로서 '직업' 선정\n",
    "- 직업(대기업,중소기업,공기업,전문직,자영업) 비중 <br>\n",
    "  => [job_points] column 추가:직업군별 가중치(연봉 기준) 반영한 지표 생성 <br>\n",
    "  => [job_level] column 추가:job_points 상위 1%, 4분위수 기준 5등급 구분"
   ]
  },
  {
   "cell_type": "markdown",
   "id": "architectural-clark",
   "metadata": {},
   "source": [
    "## H2: 제주도민의 직업과 소득/소비는 상관관계가 있을 것이다\n",
    "> med_income(0.6), avg_spend(0.5), avg_debt_credit(0.5), vehicle_own_rat(0.4) 과 양의 상관관계 <br> <br>\n",
    "> <b> 결론 <br>\n",
    "> ▶ 직업과 소득/소비는 상당한 상관관계가 있다.</b>"
   ]
  },
  {
   "cell_type": "markdown",
   "id": "621abcfa",
   "metadata": {},
   "source": [
    "### job points 컬럼 추가 \n",
    "- 직업군별 가중치(연봉 기준) 반영\n",
    "- 직업군별 점수 가중치 환산 로직: '사업체 규모별 평균 임금' 통계자료 참조\n",
    "- 가중치 점수 변환\n",
    "- 대기업 100, 중소기업 68, 공기업 92, 전문직 100, 자영업 60, 무직 0, 기타 50"
   ]
  },
  {
   "cell_type": "markdown",
   "id": "62462a99",
   "metadata": {},
   "source": [
    "<div>\n",
    "<img src=\"../imgs/g2.png\", width='700'/></div>"
   ]
  },
  {
   "cell_type": "markdown",
   "id": "completed-danger",
   "metadata": {},
   "source": [
    "## H3-1: 고소득/고소비 제주도민의 거주지는 밀집되어 있을 것이다\n",
    "> <b> 결론 <br>\n",
    "> ▶ 고소득/고소비 제주도민의 거주지는 밀집되어 있는 경향이 있다.</b>"
   ]
  },
  {
   "cell_type": "markdown",
   "id": "386d4193",
   "metadata": {},
   "source": [
    "#### job level 컬럼 추가 \n",
    "- 직업은 소비력과 상관관계가 높다\n",
    "- job points가 상위 1프로의 거주지가 밀집된 곳을 찾아보자\n",
    "\n",
    "<b> 프로세스 </b>\n",
    "1. 무직, 기타 컬럼 drop 후 비중 재반영\n",
    "2. job_points 컬럼 추가: 직업군별 가중치 반영 \n",
    "   : 대기업 100, 중소기업 68, 공기업 92, 전문직 100, 자영업 60\n",
    "3. job points를 기준으로 총 5개의 level로 분리\n",
    "   : 상위 1% (a등급), 4분위수 기준으로 나머지 4개 등급 분리(b~e등급)\n",
    "4. data 데이터 프레임에 job level 컬럼 추가"
   ]
  },
  {
   "cell_type": "markdown",
   "id": "e1673efe",
   "metadata": {},
   "source": [
    "### Job level ⓐ등급 Scatter map\n",
    "<div>\n",
    "<img src=\"../imgs/g3.png\", width='700'/></div>"
   ]
  },
  {
   "cell_type": "markdown",
   "id": "unnecessary-feedback",
   "metadata": {},
   "source": [
    "# [본론] ② 제주도 관광객 - 고급 호텔 밀집 지역 탐색\n",
    "- 고소비층이 묵는 고급 호텔은 특정 지역에 밀집되어 있을 것이다 <br>\n",
    "- 숙박업 결제 데이터 및 부킹닷컴 제주도 호텔 크롤링 데이터 사용"
   ]
  },
  {
   "cell_type": "markdown",
   "id": "based-trinidad",
   "metadata": {},
   "source": [
    "## H3-2: 고소득/고소비 관광객이 묵는 숙박업소는 밀집되어 있을 것이다\n",
    "> <b> 결론 <br>\n",
    "> ▶ 고소득/고소비 관광객이 묵는 숙박업소는 밀집되어 있는 경향이 있다.</b>"
   ]
  },
  {
   "cell_type": "markdown",
   "id": "f8eaaaa3",
   "metadata": {},
   "source": [
    "#### 제주 내 호텔 소비 데이터 수집\n",
    "\n",
    "<b>프로세스</b>\n",
    "- Type = '콘도', '기타숙박업' 제외\n",
    "- 실제 주소를 위도, 경도로 변환하는 API 요청\n",
    "- API 요청 응답 및 데이터 파싱\n",
    "- 호텔 주소 데이터 위도 경도 변환 수행\n",
    "<br>\n",
    "<br>\n",
    "<div>\n",
    "<img src=\"../imgs/df4_1.jpg\", width='600'/>\n",
    "<img src=\"../imgs/df4_2.jpg\", width='600'/></div>"
   ]
  },
  {
   "cell_type": "markdown",
   "id": "ed1bbbeb",
   "metadata": {},
   "source": [
    "#### 실제 제주내 호텔 분포와 관광객&내국인의 호텔 소비를 겹친 scatterplot\n",
    "<br>\n",
    "<div>\n",
    "<img src=\"../imgs/g4.png\", width='600'/></div>"
   ]
  },
  {
   "cell_type": "markdown",
   "id": "cathedral-missile",
   "metadata": {},
   "source": [
    "---\n",
    "# [결론]\n",
    "- 본론 ①과 ② 교집합의 상위 동을 추려 8개 지역(읍/면/동 단위) 선정\n",
    "- CHAPTER 2 에서 해당 지역에서 유망한 업종을 탐색해보고자 함"
   ]
  },
  {
   "cell_type": "markdown",
   "id": "compatible-syndication",
   "metadata": {},
   "source": [
    "##  H3: 고소득/고소비층 소비자의 활동 영역은 밀집되어 있을 것이다\n",
    "> <b> 결론 <br>\n",
    "> ▶ 타켓 제주도민/관광객 거주지 및 숙박업소는 밀집되어 있는 경향이 있다.</b>"
   ]
  },
  {
   "cell_type": "markdown",
   "id": "147bd47c",
   "metadata": {},
   "source": [
    "#### 고소득/고소비 소비자 활동 지역 \n",
    "- job level a 등급만의 데이터\n",
    "- hotel 1,2,3 성급을 제외한 실제 4,5 성급 데이터\n",
    "- Merge: jeju_a_lv & jeju_hotel45\n",
    "\n",
    "#### 카카오맵 API 활용 읍/면/동 변환\n",
    "- 위도, 경도 값을 실제 주소로 변환하는 API 요청\n",
    "- 실제 주소로 변환하는 API 요청 url 생성\n",
    "- 변환된 위도,경도를 주소로 요청\n",
    "<div>\n",
    "<img src=\"../imgs/df3.jpg\", width='300'/></div>"
   ]
  },
  {
   "cell_type": "markdown",
   "id": "e7f5ad5a",
   "metadata": {},
   "source": [
    "#### 고소득/고소비 소비자 활동 지역 중 top 8\n",
    "<div>\n",
    "<img src=\"../imgs/df3_1.jpg\", width='150'/></div>"
   ]
  },
  {
   "cell_type": "markdown",
   "id": "crude-species",
   "metadata": {},
   "source": [
    "#### 8개 지역 Folium 표시\n",
    "<div>\n",
    "<img src=\"../imgs/g5.jpg\", width='700'/></div>"
   ]
  },
  {
   "cell_type": "markdown",
   "id": "852d499a",
   "metadata": {},
   "source": [
    "---\n",
    "<div class=\"alert alert-block\" style=\"border: 1px solid #FFB300;background-color:#F9FBE7;\">\n",
    "<font size=\"3em\" style=\"font-weight:bold;color:#3f8dbf;\">CHAPTER 2) 제주도 유망 사업 업종 분석</font><br><br>\n",
    "- CHAPTER 1에서 선정한 고소비층 밀집 지역 기준, 유망한 업종 탐색 <br>\n",
    "- 신규 개인 창업을 기준으로 데이터 선별하여 분석 진행 <br>\n",
    "    ※ WHERE: CHAPTER 1에서 선정한 고소비층 밀집 지역 TOP 8 <br>\n",
    "    ※ WHEN: 제주시 내 10시 ~ 23시 사이 결제 <br>\n",
    "    ※ WHAT: 영세 '소매업', '음식점업' 주요 업종 매출 <br>\n",
    "- Folium 지도 시각화를 통한 지역별/업종별 비교\n",
    " </div>"
   ]
  },
  {
   "cell_type": "markdown",
   "id": "f46c3eca",
   "metadata": {},
   "source": [
    "# [서론] 신규 개인 창업을 위한 데이터 전처리\n",
    "\n",
    "### 1. WHERE: 본론 ①과 ② 교집합의 상위 동을 추려 8개 지역(읍/면/동 단위) 선정\n",
    "- 성산읍, 남원읍, 애월읍, 연동, 한림읍, 안덕면, 이도이동, 조천읍\n",
    "<!-- <div>\n",
    "<img src=\"../imgs/ppt5.jpg\", width='700'/></div> -->"
   ]
  },
  {
   "cell_type": "markdown",
   "id": "extreme-title",
   "metadata": {},
   "source": [
    "### 2. WHEN: 시간대별 구매 횟수 비교\n",
    "- relplot 활용 시간대별 동별 구매 활성화 정도 비교\n",
    "- 10 ~ 23시 기준 데이터 선별 진행\n",
    "<div>\n",
    "<img src=\"../imgs/relplot.png\", width='800'/></div>"
   ]
  },
  {
   "cell_type": "markdown",
   "id": "5dab479f",
   "metadata": {},
   "source": [
    "# [본론] WHAT 어떤 업종을?\n",
    "- 경제력이 있는 소비자층의 밀집된 지역에서 <b> 매출액이 높은 업종 탐구 </b><br>\n",
    "- 신규 창업 기준으로 '영세' 매출 데이터 기준"
   ]
  },
  {
   "cell_type": "markdown",
   "id": "abroad-chaos",
   "metadata": {},
   "source": [
    "<div>\n",
    "    <h4>제주 내 모든 지역에 대한 업종별 소비 비중 비교</h4>\n",
    "    <p>- 일부 소비 하위 지역은 시각화 제외</p>\n",
    "<img src=\"../imgs/g_type30.png\", width='1000'/></div>"
   ]
  },
  {
   "cell_type": "markdown",
   "id": "constitutional-medline",
   "metadata": {},
   "source": [
    "#### 총 소비횟수와 총 매출액이 높은 Top 10 업종\n",
    "<br>\n",
    "<div>\n",
    "<img src=\"../imgs/df5.jpg\", width='300'/></div>"
   ]
  },
  {
   "cell_type": "markdown",
   "id": "composite-universal",
   "metadata": {},
   "source": [
    "<div>\n",
    "    <h4>제주 내 모든 지역에 대한 매출액 Top10 업종 소비 비중 비교</h4>\n",
    "    <p>- 일부 소비 하위 지역은 시각화 제외</p>\n",
    "<img src=\"../imgs/g_type10.png\", width='1000'/></div>"
   ]
  },
  {
   "cell_type": "markdown",
   "id": "982d4e65",
   "metadata": {},
   "source": [
    "#### 제주시/서귀포시 소비 데이터\n",
    "- 영세 '소매업', '음식업'점 10시 ~ 23시 사이 결제 총 소비금액 순 업종 13개 기준 데이터\n",
    "- CHAPTER 1에서 선정한 소비력있는 제주도민이 주로 거주하는 동네 + 관광객이 주로 숙박하는 호텔이 위치한 읍,면,동 Top 8\n",
    "- '성산읍', '남원읍', '애월읍', '연동', '한림읍', '안덕면', '이도이동', '조천읍'\n",
    "<!-- <div>\n",
    "<img src=\"../imgs/df4_0.jpg\", width='700'/>\n",
    "<img src=\"../imgs/df4_01.jpg\", width='700'/></div> -->"
   ]
  },
  {
   "cell_type": "markdown",
   "id": "42871311",
   "metadata": {},
   "source": [
    "#### CHAPTER1에서 선정한 지역의 결제횟수 기준 업종 분포\n",
    "- 일반한식(41.6%), 서양음식(21%), 편의점(15.2%), 스넥(6.7%), 농축수산품, 슈퍼마켓, 중국음식, 정장, 기타음료식품, 주점 순\n",
    "<br>\n",
    "<div>\n",
    "<img src=\"../imgs/pie1.png\"/></div>"
   ]
  },
  {
   "cell_type": "markdown",
   "id": "a2e18df6",
   "metadata": {},
   "source": [
    "#### CHAPTER1에서 선정한 지역별 업종 소비 비중 비교\n",
    "- 지역별 순위 또한 상기 TOP 10 업종 순위와 유사\n",
    "- 일반한식 > 서양음식 > 스넥 > 편의점)\n",
    "<div>\n",
    "<img src=\"../imgs/g7.jpg\", width='900'/></div>"
   ]
  },
  {
   "cell_type": "markdown",
   "id": "9dda4442",
   "metadata": {
    "scrolled": true
   },
   "source": [
    "#### CHAPTER1에서 선정한 지역의 업종별 총 매출액 비교\n",
    "<div>\n",
    "<img src=\"../imgs/g8_1.png\", width='900'/></div>"
   ]
  },
  {
   "cell_type": "markdown",
   "id": "f1645719",
   "metadata": {},
   "source": [
    "#### 업종별 CHAPTER1에서 선정한 지역의 소비 비중 확인\n",
    "<div>\n",
    "<img src=\"../imgs/df6.jpg\", width='900'/></div>"
   ]
  },
  {
   "cell_type": "markdown",
   "id": "58ec0630",
   "metadata": {},
   "source": [
    "#### plotly bar 그래프\n",
    "<div>\n",
    "<img src=\"../imgs/g9.png\", width='900'/></div>"
   ]
  },
  {
   "cell_type": "markdown",
   "id": "e67ef8f3",
   "metadata": {},
   "source": [
    "#### 주요 업종 folium 지도 표시"
   ]
  },
  {
   "cell_type": "markdown",
   "id": "563a31d4",
   "metadata": {},
   "source": [
    "#### (1) 일반 한식\n",
    "- 연동 > 애월읍 > 이도2동\n",
    "<div>\n",
    "<img src=\"../imgs/folium_kfood.jpg\", width='850'/></div>"
   ]
  },
  {
   "cell_type": "markdown",
   "id": "17abc445",
   "metadata": {},
   "source": [
    "#### (2) 서양 음식\n",
    "- 애월읍 > 안덕면 > 이도2동\n",
    "<div>\n",
    "<img src=\"../imgs/folium_wfood.jpg\", width='850'/></div>"
   ]
  },
  {
   "cell_type": "markdown",
   "id": "887b03cc",
   "metadata": {},
   "source": [
    "#### (3) 편의점\n",
    "- 한림읍 > 애월읍 > 이도2동\n",
    "<div>\n",
    "<img src=\"../imgs/folium_cvstore.jpg\", width='870'/></div>"
   ]
  },
  {
   "cell_type": "markdown",
   "id": "4ba510d3",
   "metadata": {},
   "source": [
    "#### (4) 정장\n",
    "- 이도2동 > 연동 > 한림읍\n",
    "  - 제주도 웨딩 촬영용 맞춤 정장 및 대여 서비스 활성화\n",
    "<div>\n",
    "<img src=\"../imgs/folium_suit.jpg\", width='900'/></div>"
   ]
  },
  {
   "cell_type": "markdown",
   "id": "324096b1",
   "metadata": {},
   "source": [
    "# [결론]\n",
    "- 매출액이 높은 업종(일반한식, 서양음식, 편의점, 정장)의 분포 상위 지역은 대체로 제주시에 위치\n",
    "-  매출액이 높은 8개 지역 중에서도 고소득/고소비 거주민 밀집도가 높은 지역 (연동, 이도2동)이 상위권을 차지\n",
    "<div>\n",
    "<img src=\"../imgs/foliums.jpg\", width='900'/></div>"
   ]
  },
  {
   "cell_type": "markdown",
   "id": "bbe882f7",
   "metadata": {},
   "source": [
    "---\n",
    "# EDA 프로젝트를 마치며...\n",
    "<br>\n",
    "<div>\n",
    "<img src=\"../imgs/thankyou.jpg\", width='700'/></div>\n",
    "<br>\n",
    "\n",
    "### 1. 한계점 및 아쉬운 점\n",
    "   - 특정 업종/지역에 매출이 높다는 건 수요와 공급이 모두 많다는 뜻이고 이미 레드 오션일 수도 있으나, <br>\n",
    "     매출액이 높다는 것이 곧 인기가 많고 기회가 있는 것으로 가정하고 진행\n",
    "   - 제주도 업체 및 매출 데이터를 찾기 어려워, 고객 결제 데이터로 갈음\n",
    "   - 데이터 양이 많아 위도/경도/동 이름 변환 소요 시간이 길어 데이터의 일부만 샘플링하여 진행\n",
    "       \n",
    "### 2. 의의 및 느낀 점\n",
    "   - Pandas DataFrame과 각종 시각화 툴(Matplotlib, Seaborn, Plotly, folium 등) 사용하여 데이터에 맞는 다양한 시각화 시도\n",
    "   - 여러 개의 데이터 셋을 유기적으로 연계하여 분석 및 인사이트 도출\n",
    "   - 크롤링 및 API 사용을 통해 필요한 데이터 수급 및 전처리 수행\n",
    "   - 신혼여행 및 사진 촬영등으로 유명한 제주도의 특성에 따른 특이한 업종(ex 정장)을 발견"
   ]
  }
 ],
 "metadata": {
  "kernelspec": {
   "display_name": "Python 3",
   "language": "python",
   "name": "python3"
  },
  "language_info": {
   "codemirror_mode": {
    "name": "ipython",
    "version": 3
   },
   "file_extension": ".py",
   "mimetype": "text/x-python",
   "name": "python",
   "nbconvert_exporter": "python",
   "pygments_lexer": "ipython3",
   "version": "3.7.10"
  }
 },
 "nbformat": 4,
 "nbformat_minor": 5
}
